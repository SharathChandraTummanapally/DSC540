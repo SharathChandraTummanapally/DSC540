{
 "cells": [
  {
   "cell_type": "markdown",
   "id": "03e9dda7",
   "metadata": {},
   "source": [
    "### 1. Activity 7"
   ]
  },
  {
   "cell_type": "code",
   "execution_count": 4,
   "id": "3513aa26",
   "metadata": {},
   "outputs": [],
   "source": [
    "import pandas as pd\n",
    "import numpy as np\n",
    "import matplotlib.pyplot as plt\n",
    "%matplotlib inline\n",
    "from bs4 import BeautifulSoup\n",
    "import bs4\n",
    "import codecs\n",
    "import sqlite3\n",
    "import sqlalchemy as sqla"
   ]
  },
  {
   "cell_type": "markdown",
   "id": "408cffe0",
   "metadata": {},
   "source": [
    "### Reading Tabular Data from a Web Page and Creating DataFrames \n",
    "\n",
    "In this activity, you have been given a Wikipedia page where you have the GDP of all countries listed. You have been asked to create three DataFrames from the three sources mentioned in the page (https://en.wikipedia.org/wiki/List_of_countries_by_GDP_(nominal)):\n"
   ]
  },
  {
   "cell_type": "markdown",
   "id": "37fee4f2",
   "metadata": {},
   "source": [
    "Open the page in a separate Chrome/Firefox tab and use something like an Inspect Element tool to view the source HTML and understand its structure"
   ]
  },
  {
   "cell_type": "markdown",
   "id": "fae14d92",
   "metadata": {},
   "source": [
    "Read the page using bs4 "
   ]
  },
  {
   "cell_type": "code",
   "execution_count": 39,
   "id": "4dbaf7eb",
   "metadata": {},
   "outputs": [],
   "source": [
    "# Opening the web page to view the HTML source and to understand its structure.\n",
    "web_page = open(\"Data/List of countries by GDP (nominal) - Wikipedia.htm\",\"r\")\n",
    "\n",
    "# Reading the page using bs4.\n",
    "soup = BeautifulSoup(web_page)\n",
    "web_page.close()"
   ]
  },
  {
   "cell_type": "markdown",
   "id": "5be8d0fd",
   "metadata": {},
   "source": [
    "Find the table structure you will need to deal with (how many tables there are?) "
   ]
  },
  {
   "cell_type": "code",
   "execution_count": 41,
   "id": "2bcb3426",
   "metadata": {},
   "outputs": [
    {
     "name": "stdout",
     "output_type": "stream",
     "text": [
      "Total tables are: 9\n"
     ]
    }
   ],
   "source": [
    "# Counting the number of tables.\n",
    "total_tables = soup.find_all(\"table\")\n",
    "print('Total tables are:', len(total_tables))"
   ]
  },
  {
   "cell_type": "markdown",
   "id": "c6bfc2a2",
   "metadata": {},
   "source": [
    "Find the right table using bs4 "
   ]
  },
  {
   "cell_type": "code",
   "execution_count": 46,
   "id": "ff3f18cc",
   "metadata": {},
   "outputs": [
    {
     "data": {
      "text/plain": [
       "bs4.element.Tag"
      ]
     },
     "execution_count": 46,
     "metadata": {},
     "output_type": "execute_result"
    }
   ],
   "source": [
    "# Finding the table needed for the exercise.\n",
    "data_tbl = soup.find('table', {'class': '\"wikitable\"|}'})\n",
    "\n",
    "# Displaying the type of table.\n",
    "type(data_tbl)"
   ]
  },
  {
   "cell_type": "markdown",
   "id": "753cc0d7",
   "metadata": {},
   "source": [
    "Separate the source names and their corresponding data "
   ]
  },
  {
   "cell_type": "code",
   "execution_count": 55,
   "id": "1c02f101",
   "metadata": {},
   "outputs": [
    {
     "name": "stdout",
     "output_type": "stream",
     "text": [
      "Total tables are: 3\n",
      "Total data tables are: 3\n"
     ]
    }
   ],
   "source": [
    "# Seperating the source names and their data.\n",
    "web_page_sources = data_tbl.tbody.findAll('tr', recursive=False)[0]\n",
    "\n",
    "# Getting sources list.\n",
    "web_page_sources_list = [td for td in web_page_sources.findAll('td')]\n",
    "print('Total tables are:', len(web_page_sources_list))\n",
    "\n",
    "# Finding their corresponding data.\n",
    "data = data_tbl.tbody.findAll('tr', recursive=False)[1].findAll('td', recursive=False)\n",
    "\n",
    "d_tables = []     \n",
    "for td in data:\n",
    "    d_tables.append(td.findAll('table'))\n",
    "print('Total data tables are:',len(d_tables))      "
   ]
  },
  {
   "cell_type": "markdown",
   "id": "6ad32e5e",
   "metadata": {},
   "source": [
    "Get the source names from the list of sources you have created "
   ]
  },
  {
   "cell_type": "code",
   "execution_count": 57,
   "id": "6ac0817e",
   "metadata": {},
   "outputs": [
    {
     "data": {
      "text/plain": [
       "['International Monetary Fund', 'World Bank', 'United Nations']"
      ]
     },
     "execution_count": 57,
     "metadata": {},
     "output_type": "execute_result"
    }
   ],
   "source": [
    "# Getting source names by using findAll function parsed to 'a' and then getText(), itered in a list.\n",
    "web_src_names = [s.findAll('a')[0].getText() for s in web_page_sources_list]\n",
    "web_src_names"
   ]
  },
  {
   "cell_type": "markdown",
   "id": "503a0cf4",
   "metadata": {},
   "source": [
    "Separate the header and data from the data that you separated before for the first source only, and then create a DataFrame using that "
   ]
  },
  {
   "cell_type": "code",
   "execution_count": 58,
   "id": "2b8f287a",
   "metadata": {},
   "outputs": [
    {
     "data": {
      "text/plain": [
       "['Rank', 'Country', 'GDP(US$MM)']"
      ]
     },
     "execution_count": 58,
     "metadata": {},
     "output_type": "execute_result"
    }
   ],
   "source": [
    "# finding the dataframe for the first datasource\n",
    "# first, will seperate the header with the .strip() command in a for loop extracting 'thead'\n",
    "# then, finding the rows through the tbody using the findAll() function\n",
    "# then, finding the data from the rows with the strip() function parsing td\n",
    "# then using pandas DataFrame() function to convert to a dataframe\n",
    "header1 = [th.getText().strip() for th in d_tables[0][0].findAll('thead')[0].findAll('th')]\n",
    "header1"
   ]
  },
  {
   "cell_type": "code",
   "execution_count": 62,
   "id": "8516d4c3",
   "metadata": {},
   "outputs": [
    {
     "data": {
      "text/html": [
       "<div>\n",
       "<style scoped>\n",
       "    .dataframe tbody tr th:only-of-type {\n",
       "        vertical-align: middle;\n",
       "    }\n",
       "\n",
       "    .dataframe tbody tr th {\n",
       "        vertical-align: top;\n",
       "    }\n",
       "\n",
       "    .dataframe thead th {\n",
       "        text-align: right;\n",
       "    }\n",
       "</style>\n",
       "<table border=\"1\" class=\"dataframe\">\n",
       "  <thead>\n",
       "    <tr style=\"text-align: right;\">\n",
       "      <th></th>\n",
       "      <th>Rank</th>\n",
       "      <th>Country</th>\n",
       "      <th>GDP(US$MM)</th>\n",
       "    </tr>\n",
       "  </thead>\n",
       "  <tbody>\n",
       "    <tr>\n",
       "      <th>0</th>\n",
       "      <td>1</td>\n",
       "      <td>United States</td>\n",
       "      <td>19,390,600</td>\n",
       "    </tr>\n",
       "    <tr>\n",
       "      <th>1</th>\n",
       "      <td>2</td>\n",
       "      <td>China[n 1]</td>\n",
       "      <td>12,014,610</td>\n",
       "    </tr>\n",
       "    <tr>\n",
       "      <th>2</th>\n",
       "      <td>3</td>\n",
       "      <td>Japan</td>\n",
       "      <td>4,872,135</td>\n",
       "    </tr>\n",
       "    <tr>\n",
       "      <th>3</th>\n",
       "      <td>4</td>\n",
       "      <td>Germany</td>\n",
       "      <td>3,684,816</td>\n",
       "    </tr>\n",
       "    <tr>\n",
       "      <th>4</th>\n",
       "      <td>5</td>\n",
       "      <td>United Kingdom</td>\n",
       "      <td>2,624,529</td>\n",
       "    </tr>\n",
       "    <tr>\n",
       "      <th>...</th>\n",
       "      <td>...</td>\n",
       "      <td>...</td>\n",
       "      <td>...</td>\n",
       "    </tr>\n",
       "    <tr>\n",
       "      <th>186</th>\n",
       "      <td>186</td>\n",
       "      <td>Federated States of Micronesia</td>\n",
       "      <td>329</td>\n",
       "    </tr>\n",
       "    <tr>\n",
       "      <th>187</th>\n",
       "      <td>187</td>\n",
       "      <td>Palau</td>\n",
       "      <td>321</td>\n",
       "    </tr>\n",
       "    <tr>\n",
       "      <th>188</th>\n",
       "      <td>188</td>\n",
       "      <td>Marshall Islands</td>\n",
       "      <td>199</td>\n",
       "    </tr>\n",
       "    <tr>\n",
       "      <th>189</th>\n",
       "      <td>189</td>\n",
       "      <td>Kiribati</td>\n",
       "      <td>186</td>\n",
       "    </tr>\n",
       "    <tr>\n",
       "      <th>190</th>\n",
       "      <td>190</td>\n",
       "      <td>Tuvalu</td>\n",
       "      <td>40</td>\n",
       "    </tr>\n",
       "  </tbody>\n",
       "</table>\n",
       "<p>191 rows × 3 columns</p>\n",
       "</div>"
      ],
      "text/plain": [
       "    Rank                         Country  GDP(US$MM)\n",
       "0      1                   United States  19,390,600\n",
       "1      2                      China[n 1]  12,014,610\n",
       "2      3                           Japan   4,872,135\n",
       "3      4                         Germany   3,684,816\n",
       "4      5                  United Kingdom   2,624,529\n",
       "..   ...                             ...         ...\n",
       "186  186  Federated States of Micronesia         329\n",
       "187  187                           Palau         321\n",
       "188  188                Marshall Islands         199\n",
       "189  189                        Kiribati         186\n",
       "190  190                          Tuvalu          40\n",
       "\n",
       "[191 rows x 3 columns]"
      ]
     },
     "execution_count": 62,
     "metadata": {},
     "output_type": "execute_result"
    }
   ],
   "source": [
    "rows1 = d_tables[0][0].findAll('tbody')[0].findAll('tr')[1:]\n",
    "d_rows1 = [[td.get_text().strip() for td in tr.findAll('td')] for tr in rows1]\n",
    "df1 = pd.DataFrame(d_rows1, columns=header_1)\n",
    "df1"
   ]
  },
  {
   "cell_type": "markdown",
   "id": "ece87c43",
   "metadata": {},
   "source": [
    "Repeat the last task for the other two data sources"
   ]
  },
  {
   "cell_type": "code",
   "execution_count": 63,
   "id": "5f17e314",
   "metadata": {},
   "outputs": [
    {
     "data": {
      "text/plain": [
       "['Rank', 'Country', 'GDP(US$MM)']"
      ]
     },
     "execution_count": 63,
     "metadata": {},
     "output_type": "execute_result"
    }
   ],
   "source": [
    "# Repeating the prior process for the other 2 sources with the same logic\n",
    "header2 = [th.getText().strip() for th in d_tables[1][0].findAll('thead')[0].findAll('th')]\n",
    "header2"
   ]
  },
  {
   "cell_type": "code",
   "execution_count": 64,
   "id": "f01c038a",
   "metadata": {},
   "outputs": [
    {
     "data": {
      "text/html": [
       "<div>\n",
       "<style scoped>\n",
       "    .dataframe tbody tr th:only-of-type {\n",
       "        vertical-align: middle;\n",
       "    }\n",
       "\n",
       "    .dataframe tbody tr th {\n",
       "        vertical-align: top;\n",
       "    }\n",
       "\n",
       "    .dataframe thead th {\n",
       "        text-align: right;\n",
       "    }\n",
       "</style>\n",
       "<table border=\"1\" class=\"dataframe\">\n",
       "  <thead>\n",
       "    <tr style=\"text-align: right;\">\n",
       "      <th></th>\n",
       "      <th>Rank</th>\n",
       "      <th>Country</th>\n",
       "      <th>GDP(US$MM)</th>\n",
       "    </tr>\n",
       "  </thead>\n",
       "  <tbody>\n",
       "    <tr>\n",
       "      <th>0</th>\n",
       "      <td>1</td>\n",
       "      <td>United States</td>\n",
       "      <td>19,390,604</td>\n",
       "    </tr>\n",
       "    <tr>\n",
       "      <th>1</th>\n",
       "      <td></td>\n",
       "      <td>European Union[23]</td>\n",
       "      <td>17,277,698</td>\n",
       "    </tr>\n",
       "    <tr>\n",
       "      <th>2</th>\n",
       "      <td>2</td>\n",
       "      <td>China[n 4]</td>\n",
       "      <td>12,237,700</td>\n",
       "    </tr>\n",
       "    <tr>\n",
       "      <th>3</th>\n",
       "      <td>3</td>\n",
       "      <td>Japan</td>\n",
       "      <td>4,872,137</td>\n",
       "    </tr>\n",
       "    <tr>\n",
       "      <th>4</th>\n",
       "      <td>4</td>\n",
       "      <td>Germany</td>\n",
       "      <td>3,677,439</td>\n",
       "    </tr>\n",
       "    <tr>\n",
       "      <th>...</th>\n",
       "      <td>...</td>\n",
       "      <td>...</td>\n",
       "      <td>...</td>\n",
       "    </tr>\n",
       "    <tr>\n",
       "      <th>184</th>\n",
       "      <td>184</td>\n",
       "      <td>Palau</td>\n",
       "      <td>292</td>\n",
       "    </tr>\n",
       "    <tr>\n",
       "      <th>185</th>\n",
       "      <td>185</td>\n",
       "      <td>Marshall Islands</td>\n",
       "      <td>199</td>\n",
       "    </tr>\n",
       "    <tr>\n",
       "      <th>186</th>\n",
       "      <td>186</td>\n",
       "      <td>Kiribati</td>\n",
       "      <td>196</td>\n",
       "    </tr>\n",
       "    <tr>\n",
       "      <th>187</th>\n",
       "      <td>187</td>\n",
       "      <td>Nauru</td>\n",
       "      <td>114</td>\n",
       "    </tr>\n",
       "    <tr>\n",
       "      <th>188</th>\n",
       "      <td>188</td>\n",
       "      <td>Tuvalu</td>\n",
       "      <td>40</td>\n",
       "    </tr>\n",
       "  </tbody>\n",
       "</table>\n",
       "<p>189 rows × 3 columns</p>\n",
       "</div>"
      ],
      "text/plain": [
       "    Rank             Country  GDP(US$MM)\n",
       "0      1       United States  19,390,604\n",
       "1         European Union[23]  17,277,698\n",
       "2      2          China[n 4]  12,237,700\n",
       "3      3               Japan   4,872,137\n",
       "4      4             Germany   3,677,439\n",
       "..   ...                 ...         ...\n",
       "184  184               Palau         292\n",
       "185  185    Marshall Islands         199\n",
       "186  186            Kiribati         196\n",
       "187  187               Nauru         114\n",
       "188  188              Tuvalu          40\n",
       "\n",
       "[189 rows x 3 columns]"
      ]
     },
     "execution_count": 64,
     "metadata": {},
     "output_type": "execute_result"
    }
   ],
   "source": [
    "rows2 = d_tables[1][0].findAll('tbody')[0].findAll('tr')[1:]\n",
    "# Will need to add a custom function to strip ♠ out of the data, since I ran it in the same\n",
    "# logic of prior and I was getting huge numbers and ♠ icon that needs to be removed\n",
    "def text_strip(i, td):\n",
    "    if i == 0:\n",
    "        return td.getText().strip()\n",
    "    elif i == 1:\n",
    "        return td.getText().strip()\n",
    "    else:\n",
    "        ind = td.text.find('♠')\n",
    "        return td.text[ind+1:].strip()\n",
    "# Altering d_rows_2 to add the text_strip() function created to strip the unwanted data including ♠ icon\n",
    "d_rows2 = [[text_strip(i, td) for i, td in enumerate(tr.findAll('td'))] for tr in rows2]\n",
    "df2 = pd.DataFrame(d_rows2, columns=header2)\n",
    "df2"
   ]
  },
  {
   "cell_type": "code",
   "execution_count": 66,
   "id": "69fbf06d",
   "metadata": {},
   "outputs": [
    {
     "data": {
      "text/plain": [
       "['Rank', 'Country', 'GDP(US$MM)']"
      ]
     },
     "execution_count": 66,
     "metadata": {},
     "output_type": "execute_result"
    }
   ],
   "source": [
    "# Last source will be repeated same as the source source since it has the same contents that needed\n",
    "# to be removed\n",
    "header3 = [th.getText().strip() for th in d_tables[2][0].findAll('thead')[0].findAll('th')]\n",
    "header3"
   ]
  },
  {
   "cell_type": "code",
   "execution_count": 67,
   "id": "216d1b4f",
   "metadata": {},
   "outputs": [
    {
     "data": {
      "text/html": [
       "<div>\n",
       "<style scoped>\n",
       "    .dataframe tbody tr th:only-of-type {\n",
       "        vertical-align: middle;\n",
       "    }\n",
       "\n",
       "    .dataframe tbody tr th {\n",
       "        vertical-align: top;\n",
       "    }\n",
       "\n",
       "    .dataframe thead th {\n",
       "        text-align: right;\n",
       "    }\n",
       "</style>\n",
       "<table border=\"1\" class=\"dataframe\">\n",
       "  <thead>\n",
       "    <tr style=\"text-align: right;\">\n",
       "      <th></th>\n",
       "      <th>Rank</th>\n",
       "      <th>Country</th>\n",
       "      <th>GDP(US$MM)</th>\n",
       "    </tr>\n",
       "  </thead>\n",
       "  <tbody>\n",
       "    <tr>\n",
       "      <th>0</th>\n",
       "      <td>1</td>\n",
       "      <td>United States</td>\n",
       "      <td>18,624,475</td>\n",
       "    </tr>\n",
       "    <tr>\n",
       "      <th>1</th>\n",
       "      <td>2</td>\n",
       "      <td>China[n 4]</td>\n",
       "      <td>11,218,281</td>\n",
       "    </tr>\n",
       "    <tr>\n",
       "      <th>2</th>\n",
       "      <td>3</td>\n",
       "      <td>Japan</td>\n",
       "      <td>4,936,211</td>\n",
       "    </tr>\n",
       "    <tr>\n",
       "      <th>3</th>\n",
       "      <td>4</td>\n",
       "      <td>Germany</td>\n",
       "      <td>3,477,796</td>\n",
       "    </tr>\n",
       "    <tr>\n",
       "      <th>4</th>\n",
       "      <td>5</td>\n",
       "      <td>United Kingdom</td>\n",
       "      <td>2,647,898</td>\n",
       "    </tr>\n",
       "    <tr>\n",
       "      <th>...</th>\n",
       "      <td>...</td>\n",
       "      <td>...</td>\n",
       "      <td>...</td>\n",
       "    </tr>\n",
       "    <tr>\n",
       "      <th>206</th>\n",
       "      <td>207</td>\n",
       "      <td>Marshall Islands</td>\n",
       "      <td>209</td>\n",
       "    </tr>\n",
       "    <tr>\n",
       "      <th>207</th>\n",
       "      <td>208</td>\n",
       "      <td>Nauru</td>\n",
       "      <td>182</td>\n",
       "    </tr>\n",
       "    <tr>\n",
       "      <th>208</th>\n",
       "      <td>209</td>\n",
       "      <td>Kiribati</td>\n",
       "      <td>180</td>\n",
       "    </tr>\n",
       "    <tr>\n",
       "      <th>209</th>\n",
       "      <td>210</td>\n",
       "      <td>Montserrat</td>\n",
       "      <td>63</td>\n",
       "    </tr>\n",
       "    <tr>\n",
       "      <th>210</th>\n",
       "      <td>211</td>\n",
       "      <td>Tuvalu</td>\n",
       "      <td>38</td>\n",
       "    </tr>\n",
       "  </tbody>\n",
       "</table>\n",
       "<p>211 rows × 3 columns</p>\n",
       "</div>"
      ],
      "text/plain": [
       "    Rank           Country  GDP(US$MM)\n",
       "0      1     United States  18,624,475\n",
       "1      2        China[n 4]  11,218,281\n",
       "2      3             Japan   4,936,211\n",
       "3      4           Germany   3,477,796\n",
       "4      5    United Kingdom   2,647,898\n",
       "..   ...               ...         ...\n",
       "206  207  Marshall Islands         209\n",
       "207  208             Nauru         182\n",
       "208  209          Kiribati         180\n",
       "209  210        Montserrat          63\n",
       "210  211            Tuvalu          38\n",
       "\n",
       "[211 rows x 3 columns]"
      ]
     },
     "execution_count": 67,
     "metadata": {},
     "output_type": "execute_result"
    }
   ],
   "source": [
    "rows3 = d_tables[2][0].findAll('tbody')[0].findAll('tr')[1:]\n",
    "d_rows3 = [[text_strip(i, td) for i, td in enumerate(tr.findAll('td'))] for tr in rows3]\n",
    "df3 = pd.DataFrame(d_rows3, columns=header3)\n",
    "df3"
   ]
  },
  {
   "cell_type": "markdown",
   "id": "fa9e26dd",
   "metadata": {},
   "source": [
    "### 2. Activity 8"
   ]
  },
  {
   "cell_type": "markdown",
   "id": "6a53d407",
   "metadata": {},
   "source": [
    "Handling Outliers and Missing Data In this activity, we will identify and get rid of outliers. Here, we have a CSV file. The goal here is to clean the data by using the knowledge that we have learned about so far and come up with a nicely formatted DataFrame. Identify the type of outliers and their effect on the data and clean the messy data. The steps that will help you solve this activity are as follows:\n"
   ]
  },
  {
   "cell_type": "markdown",
   "id": "47828a28",
   "metadata": {},
   "source": [
    "Read the visit_data.csv file. \n",
    "\n",
    "Check for duplicates. \n",
    "\n",
    "Check if any essential column contains NaN. \n",
    "\n",
    "Get rid of the outliers. \n",
    "\n",
    "Report the size difference. \n",
    "\n",
    "Create a box plot to check for outliers. \n",
    "\n",
    "Get rid of any outliers."
   ]
  },
  {
   "cell_type": "code",
   "execution_count": 71,
   "id": "ab642a76",
   "metadata": {},
   "outputs": [
    {
     "data": {
      "text/html": [
       "<div>\n",
       "<style scoped>\n",
       "    .dataframe tbody tr th:only-of-type {\n",
       "        vertical-align: middle;\n",
       "    }\n",
       "\n",
       "    .dataframe tbody tr th {\n",
       "        vertical-align: top;\n",
       "    }\n",
       "\n",
       "    .dataframe thead th {\n",
       "        text-align: right;\n",
       "    }\n",
       "</style>\n",
       "<table border=\"1\" class=\"dataframe\">\n",
       "  <thead>\n",
       "    <tr style=\"text-align: right;\">\n",
       "      <th></th>\n",
       "      <th>id</th>\n",
       "      <th>first_name</th>\n",
       "      <th>last_name</th>\n",
       "      <th>email</th>\n",
       "      <th>gender</th>\n",
       "      <th>ip_address</th>\n",
       "      <th>visit</th>\n",
       "    </tr>\n",
       "  </thead>\n",
       "  <tbody>\n",
       "    <tr>\n",
       "      <th>0</th>\n",
       "      <td>1</td>\n",
       "      <td>Sonny</td>\n",
       "      <td>Dahl</td>\n",
       "      <td>sdahl0@mysql.com</td>\n",
       "      <td>Male</td>\n",
       "      <td>135.36.96.183</td>\n",
       "      <td>1225.0</td>\n",
       "    </tr>\n",
       "    <tr>\n",
       "      <th>1</th>\n",
       "      <td>2</td>\n",
       "      <td>NaN</td>\n",
       "      <td>NaN</td>\n",
       "      <td>dhoovart1@hud.gov</td>\n",
       "      <td>NaN</td>\n",
       "      <td>237.165.194.143</td>\n",
       "      <td>919.0</td>\n",
       "    </tr>\n",
       "    <tr>\n",
       "      <th>2</th>\n",
       "      <td>3</td>\n",
       "      <td>Gar</td>\n",
       "      <td>Armal</td>\n",
       "      <td>garmal2@technorati.com</td>\n",
       "      <td>NaN</td>\n",
       "      <td>166.43.137.224</td>\n",
       "      <td>271.0</td>\n",
       "    </tr>\n",
       "    <tr>\n",
       "      <th>3</th>\n",
       "      <td>4</td>\n",
       "      <td>Chiarra</td>\n",
       "      <td>Nulty</td>\n",
       "      <td>cnulty3@newyorker.com</td>\n",
       "      <td>NaN</td>\n",
       "      <td>139.98.137.108</td>\n",
       "      <td>1002.0</td>\n",
       "    </tr>\n",
       "    <tr>\n",
       "      <th>4</th>\n",
       "      <td>5</td>\n",
       "      <td>NaN</td>\n",
       "      <td>NaN</td>\n",
       "      <td>sleaver4@elegantthemes.com</td>\n",
       "      <td>NaN</td>\n",
       "      <td>46.117.117.27</td>\n",
       "      <td>2434.0</td>\n",
       "    </tr>\n",
       "  </tbody>\n",
       "</table>\n",
       "</div>"
      ],
      "text/plain": [
       "   id first_name last_name                       email gender  \\\n",
       "0   1      Sonny      Dahl            sdahl0@mysql.com   Male   \n",
       "1   2        NaN       NaN           dhoovart1@hud.gov    NaN   \n",
       "2   3        Gar     Armal      garmal2@technorati.com    NaN   \n",
       "3   4    Chiarra     Nulty       cnulty3@newyorker.com    NaN   \n",
       "4   5        NaN       NaN  sleaver4@elegantthemes.com    NaN   \n",
       "\n",
       "        ip_address   visit  \n",
       "0    135.36.96.183  1225.0  \n",
       "1  237.165.194.143   919.0  \n",
       "2   166.43.137.224   271.0  \n",
       "3   139.98.137.108  1002.0  \n",
       "4    46.117.117.27  2434.0  "
      ]
     },
     "execution_count": 71,
     "metadata": {},
     "output_type": "execute_result"
    }
   ],
   "source": [
    "# Reading csv file with read_csv() function then showing data with head() function\n",
    "df4 = pd.read_csv('Data/visit_data.csv')\n",
    "df4.head()"
   ]
  },
  {
   "cell_type": "code",
   "execution_count": 76,
   "id": "fa91673d",
   "metadata": {},
   "outputs": [
    {
     "name": "stdout",
     "output_type": "stream",
     "text": [
      "Does First name has duplicates? - True\n",
      "Does Last name has duplicates? - True\n",
      "Does E-mail has duplicates? - False\n"
     ]
    }
   ],
   "source": [
    "# Checking for duplicates using any() function to determine if true or false and duplicated() function\n",
    "# to find the duplicates in a certain variable\n",
    "print(f'Does First name has duplicates? - {any(df4.first_name.duplicated())}')\n",
    "print(f'Does Last name has duplicates? - {any(df4.last_name.duplicated())}')\n",
    "print(f'Does E-mail has duplicates? - {any(df4.email.duplicated())}')"
   ]
  },
  {
   "cell_type": "code",
   "execution_count": 78,
   "id": "48a69248",
   "metadata": {},
   "outputs": [
    {
     "name": "stdout",
     "output_type": "stream",
     "text": [
      "Does Email column contain NaN? - False\n",
      "Does IP Address column contain NaN? - False\n",
      "Does Visit column contain NaN? - True\n"
     ]
    }
   ],
   "source": [
    "# Checking for NaNs in important columns\n",
    "# this is done by using any() with isnull function similar to finding duplicates\n",
    "print(f'Does Email column contain NaN? - {df4.email.isnull().values.any()}')\n",
    "print(f'Does IP Address column contain NaN? - {df4.ip_address.isnull().values.any()}')\n",
    "print(f'Does Visit column contain NaN? - {df4.visit.isnull().values.any()}')"
   ]
  },
  {
   "cell_type": "code",
   "execution_count": 83,
   "id": "e3080d75",
   "metadata": {},
   "outputs": [],
   "source": [
    "# Getting rid of outliters which willl be the NaN's found in visit\n",
    "# Will use the np.isfinite function in Numpy to remove NaN's from the visit column\n",
    "# Then will check on the data size before and after\n",
    "oldsize = df4.shape\n",
    "df4 = df4[np.isfinite(df4['visit'])]\n",
    "newsize = df4.shape\n",
    "#print(f'Size before: {before[0]}\\nSize After: {after[0]}')"
   ]
  },
  {
   "cell_type": "code",
   "execution_count": 87,
   "id": "8255cc1c",
   "metadata": {},
   "outputs": [
    {
     "name": "stdout",
     "output_type": "stream",
     "text": [
      "The size of previous data was - 974 rows and the size of the new one is - 974 rows\n"
     ]
    }
   ],
   "source": [
    "print(\"The size of previous data was - {oldsize[0]} rows and the size of the new one is - {newsize[0]} rows\". format(oldsize=oldsize, newsize=newsize))\n"
   ]
  },
  {
   "cell_type": "code",
   "execution_count": 88,
   "id": "779d22a2",
   "metadata": {},
   "outputs": [
    {
     "data": {
      "text/plain": [
       "{'whiskers': [<matplotlib.lines.Line2D at 0x7f80687d75e0>,\n",
       "  <matplotlib.lines.Line2D at 0x7f80687d7940>],\n",
       " 'caps': [<matplotlib.lines.Line2D at 0x7f80687d7ca0>,\n",
       "  <matplotlib.lines.Line2D at 0x7f80687bf040>],\n",
       " 'boxes': [<matplotlib.lines.Line2D at 0x7f80687d7280>],\n",
       " 'medians': [<matplotlib.lines.Line2D at 0x7f80687bf3a0>],\n",
       " 'fliers': [<matplotlib.lines.Line2D at 0x7f80687bf700>],\n",
       " 'means': []}"
      ]
     },
     "execution_count": 88,
     "metadata": {},
     "output_type": "execute_result"
    },
    {
     "data": {
      "image/png": "[encoded data removed]",
      "text/plain": [
       "<Figure size 432x288 with 1 Axes>"
      ]
     },
     "metadata": {
      "needs_background": "light"
     },
     "output_type": "display_data"
    }
   ],
   "source": [
    "# Creating a boxplot on the visit column to check for the outliers\n",
    "plt.boxplot(df4.visit, notch=True)"
   ]
  },
  {
   "cell_type": "code",
   "execution_count": 91,
   "id": "36707848",
   "metadata": {},
   "outputs": [
    {
     "name": "stdout",
     "output_type": "stream",
     "text": [
      "After removing outliers, the data size is: (923, 7)\n"
     ]
    }
   ],
   "source": [
    "# Will get rid of values after 2900 and lower than 100\n",
    "df5 = df4[(df4['visit'] <= 2900) & (df4['visit'] >= 100)]\n",
    "print(f'After removing outliers, the data size is: {df5.shape}')"
   ]
  },
  {
   "cell_type": "markdown",
   "id": "ef1a5ea7",
   "metadata": {},
   "source": [
    "### 3. Insert data into a SQL Lite database – create a table with the following data (Hint: Python for Data Analysis page 191):\n",
    "\n",
    "a. Name, Address, City, State, Zip, Phone Number\n",
    "\n",
    "b. Add at least 10 rows of data and submit your code with a query generating your results."
   ]
  },
  {
   "cell_type": "code",
   "execution_count": 98,
   "id": "4e43c9f0",
   "metadata": {},
   "outputs": [],
   "source": [
    "# Creating the query.\n",
    "query = \"\"\"\n",
    "CREATE TABLE tbl_contact_info\n",
    "(Name VARCHAR(40), Address VARCHAR(50), \n",
    "City VARCHAR(40), State VARCHAR(2),\n",
    "Zip INTEGER(5), Phone_Number INTEGER(10)\n",
    ");\"\"\""
   ]
  },
  {
   "cell_type": "code",
   "execution_count": 99,
   "id": "d165ea97",
   "metadata": {},
   "outputs": [],
   "source": [
    "# Executing the query using sqlite3.\n",
    "con = sqlite3.connect('mydata_1.sqlite')\n",
    "con.execute(query)\n",
    "\n",
    "# Committing the query.\n",
    "con.commit()"
   ]
  },
  {
   "cell_type": "code",
   "execution_count": 101,
   "id": "40d7a42d",
   "metadata": {},
   "outputs": [],
   "source": [
    "# Creating the random data to insert into the database.\n",
    "data = [('Alex G', '111 Red Street', 'Orlando', 'FL', 60000, 1111111111), \n",
    "        ('Bob K', '222 Orange Street', 'Chicago', 'IL', 60001, 2222222222), \n",
    "        ('Catherine D', '333 Blue Street', 'Detroit', 'MI', 50001, 3333333333), \n",
    "        ('Doug E', '444 Black Street', 'Dallas', 'TX', 50002, 4444444444), \n",
    "        ('Ester G', '555 Silver Street', 'New York', 'NY', 50010, 5555555555), \n",
    "        ('John Doe', '666 Yellow Street', 'Boston', 'MA', 60080, 6666666666),\n",
    "        ('Murphy F', '777 Brown Street', 'Los Angeles', 'CA', 61090, 7777777777),\n",
    "        ('Katie P', '888 Gold Street', 'Las Vegas', 'NV', 60200, 8888888888), \n",
    "        ('Shawn C', '999 Violet Street', 'Celveland', 'OH', 80080, 9999999999), \n",
    "        ('Joey T', '123 Green Street', 'Reston', 'VA', 90010, 1231231231)]"
   ]
  },
  {
   "cell_type": "code",
   "execution_count": 102,
   "id": "508317b7",
   "metadata": {},
   "outputs": [
    {
     "data": {
      "text/plain": [
       "<sqlite3.Cursor at 0x7f8028388b20>"
      ]
     },
     "execution_count": 102,
     "metadata": {},
     "output_type": "execute_result"
    }
   ],
   "source": [
    "# SQL command to insert data into table.\n",
    "stmt = \"INSERT INTO tbl_contact_info VALUES(?, ?, ?, ?, ?, ?)\"\n",
    "\n",
    "# Inserting data into table.\n",
    "con.executemany(stmt, data)"
   ]
  },
  {
   "cell_type": "code",
   "execution_count": 103,
   "id": "3f5fa8e8",
   "metadata": {},
   "outputs": [
    {
     "data": {
      "text/plain": [
       "[('Alex G', '111 Red Street', 'Orlando', 'FL', 60000, 1111111111),\n",
       " ('Bob K', '222 Orange Street', 'Chicago', 'IL', 60001, 2222222222),\n",
       " ('Catherine D', '333 Blue Street', 'Detroit', 'MI', 50001, 3333333333),\n",
       " ('Doug E', '444 Black Street', 'Dallas', 'TX', 50002, 4444444444),\n",
       " ('Ester G', '555 Silver Street', 'New York', 'NY', 50010, 5555555555),\n",
       " ('John Doe', '666 Yellow Street', 'Boston', 'MA', 60080, 6666666666),\n",
       " ('Murphy F', '777 Brown Street', 'Los Angeles', 'CA', 61090, 7777777777),\n",
       " ('Katie P', '888 Gold Street', 'Las Vegas', 'NV', 60200, 8888888888),\n",
       " ('Shawn C', '999 Violet Street', 'Celveland', 'OH', 80080, 9999999999),\n",
       " ('Joey T', '123 Green Street', 'Reston', 'VA', 90010, 1231231231)]"
      ]
     },
     "execution_count": 103,
     "metadata": {},
     "output_type": "execute_result"
    }
   ],
   "source": [
    "# Selecting data from SQL table.\n",
    "cursor = con.execute('select * from tbl_contact_info')\n",
    "cursor.fetchall()"
   ]
  },
  {
   "cell_type": "code",
   "execution_count": null,
   "id": "a337e905",
   "metadata": {},
   "outputs": [],
   "source": []
  }
 ],
 "metadata": {
  "kernelspec": {
   "display_name": "Python 3",
   "language": "python",
   "name": "python3"
  },
  "language_info": {
   "codemirror_mode": {
    "name": "ipython",
    "version": 3
   },
   "file_extension": ".py",
   "mimetype": "text/x-python",
   "name": "python",
   "nbconvert_exporter": "python",
   "pygments_lexer": "ipython3",
   "version": "3.8.8"
  }
 },
 "nbformat": 4,
 "nbformat_minor": 5
}
