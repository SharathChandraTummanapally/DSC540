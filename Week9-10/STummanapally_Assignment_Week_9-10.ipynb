{
 "cells": [
  {
   "cell_type": "markdown",
   "id": "56505019",
   "metadata": {},
   "source": [
    "### Data Wrangling with Python: Activity 9, page 294"
   ]
  },
  {
   "cell_type": "markdown",
   "id": "5502ab69",
   "metadata": {},
   "source": [
    "Extracting the Top 100 eBooks from Gutenberg Project Gutenberg encourages the creation and distribution of eBooks by encouraging volunteer efforts to digitize and archive cultural works. This activity aims to scrape the URL of Project Gutenberg's Top 100 eBooks to identify the eBooks' links. It uses BeautifulSoup4 to parse the HTML and regular expression code to identify the Top 100 eBook file numbers. You can use those book ID numbers to download the book into your local drive if you want. Head over to the supplied Jupyter notebook (in the GitHub repository) to work on this activity. These are the steps that will help you solve this activity:"
   ]
  },
  {
   "cell_type": "markdown",
   "id": "d3e62996",
   "metadata": {},
   "source": [
    "Import the necessary libraries, including regex and beautifulsoup."
   ]
  },
  {
   "cell_type": "code",
   "execution_count": 59,
   "id": "cebfffe3",
   "metadata": {},
   "outputs": [],
   "source": [
    "import urllib.request, urllib.parse, urllib.error\n",
    "import requests\n",
    "from bs4 import BeautifulSoup\n",
    "import ssl\n",
    "import re"
   ]
  },
  {
   "cell_type": "markdown",
   "id": "7bf5081b",
   "metadata": {},
   "source": [
    "Check the SSL certificate."
   ]
  },
  {
   "cell_type": "code",
   "execution_count": 60,
   "id": "69be08e3",
   "metadata": {},
   "outputs": [],
   "source": [
    "# Ignore SSL certificate errors\n",
    "ctx = ssl.create_default_context()\n",
    "ctx.check_hostname = False\n",
    "ctx.verify_mode = ssl.CERT_NONE"
   ]
  },
  {
   "cell_type": "markdown",
   "id": "fa824678",
   "metadata": {},
   "source": [
    "Read the HTML from the URL."
   ]
  },
  {
   "cell_type": "code",
   "execution_count": 61,
   "id": "8e828f2d",
   "metadata": {},
   "outputs": [],
   "source": [
    "# Reading the HTML from the URL\n",
    "Gut_url = 'https://www.gutenberg.org/browse/scores/top'\n",
    "response = requests.get(Gut_url)"
   ]
  },
  {
   "cell_type": "markdown",
   "id": "1c70d14b",
   "metadata": {},
   "source": [
    "Write a small function to check the status of the web request."
   ]
  },
  {
   "cell_type": "code",
   "execution_count": 63,
   "id": "d931f14a",
   "metadata": {},
   "outputs": [],
   "source": [
    "# Defining a function to check the status\n",
    "def status_check(r):\n",
    "    if r.status_code==200:\n",
    "        print(\"Connection is successful\")\n",
    "        return 1\n",
    "    else:\n",
    "        print(\"Connection is failed\")\n",
    "        return -1\n"
   ]
  },
  {
   "cell_type": "code",
   "execution_count": 64,
   "id": "d1ff4c24",
   "metadata": {},
   "outputs": [
    {
     "name": "stdout",
     "output_type": "stream",
     "text": [
      "Connection is successful\n"
     ]
    },
    {
     "data": {
      "text/plain": [
       "1"
      ]
     },
     "execution_count": 64,
     "metadata": {},
     "output_type": "execute_result"
    }
   ],
   "source": [
    "# Checking the status\n",
    "status_check(response)"
   ]
  },
  {
   "cell_type": "markdown",
   "id": "9738544d",
   "metadata": {},
   "source": [
    "Decode the response and pass this on to Beautiful Soup for HTML parsing.\n"
   ]
  },
  {
   "cell_type": "code",
   "execution_count": 65,
   "id": "f776c733",
   "metadata": {},
   "outputs": [],
   "source": [
    "# Getting the contents\n",
    "contents = response.content.decode(response.encoding)\n",
    "\n",
    "# Parsing the contents\n",
    "soup = BeautifulSoup(contents,'html.parser')"
   ]
  },
  {
   "cell_type": "markdown",
   "id": "77a85a08",
   "metadata": {},
   "source": [
    "Find all the href tags and store them in the list of links. Check what the list looks like - print the first 30 elements"
   ]
  },
  {
   "cell_type": "code",
   "execution_count": 67,
   "id": "8e999a1e",
   "metadata": {},
   "outputs": [],
   "source": [
    "# Creating the empty list\n",
    "list_links = []"
   ]
  },
  {
   "cell_type": "code",
   "execution_count": 68,
   "id": "7a8a556e",
   "metadata": {},
   "outputs": [],
   "source": [
    "# Finding all the href links\n",
    "for link in soup.find_all('a'):\n",
    "    # Appending the list\n",
    "    list_links.append(link.get('href'))"
   ]
  },
  {
   "cell_type": "code",
   "execution_count": 69,
   "id": "c6f3dca4",
   "metadata": {},
   "outputs": [
    {
     "data": {
      "text/plain": [
       "['/',\n",
       " '/about/',\n",
       " '/about/',\n",
       " '/policy/collection_development.html',\n",
       " '/about/contact_information.html',\n",
       " '/about/background/',\n",
       " '/policy/permission.html',\n",
       " '/policy/privacy_policy.html',\n",
       " '/policy/terms_of_use.html',\n",
       " '/ebooks/',\n",
       " '/ebooks/',\n",
       " '/ebooks/bookshelf/',\n",
       " '/browse/scores/top',\n",
       " '/ebooks/offline_catalogs.html',\n",
       " '/help/',\n",
       " '/help/',\n",
       " '/help/copyright.html',\n",
       " '/help/errata.html',\n",
       " '/help/file_formats.html',\n",
       " '/help/faq.html',\n",
       " '/policy/',\n",
       " '/help/public_domain_ebook_submission.html',\n",
       " '/help/submitting_your_own_work.html',\n",
       " '/help/mobile.html',\n",
       " '/attic/',\n",
       " '/donate/',\n",
       " '/donate/',\n",
       " '#books-last1',\n",
       " '#authors-last1',\n",
       " '#books-last7']"
      ]
     },
     "execution_count": 69,
     "metadata": {},
     "output_type": "execute_result"
    }
   ],
   "source": [
    "# View the first 30 href links\n",
    "list_links[:30]"
   ]
  },
  {
   "cell_type": "markdown",
   "id": "6e0fe067",
   "metadata": {},
   "source": [
    "Use a regular expression to find the numeric digits in these links. These are the file numbers for the top 100 eBooks.\n",
    "Initialize the empty list to hold the file numbers over an appropriate range and use regex to find the numeric digits in the link href string. Use the findall method.\n"
   ]
  },
  {
   "cell_type": "code",
   "execution_count": 12,
   "id": "8e227ead",
   "metadata": {},
   "outputs": [],
   "source": [
    "# Establish empty list\n",
    "file_numbers = []"
   ]
  },
  {
   "cell_type": "code",
   "execution_count": 13,
   "id": "69dea050",
   "metadata": {},
   "outputs": [],
   "source": [
    "# Loop through the list of href links to find the numericals. Note: the links 33-133 contain the books\n",
    "for i in range(33,133):\n",
    "    l = href_list[i]\n",
    "    # Remove whitespace\n",
    "    l=l.strip()\n",
    "    # Find the numericals in the link\n",
    "    n=re.findall('[0-9]+',l)\n",
    "    # If numericals are found, add the filenumber to the file_number list\n",
    "    if len(n)==1:\n",
    "        file_numbers.append(int(n[0]))"
   ]
  },
  {
   "cell_type": "code",
   "execution_count": 14,
   "id": "8c2de440",
   "metadata": {},
   "outputs": [
    {
     "name": "stdout",
     "output_type": "stream",
     "text": [
      "[1342, 84, 1661, 11, 1080, 2701, 98, 64317, 174, 345, 1952, 4300, 2554, 6130, 1232, 25344, 76, 67436, 67437, 1260, 18792, 5200, 1400, 67441, 46, 2600, 67435, 2591, 219, 205, 1497, 844, 28054, 2542, 514, 408, 67434, 43, 1184, 5740, 67433, 67429, 32449, 45, 26184, 27827, 55283, 4363, 103, 158, 58585, 30254, 120, 67430, 135, 996, 74, 35, 2814, 16, 55, 1399, 3207, 1727, 768, 7370, 863, 43453, 3600, 67098, 16328, 600, 67432, 209, 160, 20203, 1998, 105, 36, 23, 203, 67431, 829, 730, 10, 244, 161, 215, 33283, 15399, 2434, 19942, 2852, 113, 24518, 42108, 3296, 31284, 236, 67443]\n"
     ]
    }
   ],
   "source": [
    "# View the file_numbers\n",
    "print(file_numbers)"
   ]
  },
  {
   "cell_type": "markdown",
   "id": "08936e72",
   "metadata": {},
   "source": [
    "What does the soup object's text look like? Use the .text method and print only the first 2,000 characters (do not print the whole thing, as it is too long)."
   ]
  },
  {
   "cell_type": "code",
   "execution_count": 15,
   "id": "0bdc658c",
   "metadata": {},
   "outputs": [
    {
     "name": "stdout",
     "output_type": "stream",
     "text": [
      "\n",
      "\n",
      "\n",
      "\n",
      "Top 100 | Project Gutenberg\n",
      "\n",
      "\n",
      "\n",
      "\n",
      "\n",
      "\n",
      "\n",
      "\n",
      "\n",
      "\n",
      "\n",
      "\n",
      "\n",
      "\n",
      "\n",
      "\n",
      "\n",
      "\n",
      "\n",
      "\n",
      "\n",
      "\n",
      "\n",
      "\n",
      "\n",
      "\n",
      "\n",
      "Menu▾\n",
      "\n",
      "\n",
      "\n",
      "About\n",
      "          ▾\n",
      "\n",
      "▾\n",
      "\n",
      "\n",
      "About Project Gutenberg\n",
      "Collection Development\n",
      "Contact Us\n",
      "History & Philosophy\n",
      "Permissions & License\n",
      "Privacy Policy\n",
      "Terms of Use\n",
      "\n",
      "\n",
      "\n",
      "Search and Browse\n",
      "      \t  ▾\n",
      "\n",
      "▾\n",
      "\n",
      "\n",
      "Book Search\n",
      "Bookshelves\n",
      "Frequently Downloaded\n",
      "Offline Catalogs\n",
      "\n",
      "\n",
      "\n",
      "Help\n",
      "          ▾\n",
      "\n",
      "▾\n",
      "\n",
      "\n",
      "All help topics →\n",
      "Copyright Procedures\n",
      "Errata, Fixes and Bug Reports\n",
      "File Formats\n",
      "Frequently Asked Questions\n",
      "Policies →\n",
      "Public Domain eBook Submission\n",
      "Submitting Your Own Work\n",
      "Tablets, Phones and eReaders\n",
      "The Attic →\n",
      "\n",
      "\n",
      "Donate\n",
      "\n",
      "\n",
      "\n",
      "\n",
      "\n",
      "\n",
      "\n",
      "\n",
      "\n",
      "\n",
      "Donation\n",
      "\n",
      "\n",
      "\n",
      "\n",
      "\n",
      "\n",
      "\n",
      "Frequently Viewed or Downloaded\n",
      "These listings are based on the number of times each eBook gets downloaded.\n",
      "      Multiple downloads from the same Internet address on the same day count as one download, and addresses that download more than 100 eBooks in a day are considered robots and are not counted.\n",
      "\n",
      "Downloaded Books\n",
      "2022-02-19106437\n",
      "last 7 days915202\n",
      "last 30 days4198137\n",
      "\n",
      "\n",
      "\n",
      "Top 100 EBooks yesterday\n",
      "Top 100 Authors yesterday\n",
      "Top 100 EBooks last 7 days\n",
      "Top 100 Authors last 7 days\n",
      "Top 100 EBooks last 30 days\n",
      "Top 100 Authors last 30 days\n",
      "\n",
      "\n",
      "Top 100 EBooks yesterday\n",
      "\n",
      "Pride and Prejudice by Jane Austen (1075)\n",
      "Frankenstein; Or, The Modern Prometheus by Mary Wollstonecraft Shelley (858)\n",
      "The Adventures of Sherlock Holmes by Arthur Conan Doyle (592)\n",
      "Alice's Adventures in Wonderland by Lewis Carroll (565)\n",
      "A Modest Proposal by Jonathan Swift (494)\n",
      "Moby Dick; Or, The Whale by Herman Melville (458)\n",
      "A Tale of Two Cities by Charles Dickens (361)\n",
      "The Great Gatsby by F. Scott  Fitzgerald (354)\n",
      "The Picture of Dorian Gray by Oscar Wilde (352)\n",
      "Dracula by Bram Stoker (352)\n",
      "The Yellow Wallpaper by Charlotte Perkins Gilman (348)\n",
      "Ulysses by James Joyce (314)\n",
      "Crime and Punishment by Fyodor Dostoyevsky (288)\n",
      "The Iliad by Homer (284)\n",
      "The Prince by Niccolò Machiavelli (278)\n",
      "The Scarlet Letter by Nathaniel Hawthorne (271)\n",
      "Adventures of Huckleberry Finn by Mark Twain (263)\n",
      "Autumn Leaves by Ardelia Maria Cotto\n"
     ]
    }
   ],
   "source": [
    "# Print the first 2000 character\n",
    "print(soup.text[:2000])"
   ]
  },
  {
   "cell_type": "markdown",
   "id": "4662c279",
   "metadata": {},
   "source": [
    "Search in the extracted text (using a regular expression) from the soup object to find the names of the top 100 eBooks (yesterday's ranking)."
   ]
  },
  {
   "cell_type": "code",
   "execution_count": 20,
   "id": "bdc69d9e",
   "metadata": {},
   "outputs": [],
   "source": [
    "# Create an empty list of eBook names\n",
    "e_books = []"
   ]
  },
  {
   "cell_type": "markdown",
   "id": "dbf1ed52",
   "metadata": {},
   "source": [
    "Create a starting index. It should point at the text Top 100 Ebooks yesterday. Use the splitlines method of soup.text. It splits the lines of text of the soup object."
   ]
  },
  {
   "cell_type": "code",
   "execution_count": 21,
   "id": "88e4e240",
   "metadata": {},
   "outputs": [],
   "source": [
    "# Create the starting index\n",
    "starting_index = soup.text.splitlines().index('Top 100 EBooks yesterday')+9"
   ]
  },
  {
   "cell_type": "markdown",
   "id": "e9d25b0d",
   "metadata": {},
   "source": [
    "Loop 1-100 to add the strings of the next 100 lines to this temporary list. Hint: use the splitlines method."
   ]
  },
  {
   "cell_type": "code",
   "execution_count": 22,
   "id": "ca89a6de",
   "metadata": {},
   "outputs": [],
   "source": [
    "# Loop through the books and add them to the list\n",
    "for i in range(101):\n",
    "    e_books.append(soup.text.splitlines()[starting_index+i])"
   ]
  },
  {
   "cell_type": "code",
   "execution_count": 23,
   "id": "a35388f6",
   "metadata": {},
   "outputs": [
    {
     "name": "stdout",
     "output_type": "stream",
     "text": [
      "\n",
      "Pride and Prejudice by Jane Austen (1075)\n",
      "Frankenstein; Or, The Modern Prometheus by Mary Wollstonecraft Shelley (858)\n",
      "The Adventures of Sherlock Holmes by Arthur Conan Doyle (592)\n",
      "Alice's Adventures in Wonderland by Lewis Carroll (565)\n",
      "A Modest Proposal by Jonathan Swift (494)\n",
      "Moby Dick; Or, The Whale by Herman Melville (458)\n",
      "A Tale of Two Cities by Charles Dickens (361)\n",
      "The Great Gatsby by F. Scott  Fitzgerald (354)\n",
      "The Picture of Dorian Gray by Oscar Wilde (352)\n",
      "Dracula by Bram Stoker (352)\n",
      "The Yellow Wallpaper by Charlotte Perkins Gilman (348)\n",
      "Ulysses by James Joyce (314)\n",
      "Crime and Punishment by Fyodor Dostoyevsky (288)\n",
      "The Iliad by Homer (284)\n",
      "The Prince by Niccolò Machiavelli (278)\n",
      "The Scarlet Letter by Nathaniel Hawthorne (271)\n",
      "Adventures of Huckleberry Finn by Mark Twain (263)\n",
      "Autumn Leaves by Ardelia Maria Cotton Barton (257)\n",
      "Dr. Paull’s Theory: A Romance by Alice M.  Diehl (257)\n",
      "Jane Eyre: An Autobiography by Charlotte Brontë (249)\n",
      "John Gabriel Borkman by Henrik Ibsen (248)\n",
      "Metamorphosis by Franz Kafka (247)\n",
      "Great Expectations by Charles Dickens (242)\n",
      "An Indian Ass by Harold Acton (239)\n",
      "A Christmas Carol in Prose; Being a Ghost Story of Christmas by Charles Dickens (228)\n",
      "War and Peace by graf Leo Tolstoy (227)\n",
      "The honey-bee; its nature, homes and products by William Hetherington Harris (226)\n",
      "Grimms' Fairy Tales by Jacob Grimm and Wilhelm Grimm (225)\n",
      "Heart of Darkness by Joseph Conrad (222)\n",
      "Walden, and On The Duty Of Civil Disobedience by Henry David Thoreau (219)\n",
      "The Republic by Plato (213)\n",
      "The Importance of Being Earnest: A Trivial Comedy for Serious People by Oscar Wilde (213)\n",
      "The Brothers Karamazov by Fyodor Dostoyevsky (213)\n",
      "A Doll's House : a play by Henrik Ibsen (210)\n",
      "Little Women by Louisa May Alcott (206)\n",
      "The Souls of Black Folk by W. E. B.  Du Bois (201)\n",
      "Graham's Magazine, Vol. XX, No. 1, January 1842 by Various (195)\n",
      "The Strange Case of Dr. Jekyll and Mr. Hyde by Robert Louis Stevenson (194)\n",
      "The Count of Monte Cristo, Illustrated by Alexandre Dumas (192)\n",
      "Tractatus Logico-Philosophicus by Ludwig Wittgenstein (188)\n",
      "Dixie Kitten by Eva March Tappan (183)\n",
      "The Thing Beyond Reason by Elisabeth Sanxay Holding (181)\n",
      "Japanese Girls and Women by Alice Mabel Bacon (180)\n",
      "Anne of Green Gables by L. M.  Montgomery (178)\n",
      "Simple Sabotage Field Manual by United States. Office of Strategic Services (178)\n",
      "The Kama Sutra of Vatsyayana by Vatsyayana (177)\n",
      "The Bet, and other stories by Anton Pavlovich Chekhov (175)\n",
      "Beyond Good and Evil by Friedrich Wilhelm Nietzsche (174)\n",
      "Around the World in Eighty Days by Jules Verne (171)\n",
      "Emma by Jane Austen (171)\n",
      "The Prophet by Kahlil Gibran (166)\n",
      "The Romance of Lust: A classic Victorian erotic novel by Anonymous (165)\n",
      "Treasure Island by Robert Louis Stevenson (164)\n",
      "Cricket by Elizabeth Weston Timlow (164)\n",
      "Les Misérables by Victor Hugo (163)\n",
      "Don Quixote by Miguel de Cervantes Saavedra (163)\n",
      "The Adventures of Tom Sawyer, Complete by Mark Twain (163)\n",
      "The Time Machine by H. G.  Wells (162)\n",
      "Dubliners by James Joyce (160)\n",
      "Peter Pan by J. M.  Barrie (154)\n",
      "The Wonderful Wizard of Oz by L. Frank  Baum (153)\n",
      "Anna Karenina by graf Leo Tolstoy (153)\n",
      "Leviathan by Thomas Hobbes (150)\n",
      "The Odyssey by Homer (148)\n",
      "Wuthering Heights by Emily Brontë (144)\n",
      "Second Treatise of Government by John Locke (137)\n",
      "The Mysterious Affair at Styles by Agatha Christie (136)\n",
      "A Pickle for the Knowing Ones by Timothy Dexter (136)\n",
      "Essays of Michel de Montaigne — Complete by Michel de Montaigne (136)\n",
      "Winnie-the-Pooh by A. A.  Milne (134)\n",
      "Beowulf: An Anglo-Saxon Epic Poem (133)\n",
      "Notes from the Underground by Fyodor Dostoyevsky (132)\n",
      "An Experiment in Altruism by Margaret Pollock Sherwood (131)\n",
      "The Turn of the Screw by Henry James (131)\n",
      "The Awakening, and Selected Short Stories by Kate Chopin (130)\n",
      "Autobiography of Benjamin Franklin by Benjamin Franklin (130)\n",
      "Thus Spake Zarathustra: A Book for All and None by Friedrich Wilhelm Nietzsche (130)\n",
      "Persuasion by Jane Austen (129)\n",
      "The War of the Worlds by H. G.  Wells (128)\n",
      "Narrative of the Life of Frederick Douglass, an American Slave by Frederick Douglass (128)\n",
      "Uncle Tom's Cabin by Harriet Beecher Stowe (126)\n",
      "The Buckaroo of Blue Wells by W. C.  Tuttle (120)\n",
      "Gulliver's Travels into Several Remote Nations of the World by Jonathan Swift (119)\n",
      "Oliver Twist by Charles Dickens (119)\n",
      "The King James Version of the Bible (117)\n",
      "A Study in Scarlet by Arthur Conan Doyle (117)\n",
      "Sense and Sensibility by Jane Austen (115)\n",
      "The Call of the Wild by Jack London (114)\n",
      "Calculus Made Easy by Silvanus P.  Thompson (112)\n",
      "The Interesting Narrative of the Life of Olaudah Equiano, Or Gustavus Vassa, The African by Equiano (112)\n",
      "New Atlantis by Francis Bacon (109)\n",
      "Candide by Voltaire (109)\n",
      "The Hound of the Baskervilles by Arthur Conan Doyle (108)\n",
      "The Secret Garden by Frances Hodgson Burnett (106)\n",
      "Memoirs of Extraordinary Popular Delusions and the Madness of Crowds by Charles Mackay (106)\n",
      "The Slang Dictionary: Etymological, Historical and Andecdotal by John Camden Hotten (103)\n",
      "The Confessions of St. Augustine by Bishop of Hippo Saint Augustine (103)\n",
      "Josefine Mutzenbacher by Felix Salten (103)\n",
      "The Jungle Book by Rudyard Kipling (102)\n",
      "Graham's Magazine, Vol. XX, No. 2, February 1842 by Various (102)\n"
     ]
    }
   ],
   "source": [
    "# view the list of books\n",
    "for book in e_books:\n",
    "    print(book)"
   ]
  },
  {
   "cell_type": "markdown",
   "id": "144f3e21",
   "metadata": {},
   "source": [
    "Use a regular expression to extract only text from the name strings and append it to an empty list. Use match and span to find the indices and use them."
   ]
  },
  {
   "cell_type": "code",
   "execution_count": 24,
   "id": "274ff77e",
   "metadata": {},
   "outputs": [],
   "source": [
    "# Create the empty list\n",
    "top_100_ebooks = []"
   ]
  },
  {
   "cell_type": "code",
   "execution_count": 25,
   "id": "5bab7ca9",
   "metadata": {},
   "outputs": [],
   "source": [
    "# Remove the non-text\n",
    "for i in range(100):\n",
    "    start,stop=re.match('^[a-zA-Z ]*',e_books[i]).span()\n",
    "    top_100_ebooks.append(e_books[i][start:stop])"
   ]
  },
  {
   "cell_type": "code",
   "execution_count": 26,
   "id": "9abcd9b9",
   "metadata": {},
   "outputs": [
    {
     "name": "stdout",
     "output_type": "stream",
     "text": [
      "\n",
      "Pride and Prejudice by Jane Austen \n",
      "Frankenstein\n",
      "The Adventures of Sherlock Holmes by Arthur Conan Doyle \n",
      "Alice\n",
      "A Modest Proposal by Jonathan Swift \n",
      "Moby Dick\n",
      "A Tale of Two Cities by Charles Dickens \n",
      "The Great Gatsby by F\n",
      "The Picture of Dorian Gray by Oscar Wilde \n",
      "Dracula by Bram Stoker \n",
      "The Yellow Wallpaper by Charlotte Perkins Gilman \n",
      "Ulysses by James Joyce \n",
      "Crime and Punishment by Fyodor Dostoyevsky \n",
      "The Iliad by Homer \n",
      "The Prince by Niccol\n",
      "The Scarlet Letter by Nathaniel Hawthorne \n",
      "Adventures of Huckleberry Finn by Mark Twain \n",
      "Autumn Leaves by Ardelia Maria Cotton Barton \n",
      "Dr\n",
      "Jane Eyre\n",
      "John Gabriel Borkman by Henrik Ibsen \n",
      "Metamorphosis by Franz Kafka \n",
      "Great Expectations by Charles Dickens \n",
      "An Indian Ass by Harold Acton \n",
      "A Christmas Carol in Prose\n",
      "War and Peace by graf Leo Tolstoy \n",
      "The honey\n",
      "Grimms\n",
      "Heart of Darkness by Joseph Conrad \n",
      "Walden\n",
      "The Republic by Plato \n",
      "The Importance of Being Earnest\n",
      "The Brothers Karamazov by Fyodor Dostoyevsky \n",
      "A Doll\n",
      "Little Women by Louisa May Alcott \n",
      "The Souls of Black Folk by W\n",
      "Graham\n",
      "The Strange Case of Dr\n",
      "The Count of Monte Cristo\n",
      "Tractatus Logico\n",
      "Dixie Kitten by Eva March Tappan \n",
      "The Thing Beyond Reason by Elisabeth Sanxay Holding \n",
      "Japanese Girls and Women by Alice Mabel Bacon \n",
      "Anne of Green Gables by L\n",
      "Simple Sabotage Field Manual by United States\n",
      "The Kama Sutra of Vatsyayana by Vatsyayana \n",
      "The Bet\n",
      "Beyond Good and Evil by Friedrich Wilhelm Nietzsche \n",
      "Around the World in Eighty Days by Jules Verne \n",
      "Emma by Jane Austen \n",
      "The Prophet by Kahlil Gibran \n",
      "The Romance of Lust\n",
      "Treasure Island by Robert Louis Stevenson \n",
      "Cricket by Elizabeth Weston Timlow \n",
      "Les Mis\n",
      "Don Quixote by Miguel de Cervantes Saavedra \n",
      "The Adventures of Tom Sawyer\n",
      "The Time Machine by H\n",
      "Dubliners by James Joyce \n",
      "Peter Pan by J\n",
      "The Wonderful Wizard of Oz by L\n",
      "Anna Karenina by graf Leo Tolstoy \n",
      "Leviathan by Thomas Hobbes \n",
      "The Odyssey by Homer \n",
      "Wuthering Heights by Emily Bront\n",
      "Second Treatise of Government by John Locke \n",
      "The Mysterious Affair at Styles by Agatha Christie \n",
      "A Pickle for the Knowing Ones by Timothy Dexter \n",
      "Essays of Michel de Montaigne \n",
      "Winnie\n",
      "Beowulf\n",
      "Notes from the Underground by Fyodor Dostoyevsky \n",
      "An Experiment in Altruism by Margaret Pollock Sherwood \n",
      "The Turn of the Screw by Henry James \n",
      "The Awakening\n",
      "Autobiography of Benjamin Franklin by Benjamin Franklin \n",
      "Thus Spake Zarathustra\n",
      "Persuasion by Jane Austen \n",
      "The War of the Worlds by H\n",
      "Narrative of the Life of Frederick Douglass\n",
      "Uncle Tom\n",
      "The Buckaroo of Blue Wells by W\n",
      "Gulliver\n",
      "Oliver Twist by Charles Dickens \n",
      "The King James Version of the Bible \n",
      "A Study in Scarlet by Arthur Conan Doyle \n",
      "Sense and Sensibility by Jane Austen \n",
      "The Call of the Wild by Jack London \n",
      "Calculus Made Easy by Silvanus P\n",
      "The Interesting Narrative of the Life of Olaudah Equiano\n",
      "New Atlantis by Francis Bacon \n",
      "Candide by Voltaire \n",
      "The Hound of the Baskervilles by Arthur Conan Doyle \n",
      "The Secret Garden by Frances Hodgson Burnett \n",
      "Memoirs of Extraordinary Popular Delusions and the Madness of Crowds by Charles Mackay \n",
      "The Slang Dictionary\n",
      "The Confessions of St\n",
      "Josefine Mutzenbacher by Felix Salten \n",
      "The Jungle Book by Rudyard Kipling \n"
     ]
    }
   ],
   "source": [
    "# View the list of book titles\n",
    "for book in top_100_ebooks:\n",
    "    print(book)"
   ]
  },
  {
   "cell_type": "markdown",
   "id": "061f274b",
   "metadata": {},
   "source": [
    "### Data Wrangling with Python: Activity 10, page 295"
   ]
  },
  {
   "cell_type": "markdown",
   "id": "c0ae057f",
   "metadata": {},
   "source": [
    "Import urlib.request, urllib.parse, urllib.error, and json"
   ]
  },
  {
   "cell_type": "code",
   "execution_count": 27,
   "id": "087327e5",
   "metadata": {},
   "outputs": [],
   "source": [
    "# Load libraries\n",
    "import urllib.request, urllib.parse, urllib.error\n",
    "import json"
   ]
  },
  {
   "cell_type": "markdown",
   "id": "86b763ad",
   "metadata": {},
   "source": [
    "Load the secret API key (you have to get one from the OMDb website and use that; it has a daily limit of 1,000) from a JSON file stored in the same folder in a variable, by using json.loads."
   ]
  },
  {
   "cell_type": "code",
   "execution_count": 59,
   "id": "04e9923a",
   "metadata": {},
   "outputs": [],
   "source": [
    "# Load the API key from the JSON file\n",
    "with open('Data/download.json') as f:\n",
    "    data = json.load(f)\n",
    "    omdbapi = data['imdbID']"
   ]
  },
  {
   "cell_type": "markdown",
   "id": "d746019e",
   "metadata": {},
   "source": [
    "Assign the OMDb portal as a string to a variable"
   ]
  },
  {
   "cell_type": "code",
   "execution_count": 60,
   "id": "3957a21a",
   "metadata": {},
   "outputs": [],
   "source": [
    "# Assign the portal to a variable\n",
    "base_url = 'http://www.omdbapi.com/?'"
   ]
  },
  {
   "cell_type": "markdown",
   "id": "a8fb0c64",
   "metadata": {},
   "source": [
    "Create a variable called apikey with the last portion of the URL (&apikey=secretapikey), where secretapikey is your own API key."
   ]
  },
  {
   "cell_type": "code",
   "execution_count": 61,
   "id": "08fb6dfd",
   "metadata": {},
   "outputs": [],
   "source": [
    "# Create the apikey variable\n",
    "apikey = '&apikey=50ebe64b'"
   ]
  },
  {
   "cell_type": "markdown",
   "id": "87faf5a2",
   "metadata": {},
   "source": [
    "Write a utility function called print_json to print the movie data from a JSON file (which we will get from the portal)."
   ]
  },
  {
   "cell_type": "code",
   "execution_count": 62,
   "id": "54d73297",
   "metadata": {},
   "outputs": [
    {
     "name": "stdout",
     "output_type": "stream",
     "text": [
      "Title: Guardians of the Galaxy Vol. 2\n",
      "Year: 2017\n",
      "Rated: PG-13\n",
      "Released: 05 May 2017\n",
      "Runtime: 136 min\n",
      "Genre: Action, Adventure, Comedy\n",
      "Director: James Gunn\n",
      "Writer: James Gunn, Dan Abnett, Andy Lanning\n",
      "Actors: Chris Pratt, Zoe Saldana, Dave Bautista\n",
      "Plot: The Guardians struggle to keep together as a team while dealing with their personal family issues, notably Star-Lord's encounter with his father the ambitious celestial being Ego.\n",
      "Language: English\n",
      "Country: United States\n",
      "Awards: Nominated for 1 Oscar. 15 wins & 58 nominations total\n",
      "Ratings: [{'Source': 'Internet Movie Database', 'Value': '7.6/10'}, {'Source': 'Rotten Tomatoes', 'Value': '85%'}, {'Source': 'Metacritic', 'Value': '67/100'}]\n",
      "Metascore: 67\n",
      "imdbRating: 7.6\n",
      "imdbVotes: 636,391\n",
      "imdbID: tt3896198\n"
     ]
    }
   ],
   "source": [
    "# Define the print_json function\n",
    "def print_json(data):\n",
    "    keys = ['Title', 'Year', 'Rated', 'Released', 'Runtime', 'Genre', 'Director', 'Writer', \n",
    "            'Actors', 'Plot', 'Language', 'Country', 'Awards', 'Ratings',\n",
    "            'Metascore', 'imdbRating', 'imdbVotes', 'imdbID']\n",
    "    # print the data\n",
    "    for k in keys:\n",
    "        if k in list(data.keys()):\n",
    "            print(f\"{k}: {data[k]}\")\n",
    "\n",
    "\n",
    "print_json(data)            "
   ]
  },
  {
   "cell_type": "markdown",
   "id": "d2404a1f",
   "metadata": {},
   "source": [
    "Write a utility function to download a poster of the movie based on the information from the JSON dataset and save it in your local folder. Use the os module. The poster data is stored in the JSON key Poster. Use the Python command to open a file and write the poster data. Close the file after you're done. This function will save the poster data as an image file.\n"
   ]
  },
  {
   "cell_type": "code",
   "execution_count": 63,
   "id": "c0bcd719",
   "metadata": {},
   "outputs": [],
   "source": [
    "def save_poster(data):\n",
    "    # Load libraries\n",
    "    import os\n",
    "    # Obtain the title & poster from the data\n",
    "    title = data['Title']\n",
    "    poster_url = data['Poster']\n",
    "    # Obtain the file extension\n",
    "    poster_file_extension=poster_url.split('.')[-1]\n",
    "    # Read the file\n",
    "    poster_data = urllib.request.urlopen(poster_url).read()\n",
    "    # Obtain/Create the file directory for the poster\n",
    "    savelocation=os.getcwd()+'\\\\'+'Posters'+'\\\\'\n",
    "    if not os.path.isdir(savelocation):\n",
    "        os.mkdir(savelocation)\n",
    "    # Establish the filename & save the file\n",
    "    filename=savelocation+str(title)+'.'+poster_file_extension\n",
    "    f=open(filename,'wb')\n",
    "    f.write(poster_data)\n",
    "    f.close()\n",
    "    \n",
    "\n",
    "save_poster(data)    "
   ]
  },
  {
   "cell_type": "markdown",
   "id": "afd7f94a",
   "metadata": {},
   "source": [
    "Write a utility function called search_movie to search for a movie by its name, print the downloaded JSON data, and save the movie poster in the local folder. Use a try-except loop for this. Use the previously created serviceurl and apikey variables. You have to pass on a dictionary with a key, t, and the movie name as the corresponding value to the urllib.parse.urlencode() function and then add the serviceurl and apikey to the output of the function to construct the full URL. This URL will be used to access the data. The JSON data has a key called Response. If it is True, that means the read was successful. Check this before processing the data. If it's not successful, then print the JSON key Error, which will contain the appropriate error message returned by the movie database.\n"
   ]
  },
  {
   "cell_type": "code",
   "execution_count": 54,
   "id": "ba7fe1e1",
   "metadata": {},
   "outputs": [],
   "source": [
    "# Create the function to search for a movie\n",
    "def find_movie(title):\n",
    "    try:\n",
    "        #Build the url from the base, title, & api key\n",
    "        url = base_url + urllib.parse.urlencode({'t': str(title)})+apikey\n",
    "        print(f'Retrieving the data of \"{title}\" now... ')\n",
    "        print(url)\n",
    "        uh = urllib.request.urlopen(url)\n",
    "        data = uh.read()\n",
    "        json_data=json.loads(data)\n",
    "        \n",
    "        # If a response is received, print the data & save the poster\n",
    "        if json_data['Response']=='True':\n",
    "            print_json(json_data)\n",
    "            if json_data['Poster']!='N/A':\n",
    "                save_poster(json_data)\n",
    "        # If a valid response is not received, print an error\n",
    "        else:\n",
    "            print(\"Error encountered: \",json_data['Error'])\n",
    "    except urllib.error.URLError as e:\n",
    "        print(f\"ERROR: {e.reason}\")"
   ]
  },
  {
   "cell_type": "markdown",
   "id": "ed04fcbe",
   "metadata": {},
   "source": [
    "Test the search_movie function by entering Titanic.\n"
   ]
  },
  {
   "cell_type": "code",
   "execution_count": 55,
   "id": "4ccdbe0a",
   "metadata": {},
   "outputs": [
    {
     "name": "stdout",
     "output_type": "stream",
     "text": [
      "Retrieving the data of \"Titanic\" now... \n",
      "http://www.omdbapi.com/?t=Titanic&apikey=50ebe64b\n",
      "Title: Titanic\n",
      "Year: 1997\n",
      "Rated: PG-13\n",
      "Released: 19 Dec 1997\n",
      "Runtime: 194 min\n",
      "Genre: Drama, Romance\n",
      "Director: James Cameron\n",
      "Writer: James Cameron\n",
      "Actors: Leonardo DiCaprio, Kate Winslet, Billy Zane\n",
      "Plot: A seventeen-year-old aristocrat falls in love with a kind but poor artist aboard the luxurious, ill-fated R.M.S. Titanic.\n",
      "Language: English, Swedish, Italian, French\n",
      "Country: United States, Mexico\n",
      "Awards: Won 11 Oscars. 125 wins & 83 nominations total\n",
      "Ratings: [{'Source': 'Internet Movie Database', 'Value': '7.8/10'}, {'Source': 'Rotten Tomatoes', 'Value': '89%'}, {'Source': 'Metacritic', 'Value': '75/100'}]\n",
      "Metascore: 75\n",
      "imdbRating: 7.8\n",
      "imdbVotes: 1,117,107\n",
      "imdbID: tt0120338\n"
     ]
    }
   ],
   "source": [
    "# Search for the movie Titanic\n",
    "find_movie('Titanic')"
   ]
  },
  {
   "cell_type": "markdown",
   "id": "52ed0132",
   "metadata": {},
   "source": [
    "Test the search_movie function by entering \"Random_error\" (obviously, this will not be found, and you should be able to check whether your error catching code is working properly)."
   ]
  },
  {
   "cell_type": "code",
   "execution_count": 56,
   "id": "c804a2a8",
   "metadata": {},
   "outputs": [
    {
     "name": "stdout",
     "output_type": "stream",
     "text": [
      "Retrieving the data of \"Random_error\" now... \n",
      "http://www.omdbapi.com/?t=Random_error&apikey=50ebe64b\n",
      "Error encountered:  Movie not found!\n"
     ]
    }
   ],
   "source": [
    "# Search for Random_error\n",
    "find_movie('Random_error')"
   ]
  },
  {
   "cell_type": "code",
   "execution_count": 5,
   "id": "27dc3b4b",
   "metadata": {},
   "outputs": [
    {
     "name": "stdout",
     "output_type": "stream",
     "text": [
      "Requirement already satisfied: python-twitter in /Users/sharath/opt/anaconda3/lib/python3.8/site-packages (3.5)\n",
      "Requirement already satisfied: future in /Users/sharath/opt/anaconda3/lib/python3.8/site-packages (from python-twitter) (0.18.2)\n",
      "Requirement already satisfied: requests in /Users/sharath/opt/anaconda3/lib/python3.8/site-packages (from python-twitter) (2.25.1)\n",
      "Requirement already satisfied: requests-oauthlib in /Users/sharath/opt/anaconda3/lib/python3.8/site-packages (from python-twitter) (1.3.1)\n",
      "Requirement already satisfied: chardet<5,>=3.0.2 in /Users/sharath/opt/anaconda3/lib/python3.8/site-packages (from requests->python-twitter) (4.0.0)\n",
      "Requirement already satisfied: certifi>=2017.4.17 in /Users/sharath/opt/anaconda3/lib/python3.8/site-packages (from requests->python-twitter) (2020.12.5)\n",
      "Requirement already satisfied: urllib3<1.27,>=1.21.1 in /Users/sharath/opt/anaconda3/lib/python3.8/site-packages (from requests->python-twitter) (1.26.4)\n",
      "Requirement already satisfied: idna<3,>=2.5 in /Users/sharath/opt/anaconda3/lib/python3.8/site-packages (from requests->python-twitter) (2.10)\n",
      "Requirement already satisfied: oauthlib>=3.0.0 in /Users/sharath/opt/anaconda3/lib/python3.8/site-packages (from requests-oauthlib->python-twitter) (3.2.0)\n",
      "Note: you may need to restart the kernel to use updated packages.\n"
     ]
    }
   ],
   "source": [
    "pip install python-twitter"
   ]
  },
  {
   "cell_type": "markdown",
   "id": "89911694",
   "metadata": {},
   "source": [
    "Connect to the Twitter API and do a simple data pull"
   ]
  },
  {
   "cell_type": "code",
   "execution_count": 1,
   "id": "b36dd718",
   "metadata": {},
   "outputs": [],
   "source": [
    "# Load library\n",
    "import twitter\n",
    "\n",
    "# Setup api\n",
    "api = twitter.Api(consumer_key='s7MSWyqi9M3fxUrrLOUcUDXeJ',\n",
    "                  consumer_secret='WMYNPvBbw7OyYfW9nHNDXHSMtUeOgLgMjB5azmPJrMuUAB1xJM',\n",
    "                  access_token_key='92735663-n5QszNFQ6yBiQ7k3WPtGUwgvWKhwDRT3H38miEcsn',\n",
    "                  access_token_secret='WHuSR39x6IHbQbf3C9JSYRMImk0pjS9Rji2IAGzso7aH9')"
   ]
  },
  {
   "cell_type": "code",
   "execution_count": 3,
   "id": "46b15d03",
   "metadata": {},
   "outputs": [
    {
     "name": "stdout",
     "output_type": "stream",
     "text": [
      "{\"created_at\": \"Thu Nov 26 11:27:02 +0000 2009\", \"default_profile\": true, \"favourites_count\": 27, \"followers_count\": 13, \"friends_count\": 39, \"id\": 92735663, \"id_str\": \"92735663\", \"location\": \"Illinois, USA\", \"name\": \"Sharath Chandra\", \"profile_background_color\": \"C0DEED\", \"profile_background_image_url\": \"http://abs.twimg.com/images/themes/theme1/bg.png\", \"profile_background_image_url_https\": \"https://abs.twimg.com/images/themes/theme1/bg.png\", \"profile_image_url\": \"http://pbs.twimg.com/profile_images/1368719556240367628/k4508ucy_normal.jpg\", \"profile_image_url_https\": \"https://pbs.twimg.com/profile_images/1368719556240367628/k4508ucy_normal.jpg\", \"profile_link_color\": \"1DA1F2\", \"profile_sidebar_border_color\": \"C0DEED\", \"profile_sidebar_fill_color\": \"DDEEF6\", \"profile_text_color\": \"333333\", \"profile_use_background_image\": true, \"protected\": true, \"screen_name\": \"sharathc77\", \"withheld_in_countries\": []}\n"
     ]
    }
   ],
   "source": [
    "# Validate credentials\n",
    "print(api.VerifyCredentials())"
   ]
  },
  {
   "cell_type": "code",
   "execution_count": 4,
   "id": "b9ac9c10",
   "metadata": {},
   "outputs": [
    {
     "data": {
      "text/plain": [
       "[Status(ID=1495677520791969795, ScreenName=Thelead365, Created=Mon Feb 21 08:31:23 +0000 2022, Text='Baseball: @DroverAthletics Vs Bellevue University 2/20/2022\\n\\n📸 &gt; https://t.co/Vb4EMAyl1W https://t.co/nas44DmCtI'),\n",
       " Status(ID=1495638512716111872, ScreenName=Payton_m25, Created=Mon Feb 21 05:56:23 +0000 2022, Text='RT @DroverAthletics: ⚾️STARTING LINEUP⚾️\\n#14 Science &amp; Arts 🆚 #24 Bellevue University\\n\\n⏰: 12:00 PM\\n📍: Chickasha, OK\\n🏟️: Bill Smith Ballpark…'),\n",
       " Status(ID=1495580228516671488, ScreenName=Bulldog_Dave, Created=Mon Feb 21 02:04:47 +0000 2022, Text='3022 WIAA 4A Boys State Tournament District 8 Teams Schedule State Regionals\\n\\n2-26-22\\nGonzaga Prep vs Mount Si 2pm… https://t.co/uxZsaYWc0j'),\n",
       " Status(ID=1495579497135058947, ScreenName=SpokesmanSports, Created=Mon Feb 21 02:01:53 +0000 2022, Text='RT @DNicholsSR: -Gonzaga Prep boys play Mount Si Sat 2 pm at Bellevue College.\\n-Central Valley boys play Woodinville Sat at 6 pm at Univers…'),\n",
       " Status(ID=1495579458652233729, ScreenName=DNicholsSR, Created=Mon Feb 21 02:01:44 +0000 2022, Text='-Gonzaga Prep boys play Mount Si Sat 2 pm at Bellevue College.\\n-Central Valley boys play Woodinville Sat at 6 pm at… https://t.co/Zx6FwplT5X'),\n",
       " Status(ID=1495529386854043648, ScreenName=zClicki, Created=Sun Feb 20 22:42:46 +0000 2022, Text='RT @BellevueEsports: We are back and better than ever! Introducing your Bellevue University Overwatch roster for Spring 2022!\\n\\n🛡 @VictorCoc…'),\n",
       " Status(ID=1495506093442797575, ScreenName=MattTallarini7, Created=Sun Feb 20 21:10:12 +0000 2022, Text='RT @Okotoks_Dawgs: Dawgs fans, please welcome outfielder Conner Barnett (Bellevue University) and RHP Jackson Fraser (LSU Eunice) to your 2…'),\n",
       " Status(ID=1495479587341541390, ScreenName=DroverAthletics, Created=Sun Feb 20 19:24:52 +0000 2022, Text='🔼5⃣: After three full innings, #14 Science &amp; Arts⚾️ trails #24 Bellevue University 1-0.\\n\\n📊: https://t.co/vcZT2acTeJ… https://t.co/JyokCnjI7m'),\n",
       " Status(ID=1495476321769693186, ScreenName=wcbleague, Created=Sun Feb 20 19:11:54 +0000 2022, Text='RT @Okotoks_Dawgs: Dawgs fans, please welcome outfielder Conner Barnett (Bellevue University) and RHP Jackson Fraser (LSU Eunice) to your 2…'),\n",
       " Status(ID=1495470168209829896, ScreenName=RichardsonJCC, Created=Sun Feb 20 18:47:27 +0000 2022, Text='RT @JCCENTRAL: The JCC Academic Decathlon competed at the State Competition at Bellevue University on Fri &amp; Sat, Feb 18-19. \\n\\nThe team work…')]"
      ]
     },
     "execution_count": 4,
     "metadata": {},
     "output_type": "execute_result"
    }
   ],
   "source": [
    "# Search for tweets containing \"Bellevue University\"\n",
    "api.GetSearch(term='Bellevue University', since=2022-1-1, count=10)"
   ]
  },
  {
   "cell_type": "code",
   "execution_count": 5,
   "id": "a04b86e9",
   "metadata": {},
   "outputs": [
    {
     "data": {
      "text/plain": [
       "[Status(ID=1495439375336890377, ScreenName=ScienceMagazine, Created=Sun Feb 20 16:45:05 +0000 2022, Text='A recent Science analysis of data from U.S. military recruits suggests multiple sclerosis—a disease considered of u… https://t.co/YiePJJP24W'),\n",
       " Status(ID=1495591241110929408, ScreenName=EricRWeinstein, Created=Mon Feb 21 02:48:33 +0000 2022, Text='Challenge: defend this.\\n\\nPublic Health is NOT part of science. It just isn’t. It’s an abomination. This is an open… https://t.co/zC2KrU6506'),\n",
       " Status(ID=1495166645232300032, ScreenName=Zigmanfreud, Created=Sat Feb 19 22:41:21 +0000 2022, Text='So true…\\n\\nThe “science” totally shifted on masks in May 2020 purely for political reasons, forcing many millions to… https://t.co/aJw9xX9HfP'),\n",
       " Status(ID=1495709494919282691, ScreenName=EmilioMaciel9, Created=Mon Feb 21 10:38:27 +0000 2022, Text='RT @EricRWeinstein: Challenge: defend this.\\n\\nPublic Health is NOT part of science. It just isn’t. It’s an abomination. This is an open cons…'),\n",
       " Status(ID=1495709490632695818, ScreenName=DaveMcAlister5, Created=Mon Feb 21 10:38:26 +0000 2022, Text='RT @EricRWeinstein: Challenge: defend this.\\n\\nPublic Health is NOT part of science. It just isn’t. It’s an abomination. This is an open cons…'),\n",
       " Status(ID=1495709486388072448, ScreenName=nikolaaaaiiii, Created=Mon Feb 21 10:38:25 +0000 2022, Text='4 projects proposals/documentations +\\n1 e-commerce website +\\n1 mobile application +\\ndata science and statistics ele… https://t.co/ogTNZGhT8l'),\n",
       " Status(ID=1495709364430290949, ScreenName=ShakkaZul, Created=Mon Feb 21 10:37:56 +0000 2022, Text='RT @ABofficial_NG: Dear #DataScience beginners or intermediate.\\nIf you still find it hard in solving an end-end projects in writings &amp; codi…'),\n",
       " Status(ID=1495709337465270273, ScreenName=circochairo, Created=Mon Feb 21 10:37:49 +0000 2022, Text='RT @EricRWeinstein: Challenge: defend this.\\n\\nPublic Health is NOT part of science. It just isn’t. It’s an abomination. This is an open cons…'),\n",
       " Status(ID=1495709250957586437, ScreenName=SheerazAkramPhD, Created=Mon Feb 21 10:37:29 +0000 2022, Text='RT @CatherineAdenle: Infographic: Data Science Lifecycle via @CatherineAdenle \\n\\n#hadhoop #SQL #Python #100DaysOfCode #100DaysOfMLCode #tabl…'),\n",
       " Status(ID=1495709197224325120, ScreenName=adzine, Created=Mon Feb 21 10:37:16 +0000 2022, Text='Patrick Mohr von Mohrstade erklärt, an welche Stelle im Technologie-Stack Data Science gehört und wie Unternehmen s… https://t.co/pcSVzdBWeX')]"
      ]
     },
     "execution_count": 5,
     "metadata": {},
     "output_type": "execute_result"
    }
   ],
   "source": [
    "# Search for tweets containing \"Data Science\"\n",
    "api.GetSearch(term='Data Science', since=2022-1-1, count=10)"
   ]
  },
  {
   "cell_type": "markdown",
   "id": "43603e5d",
   "metadata": {},
   "source": [
    "Using one of the datasets provided in Weeks 7 & 8, or a dataset of your own, choose 3 of the following visualizations to complete. You must submit via PDF along with your code. You are free to use Matplotlib, Seaborn or another package if you prefer."
   ]
  },
  {
   "cell_type": "code",
   "execution_count": 30,
   "id": "8b9213fd",
   "metadata": {},
   "outputs": [],
   "source": [
    "# Load libraries\n",
    "import pandas as pd\n",
    "import matplotlib.pyplot as plt\n",
    "import datetime as dt"
   ]
  },
  {
   "cell_type": "code",
   "execution_count": 27,
   "id": "a7d871ed",
   "metadata": {},
   "outputs": [
    {
     "data": {
      "text/html": [
       "<div>\n",
       "<style scoped>\n",
       "    .dataframe tbody tr th:only-of-type {\n",
       "        vertical-align: middle;\n",
       "    }\n",
       "\n",
       "    .dataframe tbody tr th {\n",
       "        vertical-align: top;\n",
       "    }\n",
       "\n",
       "    .dataframe thead th {\n",
       "        text-align: right;\n",
       "    }\n",
       "</style>\n",
       "<table border=\"1\" class=\"dataframe\">\n",
       "  <thead>\n",
       "    <tr style=\"text-align: right;\">\n",
       "      <th></th>\n",
       "      <th>Date</th>\n",
       "      <th>Name of State / UT</th>\n",
       "      <th>Latitude</th>\n",
       "      <th>Longitude</th>\n",
       "      <th>Total Confirmed cases</th>\n",
       "      <th>Death</th>\n",
       "      <th>Cured/Discharged/Migrated</th>\n",
       "      <th>New cases</th>\n",
       "      <th>New deaths</th>\n",
       "      <th>New recovered</th>\n",
       "    </tr>\n",
       "  </thead>\n",
       "  <tbody>\n",
       "    <tr>\n",
       "      <th>0</th>\n",
       "      <td>1/30/20</td>\n",
       "      <td>Kerala</td>\n",
       "      <td>10.8505</td>\n",
       "      <td>76.2711</td>\n",
       "      <td>1</td>\n",
       "      <td>0</td>\n",
       "      <td>0</td>\n",
       "      <td>0</td>\n",
       "      <td>0</td>\n",
       "      <td>0</td>\n",
       "    </tr>\n",
       "    <tr>\n",
       "      <th>1</th>\n",
       "      <td>1/31/20</td>\n",
       "      <td>Kerala</td>\n",
       "      <td>10.8505</td>\n",
       "      <td>76.2711</td>\n",
       "      <td>1</td>\n",
       "      <td>0</td>\n",
       "      <td>0</td>\n",
       "      <td>0</td>\n",
       "      <td>0</td>\n",
       "      <td>0</td>\n",
       "    </tr>\n",
       "    <tr>\n",
       "      <th>2</th>\n",
       "      <td>2/1/20</td>\n",
       "      <td>Kerala</td>\n",
       "      <td>10.8505</td>\n",
       "      <td>76.2711</td>\n",
       "      <td>2</td>\n",
       "      <td>0</td>\n",
       "      <td>0</td>\n",
       "      <td>1</td>\n",
       "      <td>0</td>\n",
       "      <td>0</td>\n",
       "    </tr>\n",
       "    <tr>\n",
       "      <th>3</th>\n",
       "      <td>2/2/20</td>\n",
       "      <td>Kerala</td>\n",
       "      <td>10.8505</td>\n",
       "      <td>76.2711</td>\n",
       "      <td>3</td>\n",
       "      <td>0</td>\n",
       "      <td>0</td>\n",
       "      <td>1</td>\n",
       "      <td>0</td>\n",
       "      <td>0</td>\n",
       "    </tr>\n",
       "    <tr>\n",
       "      <th>4</th>\n",
       "      <td>2/3/20</td>\n",
       "      <td>Kerala</td>\n",
       "      <td>10.8505</td>\n",
       "      <td>76.2711</td>\n",
       "      <td>3</td>\n",
       "      <td>0</td>\n",
       "      <td>0</td>\n",
       "      <td>0</td>\n",
       "      <td>0</td>\n",
       "      <td>0</td>\n",
       "    </tr>\n",
       "  </tbody>\n",
       "</table>\n",
       "</div>"
      ],
      "text/plain": [
       "      Date Name of State / UT  Latitude  Longitude  Total Confirmed cases  \\\n",
       "0  1/30/20             Kerala   10.8505    76.2711                      1   \n",
       "1  1/31/20             Kerala   10.8505    76.2711                      1   \n",
       "2   2/1/20             Kerala   10.8505    76.2711                      2   \n",
       "3   2/2/20             Kerala   10.8505    76.2711                      3   \n",
       "4   2/3/20             Kerala   10.8505    76.2711                      3   \n",
       "\n",
       "   Death  Cured/Discharged/Migrated  New cases  New deaths  New recovered  \n",
       "0      0                          0          0           0              0  \n",
       "1      0                          0          0           0              0  \n",
       "2      0                          0          1           0              0  \n",
       "3      0                          0          1           0              0  \n",
       "4      0                          0          0           0              0  "
      ]
     },
     "execution_count": 27,
     "metadata": {},
     "output_type": "execute_result"
    }
   ],
   "source": [
    "# Load the data\n",
    "Covid_df = pd.read_csv('Data/CovidCases.csv')\n",
    "\n",
    "# Validate the dataload\n",
    "Covid_df.head()"
   ]
  },
  {
   "cell_type": "code",
   "execution_count": 28,
   "id": "0a02c16e",
   "metadata": {},
   "outputs": [
    {
     "data": {
      "text/html": [
       "<div>\n",
       "<style scoped>\n",
       "    .dataframe tbody tr th:only-of-type {\n",
       "        vertical-align: middle;\n",
       "    }\n",
       "\n",
       "    .dataframe tbody tr th {\n",
       "        vertical-align: top;\n",
       "    }\n",
       "\n",
       "    .dataframe thead th {\n",
       "        text-align: right;\n",
       "    }\n",
       "</style>\n",
       "<table border=\"1\" class=\"dataframe\">\n",
       "  <thead>\n",
       "    <tr style=\"text-align: right;\">\n",
       "      <th></th>\n",
       "      <th>Date</th>\n",
       "      <th>Name of State / UT</th>\n",
       "      <th>Latitude</th>\n",
       "      <th>Longitude</th>\n",
       "      <th>Total Confirmed cases</th>\n",
       "      <th>Death</th>\n",
       "      <th>Cured/Discharged/Migrated</th>\n",
       "      <th>New cases</th>\n",
       "      <th>New deaths</th>\n",
       "      <th>New recovered</th>\n",
       "    </tr>\n",
       "  </thead>\n",
       "  <tbody>\n",
       "    <tr>\n",
       "      <th>0</th>\n",
       "      <td>1/30/20</td>\n",
       "      <td>Kerala</td>\n",
       "      <td>10.8505</td>\n",
       "      <td>76.2711</td>\n",
       "      <td>1</td>\n",
       "      <td>0</td>\n",
       "      <td>0</td>\n",
       "      <td>0</td>\n",
       "      <td>0</td>\n",
       "      <td>0</td>\n",
       "    </tr>\n",
       "    <tr>\n",
       "      <th>1</th>\n",
       "      <td>1/31/20</td>\n",
       "      <td>Kerala</td>\n",
       "      <td>10.8505</td>\n",
       "      <td>76.2711</td>\n",
       "      <td>1</td>\n",
       "      <td>0</td>\n",
       "      <td>0</td>\n",
       "      <td>0</td>\n",
       "      <td>0</td>\n",
       "      <td>0</td>\n",
       "    </tr>\n",
       "    <tr>\n",
       "      <th>2</th>\n",
       "      <td>2/1/20</td>\n",
       "      <td>Kerala</td>\n",
       "      <td>10.8505</td>\n",
       "      <td>76.2711</td>\n",
       "      <td>2</td>\n",
       "      <td>0</td>\n",
       "      <td>0</td>\n",
       "      <td>1</td>\n",
       "      <td>0</td>\n",
       "      <td>0</td>\n",
       "    </tr>\n",
       "    <tr>\n",
       "      <th>3</th>\n",
       "      <td>2/2/20</td>\n",
       "      <td>Kerala</td>\n",
       "      <td>10.8505</td>\n",
       "      <td>76.2711</td>\n",
       "      <td>3</td>\n",
       "      <td>0</td>\n",
       "      <td>0</td>\n",
       "      <td>1</td>\n",
       "      <td>0</td>\n",
       "      <td>0</td>\n",
       "    </tr>\n",
       "    <tr>\n",
       "      <th>4</th>\n",
       "      <td>2/3/20</td>\n",
       "      <td>Kerala</td>\n",
       "      <td>10.8505</td>\n",
       "      <td>76.2711</td>\n",
       "      <td>3</td>\n",
       "      <td>0</td>\n",
       "      <td>0</td>\n",
       "      <td>0</td>\n",
       "      <td>0</td>\n",
       "      <td>0</td>\n",
       "    </tr>\n",
       "  </tbody>\n",
       "</table>\n",
       "</div>"
      ],
      "text/plain": [
       "      Date Name of State / UT  Latitude  Longitude  Total Confirmed cases  \\\n",
       "0  1/30/20             Kerala   10.8505    76.2711                      1   \n",
       "1  1/31/20             Kerala   10.8505    76.2711                      1   \n",
       "2   2/1/20             Kerala   10.8505    76.2711                      2   \n",
       "3   2/2/20             Kerala   10.8505    76.2711                      3   \n",
       "4   2/3/20             Kerala   10.8505    76.2711                      3   \n",
       "\n",
       "   Death  Cured/Discharged/Migrated  New cases  New deaths  New recovered  \n",
       "0      0                          0          0           0              0  \n",
       "1      0                          0          0           0              0  \n",
       "2      0                          0          1           0              0  \n",
       "3      0                          0          1           0              0  \n",
       "4      0                          0          0           0              0  "
      ]
     },
     "execution_count": 28,
     "metadata": {},
     "output_type": "execute_result"
    }
   ],
   "source": [
    "# View the dataset\n",
    "Covid_df.head()"
   ]
  },
  {
   "cell_type": "markdown",
   "id": "7755076d",
   "metadata": {},
   "source": [
    "Scatter plot"
   ]
  },
  {
   "cell_type": "code",
   "execution_count": 34,
   "id": "324dfb42",
   "metadata": {},
   "outputs": [
    {
     "data": {
      "image/png": "[encoded data removed]",
      "text/plain": [
       "<Figure size 432x288 with 1 Axes>"
      ]
     },
     "metadata": {
      "needs_background": "light"
     },
     "output_type": "display_data"
    }
   ],
   "source": [
    "# Creating a Line graph of Total Confirmed Cases by day.\n",
    "\n",
    "Covid_df['Date'] =  pd.to_datetime(Covid_df['Date'])\n",
    "Covid_df.groupby('Date')['New cases'].sum().plot(kind='line')\n",
    "plt.gca().set_xbound(dt.date(2020, 1, 30), dt.date(2020, 8, 30))\n",
    "plt.title('Daily New Cases in India')          #Adding a title to the graph\n",
    "plt.xlabel('Date')                             #Labeling the axis to the graph\n",
    "plt.ylabel('Number of new cases')\n",
    "plt.show()"
   ]
  },
  {
   "cell_type": "markdown",
   "id": "864ad9cc",
   "metadata": {},
   "source": [
    "Bar plot"
   ]
  },
  {
   "cell_type": "code",
   "execution_count": 36,
   "id": "3845ae51",
   "metadata": {},
   "outputs": [
    {
     "data": {
      "image/png": "[encoded data removed]",
      "text/plain": [
       "<Figure size 432x288 with 1 Axes>"
      ]
     },
     "metadata": {
      "needs_background": "light"
     },
     "output_type": "display_data"
    }
   ],
   "source": [
    "# Creating a bar Chart of the new cases every day.\n",
    "\n",
    "plt.bar(Covid_df['Date'], Covid_df['New cases'])\n",
    "plt.xlabel('Date')\n",
    "plt.ylabel('Number of new cases')\n",
    "plt.title('No. of New Cases by Date')\n",
    "plt.show()"
   ]
  },
  {
   "cell_type": "markdown",
   "id": "95aa80d8",
   "metadata": {},
   "source": [
    "Histogram"
   ]
  },
  {
   "cell_type": "code",
   "execution_count": 57,
   "id": "ad5563d7",
   "metadata": {},
   "outputs": [
    {
     "data": {
      "image/png": "[encoded data removed]",
      "text/plain": [
       "<Figure size 432x288 with 1 Axes>"
      ]
     },
     "metadata": {},
     "output_type": "display_data"
    }
   ],
   "source": [
    "# Creating a pie chart of state-wise deaths for the Top 6 States by death\n",
    "\n",
    "Covid_df['Death'] =  pd.to_numeric(Covid_df['Death'])\n",
    "Covid_df.groupby('Name of State / UT')['Death'].max().head(7).plot(kind='pie',title='State-wise Deaths')\n",
    "plt.show()"
   ]
  },
  {
   "cell_type": "code",
   "execution_count": null,
   "id": "a8fb3914",
   "metadata": {},
   "outputs": [],
   "source": []
  }
 ],
 "metadata": {
  "kernelspec": {
   "display_name": "Python 3",
   "language": "python",
   "name": "python3"
  },
  "language_info": {
   "codemirror_mode": {
    "name": "ipython",
    "version": 3
   },
   "file_extension": ".py",
   "mimetype": "text/x-python",
   "name": "python",
   "nbconvert_exporter": "python",
   "pygments_lexer": "ipython3",
   "version": "3.8.8"
  }
 },
 "nbformat": 4,
 "nbformat_minor": 5
}
