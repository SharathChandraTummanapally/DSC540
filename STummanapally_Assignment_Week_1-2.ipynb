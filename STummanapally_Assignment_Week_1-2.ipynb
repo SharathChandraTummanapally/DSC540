{
 "cells": [
  {
   "cell_type": "markdown",
   "id": "9fdfadad",
   "metadata": {},
   "source": [
    "### Create a Jupyter notebook where you create a list, iterate over the list and sort your results, generate random numbers, add to the list, and then print your results."
   ]
  },
  {
   "cell_type": "code",
   "execution_count": 78,
   "id": "60b1f582",
   "metadata": {},
   "outputs": [
    {
     "name": "stdout",
     "output_type": "stream",
     "text": [
      "8834\n",
      "3322\n",
      "3245\n",
      "7464\n",
      "9595\n"
     ]
    }
   ],
   "source": [
    "import random\n",
    "\n",
    "# Creating a list\n",
    "my_list = [8834, 3322, 3245, 7464, 9595]\n",
    "  \n",
    "# Using for loop for iterating over the list\n",
    "for i in my_list:\n",
    "    print(i)"
   ]
  },
  {
   "cell_type": "code",
   "execution_count": 79,
   "id": "8cff2b5d",
   "metadata": {},
   "outputs": [
    {
     "data": {
      "text/plain": [
       "[3245, 3322, 7464, 8834, 9595]"
      ]
     },
     "execution_count": 79,
     "metadata": {},
     "output_type": "execute_result"
    }
   ],
   "source": [
    "# Sorting my results\n",
    "sorted(my_list)"
   ]
  },
  {
   "cell_type": "code",
   "execution_count": 80,
   "id": "d9c62dc9",
   "metadata": {},
   "outputs": [
    {
     "name": "stdout",
     "output_type": "stream",
     "text": [
      "[6432, 2742, 7051, 7954, 3248, 157, 9267, 8727, 2729, 7228]\n"
     ]
    }
   ],
   "source": [
    "# Generating Random numbers in a list\n",
    "random_list = [random.randint(0, 10000) for x in range (0, 10)]\n",
    "\n",
    "# Printing the random list\n",
    "print(random_list)"
   ]
  },
  {
   "cell_type": "code",
   "execution_count": 81,
   "id": "d647c1d2",
   "metadata": {},
   "outputs": [],
   "source": [
    "# Adding the random list to my list\n",
    "my_list.extend(random_list)"
   ]
  },
  {
   "cell_type": "code",
   "execution_count": 82,
   "id": "8cc1cdbb",
   "metadata": {},
   "outputs": [
    {
     "name": "stdout",
     "output_type": "stream",
     "text": [
      "[8834, 3322, 3245, 7464, 9595, 6432, 2742, 7051, 7954, 3248, 157, 9267, 8727, 2729, 7228]\n"
     ]
    }
   ],
   "source": [
    "# Printing the final list\n",
    "print(my_list)"
   ]
  },
  {
   "cell_type": "markdown",
   "id": "ff7de3b6",
   "metadata": {},
   "source": [
    "### Create a line chart with Matplotlib and the World Population data file."
   ]
  },
  {
   "cell_type": "code",
   "execution_count": 34,
   "id": "37416f0b",
   "metadata": {},
   "outputs": [
    {
     "name": "stdout",
     "output_type": "stream",
     "text": [
      "Requirement already satisfied: numpy in /Users/sharath/opt/anaconda3/lib/python3.8/site-packages (1.20.1)\r\n"
     ]
    }
   ],
   "source": [
    "# Install a pip package in the current Jupyter kernel\n",
    "import sys\n",
    "!{sys.executable} -m pip install numpy"
   ]
  },
  {
   "cell_type": "code",
   "execution_count": 2,
   "id": "ec93eb03",
   "metadata": {},
   "outputs": [
    {
     "data": {
      "text/html": [
       "<div>\n",
       "<style scoped>\n",
       "    .dataframe tbody tr th:only-of-type {\n",
       "        vertical-align: middle;\n",
       "    }\n",
       "\n",
       "    .dataframe tbody tr th {\n",
       "        vertical-align: top;\n",
       "    }\n",
       "\n",
       "    .dataframe thead th {\n",
       "        text-align: right;\n",
       "    }\n",
       "</style>\n",
       "<table border=\"1\" class=\"dataframe\">\n",
       "  <thead>\n",
       "    <tr style=\"text-align: right;\">\n",
       "      <th></th>\n",
       "      <th>Year</th>\n",
       "      <th>Population</th>\n",
       "    </tr>\n",
       "  </thead>\n",
       "  <tbody>\n",
       "    <tr>\n",
       "      <th>0</th>\n",
       "      <td>1960</td>\n",
       "      <td>3028654024</td>\n",
       "    </tr>\n",
       "    <tr>\n",
       "      <th>1</th>\n",
       "      <td>1961</td>\n",
       "      <td>3068356747</td>\n",
       "    </tr>\n",
       "    <tr>\n",
       "      <th>2</th>\n",
       "      <td>1962</td>\n",
       "      <td>3121963107</td>\n",
       "    </tr>\n",
       "    <tr>\n",
       "      <th>3</th>\n",
       "      <td>1963</td>\n",
       "      <td>3187471383</td>\n",
       "    </tr>\n",
       "    <tr>\n",
       "      <th>4</th>\n",
       "      <td>1964</td>\n",
       "      <td>3253112403</td>\n",
       "    </tr>\n",
       "  </tbody>\n",
       "</table>\n",
       "</div>"
      ],
      "text/plain": [
       "   Year  Population\n",
       "0  1960  3028654024\n",
       "1  1961  3068356747\n",
       "2  1962  3121963107\n",
       "3  1963  3187471383\n",
       "4  1964  3253112403"
      ]
     },
     "execution_count": 2,
     "metadata": {},
     "output_type": "execute_result"
    }
   ],
   "source": [
    "import numpy as np \n",
    "import pandas as pd \n",
    "import matplotlib.pyplot as plt \n",
    "df = pd.read_excel('/Users/sharath/DSC540/Data/world-population.xlsm') \n",
    "df.head()\n",
    "\n"
   ]
  },
  {
   "cell_type": "code",
   "execution_count": 77,
   "id": "de2d4238",
   "metadata": {},
   "outputs": [
    {
     "data": {
      "image/png": "[encoded data removed]",
      "text/plain": [
       "<Figure size 432x288 with 1 Axes>"
      ]
     },
     "metadata": {
      "needs_background": "light"
     },
     "output_type": "display_data"
    }
   ],
   "source": [
    "plt.plot(df['Year'], df['Population'], color='blue', marker='.', ms='4')\n",
    "plt.title('World Population Graph')\n",
    "plt.xlabel('Year')\n",
    "plt.ylabel('Population in billions')\n",
    "plt.show()"
   ]
  },
  {
   "cell_type": "markdown",
   "id": "3a7b2e03",
   "metadata": {},
   "source": [
    "#### Activity 1: Handling Lists \n",
    "\n",
    "In this activity, we will generate a list of random numbers and then generate another list from the first one, which only contains numbers that are divisible by three. Repeat the experiment three times. Then, we will calculate the average difference of length between the two lists. These are the steps for completing this activity: "
   ]
  },
  {
   "cell_type": "markdown",
   "id": "dec5a2c0",
   "metadata": {},
   "source": [
    "1. Create a list of 100 random numbers.\n"
   ]
  },
  {
   "cell_type": "code",
   "execution_count": 101,
   "id": "c05371ec",
   "metadata": {},
   "outputs": [],
   "source": [
    "random_list = [random.randint(0, 1000) for x in range (0, 100)]"
   ]
  },
  {
   "cell_type": "markdown",
   "id": "65541c1a",
   "metadata": {},
   "source": [
    "2. Create a new list from this random list, with numbers that are divisible by 3.\n"
   ]
  },
  {
   "cell_type": "code",
   "execution_count": 100,
   "id": "74872f5e",
   "metadata": {},
   "outputs": [],
   "source": [
    "div3_list = [a for a in random_list if a % 3 == 0] "
   ]
  },
  {
   "cell_type": "markdown",
   "id": "b95be0b2",
   "metadata": {},
   "source": [
    "3. Calculate the length of these two lists and store the difference in a new variable. \n"
   ]
  },
  {
   "cell_type": "code",
   "execution_count": 97,
   "id": "30785554",
   "metadata": {},
   "outputs": [
    {
     "data": {
      "text/plain": [
       "72"
      ]
     },
     "execution_count": 97,
     "metadata": {},
     "output_type": "execute_result"
    }
   ],
   "source": [
    "random_list_len = len(random_list) \n",
    "div3_list_len = len(div3_list) \n",
    "diff_len = random_list_len - div3_list_len \n",
    "diff_len"
   ]
  },
  {
   "cell_type": "markdown",
   "id": "8a47fd5a",
   "metadata": {},
   "source": [
    "4. Using a loop, perform steps 2 and 3 and find the difference variable three times. "
   ]
  },
  {
   "cell_type": "code",
   "execution_count": 123,
   "id": "3e98988d",
   "metadata": {},
   "outputs": [
    {
     "data": {
      "text/plain": [
       "[67, 65, 67]"
      ]
     },
     "execution_count": 123,
     "metadata": {},
     "output_type": "execute_result"
    }
   ],
   "source": [
    "difference_list = [] \n",
    "for i in range(0, 3): \n",
    "    random_list = [random.randint(0, 1000) for x in range (0, 100)]\n",
    "    div3_list = [a for a in random_list if a % 3 == 0] \n",
    "    random_list_len = len(random_list) \n",
    "    div3_list_len = len(div3_list) \n",
    "    diff_len = random_list_len - div3_list_len \n",
    "    difference_list.append(diff_len) \n",
    "difference_list"
   ]
  },
  {
   "cell_type": "markdown",
   "id": "591f8443",
   "metadata": {},
   "source": [
    "5. Find the arithmetic mean of these three difference values."
   ]
  },
  {
   "cell_type": "code",
   "execution_count": 125,
   "id": "39622280",
   "metadata": {},
   "outputs": [
    {
     "data": {
      "text/plain": [
       "66.33333333333333"
      ]
     },
     "execution_count": 125,
     "metadata": {},
     "output_type": "execute_result"
    }
   ],
   "source": [
    "mean_diff = sum(difference_list) / float(len(difference_list)) \n",
    "mean_diff"
   ]
  },
  {
   "cell_type": "markdown",
   "id": "d1b7c99c",
   "metadata": {},
   "source": [
    "#### Activity 2: Analyze a Multiline String and Generate the Unique Word Count This section will ensure that you have understood the various basic data structures and their manipulation.\n",
    "\n",
    "We will do that by going through an activity that has been designed specifically for this purpose. In this activity, we will do the following: Get multiline text and save it in a Python variable Get rid of all new lines in it using string methods Get all the unique words and their occurrences from the string  Repeat the step to find all unique words and occurrences, without considering case sensitivity  \n",
    "\n",
    "Note: For the sake of simplicity for this activity, the original text (which can be found at https://www.gutenberg.org/files/1342/1342-h/1342-h.htm) has been pre-processed a bit.\n",
    " \n",
    "These are the steps to guide you through solving this activity: "
   ]
  },
  {
   "cell_type": "markdown",
   "id": "d32d52b3",
   "metadata": {},
   "source": [
    "1. Create a mutliline_text variable by copying the text from the first chapter of Pride and Prejudice.  Note The first chapter of Pride and Prejudice by Jane Austen has been made available on the GitHub repository at https://github.com/TrainingByPackt/Data-Wrangling-with-Python/blob/master/Chapter01/Activity02/. \n"
   ]
  },
  {
   "cell_type": "code",
   "execution_count": 145,
   "id": "0c293761",
   "metadata": {},
   "outputs": [],
   "source": [
    "multiline_text = \"\"\"It is a truth universally acknowledged, that a single man in possession of a good fortune, must be in want of a wife.\n",
    "\n",
    "However little known the feelings or views of such a man may be on his first entering a neighbourhood, this truth is so well fixed in the minds of the surrounding families, that he is considered the rightful property of some one or other of their daughters.\n",
    "\n",
    "\"My dear Mr. Bennet,\" said his lady to him one day, \"have you heard that Netherfield Park is let at last?\"\n",
    "\n",
    "Mr. Bennet replied that he had not.\n",
    "\n",
    "\"But it is,\" returned she; \"for Mrs. Long has just been here, and she told me all about it.\"\n",
    "\n",
    "Mr. Bennet made no answer.\n",
    "\n",
    "\"Do you not want to know who has taken it?\" cried his wife impatiently.\n",
    "\n",
    "\"You want to tell me, and I have no objection to hearing it.\"\"\"\n"
   ]
  },
  {
   "cell_type": "markdown",
   "id": "674f002c",
   "metadata": {},
   "source": [
    "2. Find the type and length of the multiline_text string using the commands type and len. "
   ]
  },
  {
   "cell_type": "code",
   "execution_count": 146,
   "id": "7a4e2a8e",
   "metadata": {},
   "outputs": [
    {
     "data": {
      "text/plain": [
       "str"
      ]
     },
     "execution_count": 146,
     "metadata": {},
     "output_type": "execute_result"
    }
   ],
   "source": [
    "type(multiline_text)"
   ]
  },
  {
   "cell_type": "code",
   "execution_count": 147,
   "id": "49b68e3e",
   "metadata": {},
   "outputs": [
    {
     "data": {
      "text/plain": [
       "778"
      ]
     },
     "execution_count": 147,
     "metadata": {},
     "output_type": "execute_result"
    }
   ],
   "source": [
    "len(multiline_text)"
   ]
  },
  {
   "cell_type": "markdown",
   "id": "91933a8f",
   "metadata": {},
   "source": [
    "3. Remove all new lines and symbols using the replace function."
   ]
  },
  {
   "cell_type": "code",
   "execution_count": 149,
   "id": "e113d651",
   "metadata": {},
   "outputs": [
    {
     "data": {
      "text/plain": [
       "'It is a truth universally acknowledged, that a single man in possession of a good fortune, must be in want of a wife.However little known the feelings or views of such a man may be on his first entering a neighbourhood, this truth is so well fixed in the minds of the surrounding families, that he is considered the rightful property of some one or other of their daughters.\"My dear Mr. Bennet,\" said his lady to him one day, \"have you heard that Netherfield Park is let at last?\"Mr. Bennet replied that he had not.\"But it is,\" returned she; \"for Mrs. Long has just been here, and she told me all about it.\"Mr. Bennet made no answer.\"Do you not want to know who has taken it?\" cried his wife impatiently.\"You want to tell me, and I have no objection to hearing it.'"
      ]
     },
     "execution_count": 149,
     "metadata": {},
     "output_type": "execute_result"
    }
   ],
   "source": [
    "multiline_text = multiline_text.replace('\\n', \"\")\n",
    "multiline_text"
   ]
  },
  {
   "cell_type": "markdown",
   "id": "0294041b",
   "metadata": {},
   "source": [
    "4. Find all of the words in multiline_text using the split function."
   ]
  },
  {
   "cell_type": "code",
   "execution_count": 178,
   "id": "909f6a56",
   "metadata": {},
   "outputs": [
    {
     "data": {
      "text/plain": [
       "['It',\n",
       " 'is',\n",
       " 'a',\n",
       " 'truth',\n",
       " 'universally',\n",
       " 'acknowledged,',\n",
       " 'that',\n",
       " 'a',\n",
       " 'single',\n",
       " 'man',\n",
       " 'in',\n",
       " 'possession',\n",
       " 'of',\n",
       " 'a',\n",
       " 'good',\n",
       " 'fortune,',\n",
       " 'must',\n",
       " 'be',\n",
       " 'in',\n",
       " 'want',\n",
       " 'of',\n",
       " 'a',\n",
       " 'wife.However',\n",
       " 'little',\n",
       " 'known',\n",
       " 'the',\n",
       " 'feelings',\n",
       " 'or',\n",
       " 'views',\n",
       " 'of',\n",
       " 'such',\n",
       " 'a',\n",
       " 'man',\n",
       " 'may',\n",
       " 'be',\n",
       " 'on',\n",
       " 'his',\n",
       " 'first',\n",
       " 'entering',\n",
       " 'a',\n",
       " 'neighbourhood,',\n",
       " 'this',\n",
       " 'truth',\n",
       " 'is',\n",
       " 'so',\n",
       " 'well',\n",
       " 'fixed',\n",
       " 'in',\n",
       " 'the',\n",
       " 'minds',\n",
       " 'of',\n",
       " 'the',\n",
       " 'surrounding',\n",
       " 'families,',\n",
       " 'that',\n",
       " 'he',\n",
       " 'is',\n",
       " 'considered',\n",
       " 'the',\n",
       " 'rightful',\n",
       " 'property',\n",
       " 'of',\n",
       " 'some',\n",
       " 'one',\n",
       " 'or',\n",
       " 'other',\n",
       " 'of',\n",
       " 'their',\n",
       " 'daughters.\"My',\n",
       " 'dear',\n",
       " 'Mr.',\n",
       " 'Bennet,\"',\n",
       " 'said',\n",
       " 'his',\n",
       " 'lady',\n",
       " 'to',\n",
       " 'him',\n",
       " 'one',\n",
       " 'day,',\n",
       " '\"have',\n",
       " 'you',\n",
       " 'heard',\n",
       " 'that',\n",
       " 'Netherfield',\n",
       " 'Park',\n",
       " 'is',\n",
       " 'let',\n",
       " 'at',\n",
       " 'last?\"Mr.',\n",
       " 'Bennet',\n",
       " 'replied',\n",
       " 'that',\n",
       " 'he',\n",
       " 'had',\n",
       " 'not.\"But',\n",
       " 'it',\n",
       " 'is,\"',\n",
       " 'returned',\n",
       " 'she;',\n",
       " '\"for',\n",
       " 'Mrs.',\n",
       " 'Long',\n",
       " 'has',\n",
       " 'just',\n",
       " 'been',\n",
       " 'here,',\n",
       " 'and',\n",
       " 'she',\n",
       " 'told',\n",
       " 'me',\n",
       " 'all',\n",
       " 'about',\n",
       " 'it.\"Mr.',\n",
       " 'Bennet',\n",
       " 'made',\n",
       " 'no',\n",
       " 'answer.\"Do',\n",
       " 'you',\n",
       " 'not',\n",
       " 'want',\n",
       " 'to',\n",
       " 'know',\n",
       " 'who',\n",
       " 'has',\n",
       " 'taken',\n",
       " 'it?\"',\n",
       " 'cried',\n",
       " 'his',\n",
       " 'wife',\n",
       " 'impatiently.\"You',\n",
       " 'want',\n",
       " 'to',\n",
       " 'tell',\n",
       " 'me,',\n",
       " 'and',\n",
       " 'I',\n",
       " 'have',\n",
       " 'no',\n",
       " 'objection',\n",
       " 'to',\n",
       " 'hearing',\n",
       " 'it.']"
      ]
     },
     "execution_count": 178,
     "metadata": {},
     "output_type": "execute_result"
    }
   ],
   "source": [
    "allwords = multiline_text.split(\" \")\n",
    "allwords"
   ]
  },
  {
   "cell_type": "markdown",
   "id": "01123410",
   "metadata": {},
   "source": [
    "5. Create a list from this list that will contain only the unique words. "
   ]
  },
  {
   "cell_type": "code",
   "execution_count": 179,
   "id": "da180a5d",
   "metadata": {},
   "outputs": [
    {
     "data": {
      "text/plain": [
       "['It',\n",
       " 'is',\n",
       " 'a',\n",
       " 'truth',\n",
       " 'universally',\n",
       " 'acknowledged,',\n",
       " 'that',\n",
       " 'single',\n",
       " 'man',\n",
       " 'in',\n",
       " 'possession',\n",
       " 'of',\n",
       " 'good',\n",
       " 'fortune,',\n",
       " 'must',\n",
       " 'be',\n",
       " 'want',\n",
       " 'wife.However',\n",
       " 'little',\n",
       " 'known',\n",
       " 'the',\n",
       " 'feelings',\n",
       " 'or',\n",
       " 'views',\n",
       " 'such',\n",
       " 'may',\n",
       " 'on',\n",
       " 'his',\n",
       " 'first',\n",
       " 'entering',\n",
       " 'neighbourhood,',\n",
       " 'this',\n",
       " 'so',\n",
       " 'well',\n",
       " 'fixed',\n",
       " 'minds',\n",
       " 'surrounding',\n",
       " 'families,',\n",
       " 'he',\n",
       " 'considered',\n",
       " 'rightful',\n",
       " 'property',\n",
       " 'some',\n",
       " 'one',\n",
       " 'other',\n",
       " 'their',\n",
       " 'daughters.\"My',\n",
       " 'dear',\n",
       " 'Mr.',\n",
       " 'Bennet,\"',\n",
       " 'said',\n",
       " 'lady',\n",
       " 'to',\n",
       " 'him',\n",
       " 'day,',\n",
       " '\"have',\n",
       " 'you',\n",
       " 'heard',\n",
       " 'Netherfield',\n",
       " 'Park',\n",
       " 'let',\n",
       " 'at',\n",
       " 'last?\"Mr.',\n",
       " 'Bennet',\n",
       " 'replied',\n",
       " 'had',\n",
       " 'not.\"But',\n",
       " 'it',\n",
       " 'is,\"',\n",
       " 'returned',\n",
       " 'she;',\n",
       " '\"for',\n",
       " 'Mrs.',\n",
       " 'Long',\n",
       " 'has',\n",
       " 'just',\n",
       " 'been',\n",
       " 'here,',\n",
       " 'and',\n",
       " 'she',\n",
       " 'told',\n",
       " 'me',\n",
       " 'all',\n",
       " 'about',\n",
       " 'it.\"Mr.',\n",
       " 'made',\n",
       " 'no',\n",
       " 'answer.\"Do',\n",
       " 'not',\n",
       " 'know',\n",
       " 'who',\n",
       " 'taken',\n",
       " 'it?\"',\n",
       " 'cried',\n",
       " 'wife',\n",
       " 'impatiently.\"You',\n",
       " 'tell',\n",
       " 'me,',\n",
       " 'I',\n",
       " 'have',\n",
       " 'objection',\n",
       " 'hearing',\n",
       " 'it.']"
      ]
     },
     "execution_count": 179,
     "metadata": {},
     "output_type": "execute_result"
    }
   ],
   "source": [
    "unique_words = dict.fromkeys(allwords) \n",
    "list(unique_words.keys())\n"
   ]
  },
  {
   "cell_type": "markdown",
   "id": "c5b17701",
   "metadata": {},
   "source": [
    "6. Count the number of times the unique word has appeared in the list using the key and value in dict. "
   ]
  },
  {
   "cell_type": "code",
   "execution_count": 180,
   "id": "ec179584",
   "metadata": {},
   "outputs": [
    {
     "data": {
      "text/plain": [
       "103"
      ]
     },
     "execution_count": 180,
     "metadata": {},
     "output_type": "execute_result"
    }
   ],
   "source": [
    "len(list(unique_words.keys()))\n"
   ]
  },
  {
   "cell_type": "code",
   "execution_count": 191,
   "id": "8f9c29e9",
   "metadata": {},
   "outputs": [
    {
     "data": {
      "text/plain": [
       "{'It': 4,\n",
       " 'is': 16,\n",
       " 'a': 24,\n",
       " 'truth': 8,\n",
       " 'universally': 4,\n",
       " 'acknowledged,': 4,\n",
       " 'that': 16,\n",
       " 'single': 4,\n",
       " 'man': 8,\n",
       " 'in': 12,\n",
       " 'possession': 4,\n",
       " 'of': 24,\n",
       " 'good': 4,\n",
       " 'fortune,': 4,\n",
       " 'must': 4,\n",
       " 'be': 8,\n",
       " 'want': 12,\n",
       " 'wife.However': 4,\n",
       " 'little': 4,\n",
       " 'known': 4,\n",
       " 'the': 16,\n",
       " 'feelings': 4,\n",
       " 'or': 8,\n",
       " 'views': 4,\n",
       " 'such': 4,\n",
       " 'may': 4,\n",
       " 'on': 4,\n",
       " 'his': 12,\n",
       " 'first': 4,\n",
       " 'entering': 4,\n",
       " 'neighbourhood,': 4,\n",
       " 'this': 4,\n",
       " 'so': 4,\n",
       " 'well': 4,\n",
       " 'fixed': 4,\n",
       " 'minds': 4,\n",
       " 'surrounding': 4,\n",
       " 'families,': 4,\n",
       " 'he': 8,\n",
       " 'considered': 4,\n",
       " 'rightful': 4,\n",
       " 'property': 4,\n",
       " 'some': 4,\n",
       " 'one': 8,\n",
       " 'other': 4,\n",
       " 'their': 4,\n",
       " 'daughters.\"My': 4,\n",
       " 'dear': 4,\n",
       " 'Mr.': 4,\n",
       " 'Bennet,\"': 4,\n",
       " 'said': 4,\n",
       " 'lady': 4,\n",
       " 'to': 16,\n",
       " 'him': 4,\n",
       " 'day,': 4,\n",
       " '\"have': 4,\n",
       " 'you': 8,\n",
       " 'heard': 4,\n",
       " 'Netherfield': 4,\n",
       " 'Park': 4,\n",
       " 'let': 4,\n",
       " 'at': 4,\n",
       " 'last?\"Mr.': 4,\n",
       " 'Bennet': 8,\n",
       " 'replied': 4,\n",
       " 'had': 4,\n",
       " 'not.\"But': 4,\n",
       " 'it': 4,\n",
       " 'is,\"': 4,\n",
       " 'returned': 4,\n",
       " 'she;': 4,\n",
       " '\"for': 4,\n",
       " 'Mrs.': 4,\n",
       " 'Long': 4,\n",
       " 'has': 8,\n",
       " 'just': 4,\n",
       " 'been': 4,\n",
       " 'here,': 4,\n",
       " 'and': 8,\n",
       " 'she': 4,\n",
       " 'told': 4,\n",
       " 'me': 4,\n",
       " 'all': 4,\n",
       " 'about': 4,\n",
       " 'it.\"Mr.': 4,\n",
       " 'made': 4,\n",
       " 'no': 8,\n",
       " 'answer.\"Do': 4,\n",
       " 'not': 4,\n",
       " 'know': 4,\n",
       " 'who': 4,\n",
       " 'taken': 4,\n",
       " 'it?\"': 4,\n",
       " 'cried': 4,\n",
       " 'wife': 4,\n",
       " 'impatiently.\"You': 4,\n",
       " 'tell': 4,\n",
       " 'me,': 4,\n",
       " 'I': 4,\n",
       " 'have': 4,\n",
       " 'objection': 4,\n",
       " 'hearing': 4,\n",
       " 'it.': 4}"
      ]
     },
     "execution_count": 191,
     "metadata": {},
     "output_type": "execute_result"
    }
   ],
   "source": [
    "# To count the number of times each of the unique words appears\n",
    "\n",
    "for word in allwords:\n",
    "    if unique_words[word] is None:\n",
    "        unique_words[word] = 1\n",
    "    else:\n",
    "        unique_words[word] += 1\n",
    "unique_words"
   ]
  },
  {
   "cell_type": "markdown",
   "id": "dffa466f",
   "metadata": {},
   "source": [
    "7. Find the top 25 words from the unique words that you have found using the slice function."
   ]
  },
  {
   "cell_type": "code",
   "execution_count": 190,
   "id": "1aca1f7b",
   "metadata": {},
   "outputs": [
    {
     "data": {
      "text/plain": [
       "[('a', 18),\n",
       " ('of', 18),\n",
       " ('is', 12),\n",
       " ('that', 12),\n",
       " ('the', 12),\n",
       " ('to', 12),\n",
       " ('in', 9),\n",
       " ('want', 9),\n",
       " ('his', 9),\n",
       " ('truth', 6),\n",
       " ('man', 6),\n",
       " ('be', 6),\n",
       " ('or', 6),\n",
       " ('he', 6),\n",
       " ('one', 6),\n",
       " ('you', 6),\n",
       " ('Bennet', 6),\n",
       " ('has', 6),\n",
       " ('and', 6),\n",
       " ('no', 6),\n",
       " ('It', 3),\n",
       " ('universally', 3),\n",
       " ('acknowledged,', 3),\n",
       " ('single', 3),\n",
       " ('possession', 3)]"
      ]
     },
     "execution_count": 190,
     "metadata": {},
     "output_type": "execute_result"
    }
   ],
   "source": [
    "top_words = sorted(unique_words.items(), key=lambda key_val_tuple: key_val_tuple[1], reverse=True)\n",
    "top_words[:25]"
   ]
  },
  {
   "cell_type": "markdown",
   "id": "6c9aa0df",
   "metadata": {},
   "source": [
    "#### Activity 3: Permutation, Iterator, Lambda, List \n",
    "\n",
    "In this activity, we will be using permutations to generate all possible three-digit numbers that can be generated using 0, 1, and 2. Then, loop over this iterator, and also use isinstance and assert to make sure that the return types are tuples. Also, use a single line of code involving dropwhile and lambda expressions to convert all the tuples to lists while dropping any leading zeros (for example, (0, 1, 2) becomes [1, 2]). Finally, write a function that takes a list like before and returns the actual number contained in it. These steps will guide you to solve this activity:\n",
    "\n"
   ]
  },
  {
   "cell_type": "markdown",
   "id": "21411546",
   "metadata": {},
   "source": [
    "1. Look up the definition of permutations and dropwhile from itertools. "
   ]
  },
  {
   "cell_type": "code",
   "execution_count": 210,
   "id": "60acaf76",
   "metadata": {},
   "outputs": [],
   "source": [
    "from itertools import permutations, dropwhile \n",
    "permutations?"
   ]
  },
  {
   "cell_type": "code",
   "execution_count": 211,
   "id": "746d0e87",
   "metadata": {},
   "outputs": [],
   "source": [
    "dropwhile?"
   ]
  },
  {
   "cell_type": "markdown",
   "id": "044e6f7e",
   "metadata": {},
   "source": [
    "2. Write an expression to generate all the possible three-digit numbers using 0, 1, and 2. "
   ]
  },
  {
   "cell_type": "code",
   "execution_count": 212,
   "id": "19b84479",
   "metadata": {},
   "outputs": [
    {
     "data": {
      "text/plain": [
       "<itertools.permutations at 0x7fb9013c8b80>"
      ]
     },
     "execution_count": 212,
     "metadata": {},
     "output_type": "execute_result"
    }
   ],
   "source": [
    "permutations(range(3))"
   ]
  },
  {
   "cell_type": "markdown",
   "id": "c8536bf9",
   "metadata": {},
   "source": [
    "3. Loop over the iterator expression you generated before. Print each element that's returned by the iterator. Use assert and isinstance to make sure that the elements are of the tuple type. "
   ]
  },
  {
   "cell_type": "code",
   "execution_count": 221,
   "id": "719e554f",
   "metadata": {},
   "outputs": [
    {
     "name": "stdout",
     "output_type": "stream",
     "text": [
      "(0, 1, 2)\n",
      "(0, 2, 1)\n",
      "(1, 0, 2)\n",
      "(1, 2, 0)\n",
      "(2, 0, 1)\n",
      "(2, 1, 0)\n"
     ]
    }
   ],
   "source": [
    "for num_tuple in permutations(range(3)):\n",
    "    print(num_tuple)\n",
    "    assert isinstance(num_tuple, tuple) "
   ]
  },
  {
   "cell_type": "markdown",
   "id": "f57ef087",
   "metadata": {},
   "source": [
    "4. Write the loop again using dropwhile with a lambda expression to drop any leading zeros from the tuples. As an example, (0, 1, 2) will become [0, 2]. Also, cast the output of dropwhile to a list."
   ]
  },
  {
   "cell_type": "code",
   "execution_count": 230,
   "id": "f8a6b09d",
   "metadata": {},
   "outputs": [
    {
     "name": "stdout",
     "output_type": "stream",
     "text": [
      "[1, 2]\n",
      "[2, 1]\n",
      "[1, 0, 2]\n",
      "[1, 2, 0]\n",
      "[2, 0, 1]\n",
      "[2, 1, 0]\n"
     ]
    }
   ],
   "source": [
    "for num_tuple in permutations(range(3)):\n",
    "    result = list(dropwhile(lambda x: x <= 0, num_tuple))\n",
    "    print(result)"
   ]
  },
  {
   "cell_type": "markdown",
   "id": "5d3bf1e3",
   "metadata": {},
   "source": [
    "5. Check the actual type that dropwhile returns. "
   ]
  },
  {
   "cell_type": "code",
   "execution_count": 231,
   "id": "a89d1b38",
   "metadata": {},
   "outputs": [
    {
     "data": {
      "text/plain": [
       "list"
      ]
     },
     "execution_count": 231,
     "metadata": {},
     "output_type": "execute_result"
    }
   ],
   "source": [
    "type(result)"
   ]
  },
  {
   "cell_type": "markdown",
   "id": "35ceb93e",
   "metadata": {},
   "source": [
    "6. Combine the preceding code into one block, and this time write a separate function where you will pass the list generated from dropwhile, and the function will return the whole number contained in the list. As an example, if you pass [1, 2] to the function, it will return 12. Make sure that the return type is indeed a number and not a string. Although this task can be achieved using other tricks, we require that you treat the incoming list as a stack in the function and generate the number by reading the individual digits from the stack."
   ]
  },
  {
   "cell_type": "code",
   "execution_count": 233,
   "id": "89536654",
   "metadata": {},
   "outputs": [
    {
     "name": "stdout",
     "output_type": "stream",
     "text": [
      "12.0\n",
      "21.0\n",
      "102.0\n",
      "120.0\n",
      "201.0\n",
      "210.0\n"
     ]
    }
   ],
   "source": [
    "import math\n",
    "def conv_number(number_stack):\n",
    "    final_number = 0\n",
    "    for i in range(0, len(number_stack)):\n",
    "        final_number += (number_stack.pop() * (math.pow(10, i)))\n",
    "    return final_number\n",
    "\n",
    "for num_tuple in permutations(range(3)):\n",
    "    number_stack = list(dropwhile(lambda x: x <= 0, num_tuple))\n",
    "    print(conv_number(number_stack))"
   ]
  },
  {
   "cell_type": "markdown",
   "id": "8142b311",
   "metadata": {},
   "source": [
    "#### Activity 4: Design Your Own CSV Parser \n",
    "\n",
    "A CSV file is something you will encounter a lot in your life as a data practitioner. A CSV is a comma-separated file where data from a tabular format is generally stored and separated using commas, although other characters can also be used. In this activity, we will be tasked with building our own CSV reader and parser. Although it is a big task if we try to cover all use cases and edge cases, along with escape characters and all, for the sake of this small activity, we will keep our requirements small. We will assume that there is no escape character, meaning that if you use a comma at any place in your row, it means you are starting a new column. We will also assume that the only function we are interested in is to be able to read a CSV file line by line where each read will generate a new dict with the column names as keys and row names as values. Here is an example:\n",
    "\n",
    "Figure 2.8 Table with sample data We can convert the data in the preceding table into a Python dictionary, which would look as follows: {\"Name\": \"Bob\", \"Age\": \"24\", \"Location\": \"California\"}:\n",
    "\n"
   ]
  },
  {
   "cell_type": "markdown",
   "id": "69c79be7",
   "metadata": {},
   "source": [
    "1. Import zip_longest from itertools. Create a function to zip header, line and fillvalue=None."
   ]
  },
  {
   "cell_type": "code",
   "execution_count": 266,
   "id": "409f1239",
   "metadata": {},
   "outputs": [],
   "source": [
    "from itertools import zip_longest\n",
    "\n",
    "def new_dict(header, line):\n",
    "    zip_x = zip_longest(header, line, fillvalue=None)        \n",
    "    dict_x = {key_val[0]: key_val[1] for key_val in zip_x}   \n",
    "    \n",
    "    return dict_x"
   ]
  },
  {
   "cell_type": "markdown",
   "id": "d0c0d192",
   "metadata": {},
   "source": [
    " 2. Open the accompanying sales_record.csv file from the GitHub link by using r mode inside a with block and first check that it is opened\n",
    " 3. Read the first line and use string methods to generate a list of all the column names.\n",
    " 4. Start reading the file. Read it line by line.\n",
    " 5. Read each line and pass that line to a function, along with the list of the headers. The work of the function is to construct a dict out of these two and fill up the key:values. Keep in mind that a missing value should result in None."
   ]
  },
  {
   "cell_type": "code",
   "execution_count": 278,
   "id": "20d58409",
   "metadata": {},
   "outputs": [
    {
     "name": "stdout",
     "output_type": "stream",
     "text": [
      "List of Column names in the file:  ['Region', 'Country', 'Item Type', 'Sales Channel', 'Order Priority', 'Order Date', 'Order ID', 'Ship Date', 'Units Sold', 'Unit Price', 'Unit Cost', 'Total Revenue', 'Total Cost', 'Total Profit']\n",
      "\n",
      " {'Region': 'Central America and the Caribbean', 'Country': 'Antigua and Barbuda ', 'Item Type': 'Baby Food', 'Sales Channel': 'Online', 'Order Priority': 'M', 'Order Date': '12/20/2013', 'Order ID': '957081544', 'Ship Date': '1/11/2014', 'Units Sold': '552', 'Unit Price': '255.28', 'Unit Cost': '159.42', 'Total Revenue': '140914.56', 'Total Cost': '87999.84', 'Total Profit': '52914.72'}\n",
      "\n",
      " {'Region': 'Central America and the Caribbean', 'Country': 'Panama', 'Item Type': 'Snacks', 'Sales Channel': 'Offline', 'Order Priority': 'C', 'Order Date': '7/5/2010', 'Order ID': '301644504', 'Ship Date': '7/26/2010', 'Units Sold': '2167', 'Unit Price': '152.58', 'Unit Cost': '97.44', 'Total Revenue': '330640.86', 'Total Cost': '211152.48', 'Total Profit': '119488.38'}\n",
      "\n",
      " {'Region': 'Europe', 'Country': 'Czech Republic', 'Item Type': 'Beverages', 'Sales Channel': 'Offline', 'Order Priority': 'C', 'Order Date': '9/12/2011', 'Order ID': '478051030', 'Ship Date': '9/29/2011', 'Units Sold': '4778', 'Unit Price': '47.45', 'Unit Cost': '31.79', 'Total Revenue': '226716.10', 'Total Cost': '151892.62', 'Total Profit': '74823.48'}\n",
      "\n",
      " {'Region': 'Asia', 'Country': 'North Korea', 'Item Type': 'Cereal', 'Sales Channel': 'Offline', 'Order Priority': 'L', 'Order Date': '5/13/2010', 'Order ID': '892599952', 'Ship Date': '6/15/2010', 'Units Sold': '9016', 'Unit Price': '205.70', 'Unit Cost': '117.11', 'Total Revenue': '1854591.20', 'Total Cost': '1055863.76', 'Total Profit': '798727.44'}\n",
      "\n",
      " {'Region': 'Asia', 'Country': 'Sri Lanka', 'Item Type': 'Snacks', 'Sales Channel': 'Offline', 'Order Priority': 'C', 'Order Date': '7/20/2015', 'Order ID': '571902596', 'Ship Date': '7/27/2015', 'Units Sold': '7542', 'Unit Price': '152.58', 'Unit Cost': '97.44', 'Total Revenue': '1150758.36', 'Total Cost': '734892.48', 'Total Profit': '415865.88'}\n",
      "\n",
      " {'Region': 'Middle East and North Africa', 'Country': 'Morocco', 'Item Type': 'Personal Care', 'Sales Channel': 'Offline', 'Order Priority': 'L', 'Order Date': '11/8/2010', 'Order ID': '412882792', 'Ship Date': '11/22/2010', 'Units Sold': '48', 'Unit Price': '81.73', 'Unit Cost': '56.67', 'Total Revenue': '3923.04', 'Total Cost': '2720.16', 'Total Profit': '1202.88'}\n",
      "\n",
      " {'Region': 'Australia and Oceania', 'Country': 'Federated States of Micronesia', 'Item Type': 'Clothes', 'Sales Channel': 'Offline', 'Order Priority': 'H', 'Order Date': '3/28/2011', 'Order ID': '932776868', 'Ship Date': '5/10/2011', 'Units Sold': '8258', 'Unit Price': '109.28', 'Unit Cost': '35.84', 'Total Revenue': '902434.24', 'Total Cost': '295966.72', 'Total Profit': '606467.52'}\n",
      "\n",
      " {'Region': 'Europe', 'Country': 'Bosnia and Herzegovina', 'Item Type': 'Clothes', 'Sales Channel': 'Online', 'Order Priority': 'M', 'Order Date': '10/14/2013', 'Order ID': '919133651', 'Ship Date': '11/4/2013', 'Units Sold': '927', 'Unit Price': '109.28', 'Unit Cost': '35.84', 'Total Revenue': '101302.56', 'Total Cost': '33223.68', 'Total Profit': '68078.88'}\n",
      "\n",
      " {'Region': 'Middle East and North Africa', 'Country': 'Afghanistan', 'Item Type': 'Clothes', 'Sales Channel': 'Offline', 'Order Priority': 'M', 'Order Date': '8/27/2016', 'Order ID': '579814469', 'Ship Date': '10/5/2016', 'Units Sold': '8841', 'Unit Price': '109.28', 'Unit Cost': '35.84', 'Total Revenue': '966144.48', 'Total Cost': '316861.44', 'Total Profit': '649283.04'}\n",
      "\n",
      " {'Region': 'Sub-Saharan Africa', 'Country': 'Ethiopia', 'Item Type': 'Baby Food', 'Sales Channel': 'Online', 'Order Priority': 'M', 'Order Date': '4/13/2015', 'Order ID': '192993152', 'Ship Date': '5/7/2015', 'Units Sold': '9817', 'Unit Price': '255.28', 'Unit Cost': '159.42', 'Total Revenue': '2506083.76', 'Total Cost': '1565026.14', 'Total Profit': '941057.62'}\n",
      "\n",
      " {'Region': 'Middle East and North Africa', 'Country': 'Turkey', 'Item Type': 'Office Supplies', 'Sales Channel': 'Offline', 'Order Priority': 'C', 'Order Date': '9/25/2013', 'Order ID': '557156026', 'Ship Date': '10/15/2013', 'Units Sold': '3704', 'Unit Price': '651.21', 'Unit Cost': '524.96', 'Total Revenue': '2412081.84', 'Total Cost': '1944451.84', 'Total Profit': '467630.00'}\n",
      "\n",
      " {'Region': 'Middle East and North Africa', 'Country': 'Oman', 'Item Type': 'Cosmetics', 'Sales Channel': 'Online', 'Order Priority': 'M', 'Order Date': '5/12/2013', 'Order ID': '741101920', 'Ship Date': '5/17/2013', 'Units Sold': '7382', 'Unit Price': '437.20', 'Unit Cost': '263.33', 'Total Revenue': '3227410.40', 'Total Cost': '1943902.06', 'Total Profit': '1283508.34'}\n"
     ]
    }
   ],
   "source": [
    "with open(\"/Users/sharath/DSC540/Data/sales_record.csv\", \"r\") as sales:\n",
    "    firstline = sales.readline()                      \n",
    "    header = firstline.replace(\"\\n\", \"\").split(\",\") \n",
    "    print('List of Column names in the file: ', header)\n",
    "    \n",
    "    for i, line in enumerate(sales):          \n",
    "        line = line.replace(\"\\n\", \"\").split(\",\")\n",
    "        dict_x = new_dict(header, line)           \n",
    "        print('\\n', dict_x)                           \n",
    "        if i > 10:\n",
    "            break   "
   ]
  },
  {
   "cell_type": "code",
   "execution_count": null,
   "id": "63cb8020",
   "metadata": {},
   "outputs": [],
   "source": []
  }
 ],
 "metadata": {
  "kernelspec": {
   "display_name": "Python 3",
   "language": "python",
   "name": "python3"
  },
  "language_info": {
   "codemirror_mode": {
    "name": "ipython",
    "version": 3
   },
   "file_extension": ".py",
   "mimetype": "text/x-python",
   "name": "python",
   "nbconvert_exporter": "python",
   "pygments_lexer": "ipython3",
   "version": "3.8.8"
  }
 },
 "nbformat": 4,
 "nbformat_minor": 5
}
