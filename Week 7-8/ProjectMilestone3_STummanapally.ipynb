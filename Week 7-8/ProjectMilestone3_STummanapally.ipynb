{
 "cells": [
  {
   "cell_type": "code",
   "execution_count": 48,
   "id": "30a7265c",
   "metadata": {},
   "outputs": [],
   "source": [
    "import numpy as np \n",
    "import pandas as pd \n",
    "from bs4 import BeautifulSoup\n",
    "import bs4"
   ]
  },
  {
   "cell_type": "code",
   "execution_count": 56,
   "id": "92a56962",
   "metadata": {},
   "outputs": [
    {
     "data": {
      "text/html": [
       "<div>\n",
       "<style scoped>\n",
       "    .dataframe tbody tr th:only-of-type {\n",
       "        vertical-align: middle;\n",
       "    }\n",
       "\n",
       "    .dataframe tbody tr th {\n",
       "        vertical-align: top;\n",
       "    }\n",
       "\n",
       "    .dataframe thead th {\n",
       "        text-align: right;\n",
       "    }\n",
       "</style>\n",
       "<table border=\"1\" class=\"dataframe\">\n",
       "  <thead>\n",
       "    <tr style=\"text-align: right;\">\n",
       "      <th></th>\n",
       "      <th>State/Territory</th>\n",
       "      <th>Vaccinated</th>\n",
       "      <th>% of pop.</th>\n",
       "    </tr>\n",
       "  </thead>\n",
       "  <tbody>\n",
       "    <tr>\n",
       "      <th>0</th>\n",
       "      <td>Alaska</td>\n",
       "      <td>473,411</td>\n",
       "      <td>64.7%</td>\n",
       "    </tr>\n",
       "    <tr>\n",
       "      <th>1</th>\n",
       "      <td>Arizona</td>\n",
       "      <td>4,858,243</td>\n",
       "      <td>66.7%</td>\n",
       "    </tr>\n",
       "    <tr>\n",
       "      <th>2</th>\n",
       "      <td>Arkansas</td>\n",
       "      <td>1,881,140</td>\n",
       "      <td>62.3%</td>\n",
       "    </tr>\n",
       "    <tr>\n",
       "      <th>3</th>\n",
       "      <td>California</td>\n",
       "      <td>32,416,845</td>\n",
       "      <td>82.0%</td>\n",
       "    </tr>\n",
       "    <tr>\n",
       "      <th>4</th>\n",
       "      <td>Colorado</td>\n",
       "      <td>4,262,561</td>\n",
       "      <td>74.0%</td>\n",
       "    </tr>\n",
       "  </tbody>\n",
       "</table>\n",
       "</div>"
      ],
      "text/plain": [
       "  State/Territory  Vaccinated % of pop.\n",
       "0          Alaska     473,411     64.7%\n",
       "1         Arizona   4,858,243     66.7%\n",
       "2        Arkansas   1,881,140     62.3%\n",
       "3      California  32,416,845     82.0%\n",
       "4        Colorado   4,262,561     74.0%"
      ]
     },
     "execution_count": 56,
     "metadata": {},
     "output_type": "execute_result"
    }
   ],
   "source": [
    "# Opening the web page to view the HTML source and to understand its structure.\n",
    "web_page = open(\"Data/COVID-19 vaccination in the United States - Wikipedia.html\",\"r\")\n",
    "\n",
    "# Reading the page using bs4.\n",
    "soup = BeautifulSoup(web_page)\n",
    "web_page.close()\n",
    "\n",
    "# Finding the table needed for the exercise.\n",
    "data_tbl = soup.find('table', {'class': 'wikitable sortable static-row-numbers jquery-tablesorter'})\n",
    "\n",
    "# Getting the headers of table.\n",
    "headers = [th.getText().strip() for th in data_tbl.findAll('thead')[0].findAll('th')]\n",
    "\n",
    "# Getting the rows of table and adding to dataframe.\n",
    "rows = data_tbl.findAll('tbody')[0].findAll('tr')[1:]\n",
    "d_rows = [[td.get_text().strip() for td in tr.findAll('td')] for tr in rows]\n",
    "Covid_Vaccinated_by_state_df = pd.DataFrame(d_rows, columns=headers)\n",
    "\n",
    "# Checking the dataframe.\n",
    "Covid_Vaccinated_by_state_df.head()"
   ]
  },
  {
   "cell_type": "code",
   "execution_count": 58,
   "id": "3dd20fce",
   "metadata": {},
   "outputs": [
    {
     "data": {
      "text/plain": [
       "Index(['State', 'Vaccinated', 'Pop %'], dtype='object')"
      ]
     },
     "execution_count": 58,
     "metadata": {},
     "output_type": "execute_result"
    }
   ],
   "source": [
    "# Step 1:\n",
    "# Modifying the column name to appropriate name.\n",
    "\n",
    "Covid_Vaccinated_by_state_df.rename(columns = {'State/Territory':'State','% of pop.':'Pop %'}, inplace = True)\n",
    "\n",
    "# Checking the columns.\n",
    "Covid_Vaccinated_by_state_df.columns"
   ]
  },
  {
   "cell_type": "code",
   "execution_count": 59,
   "id": "56b30ca0",
   "metadata": {},
   "outputs": [
    {
     "data": {
      "text/html": [
       "<div>\n",
       "<style scoped>\n",
       "    .dataframe tbody tr th:only-of-type {\n",
       "        vertical-align: middle;\n",
       "    }\n",
       "\n",
       "    .dataframe tbody tr th {\n",
       "        vertical-align: top;\n",
       "    }\n",
       "\n",
       "    .dataframe thead th {\n",
       "        text-align: right;\n",
       "    }\n",
       "</style>\n",
       "<table border=\"1\" class=\"dataframe\">\n",
       "  <thead>\n",
       "    <tr style=\"text-align: right;\">\n",
       "      <th></th>\n",
       "      <th>State</th>\n",
       "      <th>Vaccinated</th>\n",
       "      <th>Pop %</th>\n",
       "      <th>State Code</th>\n",
       "    </tr>\n",
       "  </thead>\n",
       "  <tbody>\n",
       "    <tr>\n",
       "      <th>0</th>\n",
       "      <td>Alaska</td>\n",
       "      <td>473,411</td>\n",
       "      <td>64.7%</td>\n",
       "      <td>AK</td>\n",
       "    </tr>\n",
       "    <tr>\n",
       "      <th>1</th>\n",
       "      <td>Arizona</td>\n",
       "      <td>4,858,243</td>\n",
       "      <td>66.7%</td>\n",
       "      <td>AZ</td>\n",
       "    </tr>\n",
       "    <tr>\n",
       "      <th>2</th>\n",
       "      <td>Arkansas</td>\n",
       "      <td>1,881,140</td>\n",
       "      <td>62.3%</td>\n",
       "      <td>AR</td>\n",
       "    </tr>\n",
       "    <tr>\n",
       "      <th>3</th>\n",
       "      <td>California</td>\n",
       "      <td>32,416,845</td>\n",
       "      <td>82.0%</td>\n",
       "      <td>CA</td>\n",
       "    </tr>\n",
       "    <tr>\n",
       "      <th>4</th>\n",
       "      <td>Colorado</td>\n",
       "      <td>4,262,561</td>\n",
       "      <td>74.0%</td>\n",
       "      <td>CO</td>\n",
       "    </tr>\n",
       "  </tbody>\n",
       "</table>\n",
       "</div>"
      ],
      "text/plain": [
       "        State  Vaccinated  Pop % State Code\n",
       "0      Alaska     473,411  64.7%         AK\n",
       "1     Arizona   4,858,243  66.7%         AZ\n",
       "2    Arkansas   1,881,140  62.3%         AR\n",
       "3  California  32,416,845  82.0%         CA\n",
       "4    Colorado   4,262,561  74.0%         CO"
      ]
     },
     "execution_count": 59,
     "metadata": {},
     "output_type": "execute_result"
    }
   ],
   "source": [
    "# Step 2:\n",
    "# Adding new state code column. We need it to join with flat file for further analysis.\n",
    "\n",
    "# Loading states data to dataframe.\n",
    "states_df = pd.read_csv('Data/States.csv')\n",
    "\n",
    "# Removing unwanted columns from states dataframe.\n",
    "states_df = states_df.drop(['Abbrev'], axis = 1)\n",
    "\n",
    "# Merging two dataframes on state name to get state code.\n",
    "Covid_Vaccinated_by_state_df = pd.merge(Covid_Vaccinated_by_state_df, states_df, on = 'State')\n",
    "\n",
    "# Modifying the column name to appropriate name.\n",
    "Covid_Vaccinated_by_state_df.rename(columns = {'Code':'State Code'}, inplace = True)\n",
    "\n",
    "# Checking the dataframe.\n",
    "Covid_Vaccinated_by_state_df.head()"
   ]
  },
  {
   "cell_type": "code",
   "execution_count": 61,
   "id": "9b82715a",
   "metadata": {},
   "outputs": [
    {
     "data": {
      "text/html": [
       "<div>\n",
       "<style scoped>\n",
       "    .dataframe tbody tr th:only-of-type {\n",
       "        vertical-align: middle;\n",
       "    }\n",
       "\n",
       "    .dataframe tbody tr th {\n",
       "        vertical-align: top;\n",
       "    }\n",
       "\n",
       "    .dataframe thead th {\n",
       "        text-align: right;\n",
       "    }\n",
       "</style>\n",
       "<table border=\"1\" class=\"dataframe\">\n",
       "  <thead>\n",
       "    <tr style=\"text-align: right;\">\n",
       "      <th></th>\n",
       "      <th>State Code</th>\n",
       "      <th>State</th>\n",
       "      <th>Vaccinated</th>\n",
       "      <th>Pop %</th>\n",
       "    </tr>\n",
       "  </thead>\n",
       "  <tbody>\n",
       "    <tr>\n",
       "      <th>0</th>\n",
       "      <td>AK</td>\n",
       "      <td>Alaska</td>\n",
       "      <td>473,411</td>\n",
       "      <td>64.7%</td>\n",
       "    </tr>\n",
       "    <tr>\n",
       "      <th>1</th>\n",
       "      <td>AZ</td>\n",
       "      <td>Arizona</td>\n",
       "      <td>4,858,243</td>\n",
       "      <td>66.7%</td>\n",
       "    </tr>\n",
       "    <tr>\n",
       "      <th>2</th>\n",
       "      <td>AR</td>\n",
       "      <td>Arkansas</td>\n",
       "      <td>1,881,140</td>\n",
       "      <td>62.3%</td>\n",
       "    </tr>\n",
       "    <tr>\n",
       "      <th>3</th>\n",
       "      <td>CA</td>\n",
       "      <td>California</td>\n",
       "      <td>32,416,845</td>\n",
       "      <td>82.0%</td>\n",
       "    </tr>\n",
       "    <tr>\n",
       "      <th>4</th>\n",
       "      <td>CO</td>\n",
       "      <td>Colorado</td>\n",
       "      <td>4,262,561</td>\n",
       "      <td>74.0%</td>\n",
       "    </tr>\n",
       "  </tbody>\n",
       "</table>\n",
       "</div>"
      ],
      "text/plain": [
       "  State Code       State  Vaccinated  Pop %\n",
       "0         AK      Alaska     473,411  64.7%\n",
       "1         AZ     Arizona   4,858,243  66.7%\n",
       "2         AR    Arkansas   1,881,140  62.3%\n",
       "3         CA  California  32,416,845  82.0%\n",
       "4         CO    Colorado   4,262,561  74.0%"
      ]
     },
     "execution_count": 61,
     "metadata": {},
     "output_type": "execute_result"
    }
   ],
   "source": [
    "# Step 3:\n",
    "# Reordering the columns in dataframe.\n",
    "\n",
    "Covid_Vaccinated_by_state_df = Covid_Vaccinated_by_state_df[['State Code','State','Vaccinated','Pop %']]\n",
    "\n",
    "# Checking dataframe.\n",
    "Covid_Vaccinated_by_state_df.head()"
   ]
  },
  {
   "cell_type": "code",
   "execution_count": 64,
   "id": "e1d01625",
   "metadata": {},
   "outputs": [
    {
     "data": {
      "text/plain": [
       "State Code    0\n",
       "State         0\n",
       "Vaccinated    0\n",
       "Pop %         0\n",
       "dtype: int64"
      ]
     },
     "execution_count": 64,
     "metadata": {},
     "output_type": "execute_result"
    }
   ],
   "source": [
    "# Step 4:\n",
    "# Identifying outliers/bad data: Checking if there are any null values.\n",
    "\n",
    "Covid_Vaccinated_by_state_df.isnull().sum()"
   ]
  },
  {
   "cell_type": "code",
   "execution_count": 66,
   "id": "05d534d3",
   "metadata": {},
   "outputs": [
    {
     "data": {
      "text/plain": [
       "0"
      ]
     },
     "execution_count": 66,
     "metadata": {},
     "output_type": "execute_result"
    }
   ],
   "source": [
    "# Step 5:\n",
    "# Finding duplicates: Checking if there are any duplicate values in state code.\n",
    "\n",
    "Covid_Vaccinated_by_state_df['State Code'].duplicated().sum()"
   ]
  },
  {
   "cell_type": "code",
   "execution_count": null,
   "id": "1173f426",
   "metadata": {},
   "outputs": [],
   "source": []
  }
 ],
 "metadata": {
  "kernelspec": {
   "display_name": "Python 3",
   "language": "python",
   "name": "python3"
  },
  "language_info": {
   "codemirror_mode": {
    "name": "ipython",
    "version": 3
   },
   "file_extension": ".py",
   "mimetype": "text/x-python",
   "name": "python",
   "nbconvert_exporter": "python",
   "pygments_lexer": "ipython3",
   "version": "3.8.8"
  }
 },
 "nbformat": 4,
 "nbformat_minor": 5
}
