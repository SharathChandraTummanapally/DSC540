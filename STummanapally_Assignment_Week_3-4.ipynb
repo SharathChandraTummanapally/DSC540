{
 "cells": [
  {
   "cell_type": "markdown",
   "id": "c8e8b8a6",
   "metadata": {},
   "source": [
    "### 1. Data Wrangling with Python: Activity 5, page 116"
   ]
  },
  {
   "cell_type": "markdown",
   "id": "bc91e843",
   "metadata": {},
   "source": [
    "Generating Statistics from a CSV File Suppose you are working with the famous Boston housing price (from 1960) dataset. This dataset is famous in the machine learning community. Many regression problems can be formulated, and machine learning algorithms can be run on this dataset. You will do perform a basic data wrangling activity (including plotting some trends) on this dataset by reading it as a pandas DataFrame. Note The pandas function for reading a CSV file is read_csv. \n",
    "\n",
    "These steps will help you complete this activity:\n"
   ]
  },
  {
   "cell_type": "markdown",
   "id": "8bfc0008",
   "metadata": {},
   "source": [
    "Load the necessary libraries.\n"
   ]
  },
  {
   "cell_type": "code",
   "execution_count": 9,
   "id": "65c9ab8c",
   "metadata": {},
   "outputs": [],
   "source": [
    "import numpy as np\n",
    "import pandas as pd\n",
    "import matplotlib.pyplot as plt"
   ]
  },
  {
   "cell_type": "markdown",
   "id": "46463305",
   "metadata": {},
   "source": [
    "Read in the Boston housing dataset (given as a .csv file) from the local directory."
   ]
  },
  {
   "cell_type": "code",
   "execution_count": 10,
   "id": "718a1738",
   "metadata": {},
   "outputs": [],
   "source": [
    "df=pd.read_csv('Data/Boston.csv')"
   ]
  },
  {
   "cell_type": "markdown",
   "id": "bf8f7a3f",
   "metadata": {},
   "source": [
    "Check the first 10 records. "
   ]
  },
  {
   "cell_type": "code",
   "execution_count": 11,
   "id": "f371f90d",
   "metadata": {},
   "outputs": [
    {
     "data": {
      "text/html": [
       "<div>\n",
       "<style scoped>\n",
       "    .dataframe tbody tr th:only-of-type {\n",
       "        vertical-align: middle;\n",
       "    }\n",
       "\n",
       "    .dataframe tbody tr th {\n",
       "        vertical-align: top;\n",
       "    }\n",
       "\n",
       "    .dataframe thead th {\n",
       "        text-align: right;\n",
       "    }\n",
       "</style>\n",
       "<table border=\"1\" class=\"dataframe\">\n",
       "  <thead>\n",
       "    <tr style=\"text-align: right;\">\n",
       "      <th></th>\n",
       "      <th>Unnamed: 0</th>\n",
       "      <th>crim</th>\n",
       "      <th>zn</th>\n",
       "      <th>indus</th>\n",
       "      <th>chas</th>\n",
       "      <th>nox</th>\n",
       "      <th>rm</th>\n",
       "      <th>age</th>\n",
       "      <th>dis</th>\n",
       "      <th>rad</th>\n",
       "      <th>tax</th>\n",
       "      <th>ptratio</th>\n",
       "      <th>black</th>\n",
       "      <th>lstat</th>\n",
       "      <th>medv</th>\n",
       "    </tr>\n",
       "  </thead>\n",
       "  <tbody>\n",
       "    <tr>\n",
       "      <th>0</th>\n",
       "      <td>1</td>\n",
       "      <td>0.00632</td>\n",
       "      <td>18.0</td>\n",
       "      <td>2.31</td>\n",
       "      <td>0</td>\n",
       "      <td>0.538</td>\n",
       "      <td>6.575</td>\n",
       "      <td>65.2</td>\n",
       "      <td>4.0900</td>\n",
       "      <td>1</td>\n",
       "      <td>296</td>\n",
       "      <td>15.3</td>\n",
       "      <td>396.90</td>\n",
       "      <td>4.98</td>\n",
       "      <td>24.0</td>\n",
       "    </tr>\n",
       "    <tr>\n",
       "      <th>1</th>\n",
       "      <td>2</td>\n",
       "      <td>0.02731</td>\n",
       "      <td>0.0</td>\n",
       "      <td>7.07</td>\n",
       "      <td>0</td>\n",
       "      <td>0.469</td>\n",
       "      <td>6.421</td>\n",
       "      <td>78.9</td>\n",
       "      <td>4.9671</td>\n",
       "      <td>2</td>\n",
       "      <td>242</td>\n",
       "      <td>17.8</td>\n",
       "      <td>396.90</td>\n",
       "      <td>9.14</td>\n",
       "      <td>21.6</td>\n",
       "    </tr>\n",
       "    <tr>\n",
       "      <th>2</th>\n",
       "      <td>3</td>\n",
       "      <td>0.02729</td>\n",
       "      <td>0.0</td>\n",
       "      <td>7.07</td>\n",
       "      <td>0</td>\n",
       "      <td>0.469</td>\n",
       "      <td>7.185</td>\n",
       "      <td>61.1</td>\n",
       "      <td>4.9671</td>\n",
       "      <td>2</td>\n",
       "      <td>242</td>\n",
       "      <td>17.8</td>\n",
       "      <td>392.83</td>\n",
       "      <td>4.03</td>\n",
       "      <td>34.7</td>\n",
       "    </tr>\n",
       "    <tr>\n",
       "      <th>3</th>\n",
       "      <td>4</td>\n",
       "      <td>0.03237</td>\n",
       "      <td>0.0</td>\n",
       "      <td>2.18</td>\n",
       "      <td>0</td>\n",
       "      <td>0.458</td>\n",
       "      <td>6.998</td>\n",
       "      <td>45.8</td>\n",
       "      <td>6.0622</td>\n",
       "      <td>3</td>\n",
       "      <td>222</td>\n",
       "      <td>18.7</td>\n",
       "      <td>394.63</td>\n",
       "      <td>2.94</td>\n",
       "      <td>33.4</td>\n",
       "    </tr>\n",
       "    <tr>\n",
       "      <th>4</th>\n",
       "      <td>5</td>\n",
       "      <td>0.06905</td>\n",
       "      <td>0.0</td>\n",
       "      <td>2.18</td>\n",
       "      <td>0</td>\n",
       "      <td>0.458</td>\n",
       "      <td>7.147</td>\n",
       "      <td>54.2</td>\n",
       "      <td>6.0622</td>\n",
       "      <td>3</td>\n",
       "      <td>222</td>\n",
       "      <td>18.7</td>\n",
       "      <td>396.90</td>\n",
       "      <td>5.33</td>\n",
       "      <td>36.2</td>\n",
       "    </tr>\n",
       "    <tr>\n",
       "      <th>5</th>\n",
       "      <td>6</td>\n",
       "      <td>0.02985</td>\n",
       "      <td>0.0</td>\n",
       "      <td>2.18</td>\n",
       "      <td>0</td>\n",
       "      <td>0.458</td>\n",
       "      <td>6.430</td>\n",
       "      <td>58.7</td>\n",
       "      <td>6.0622</td>\n",
       "      <td>3</td>\n",
       "      <td>222</td>\n",
       "      <td>18.7</td>\n",
       "      <td>394.12</td>\n",
       "      <td>5.21</td>\n",
       "      <td>28.7</td>\n",
       "    </tr>\n",
       "    <tr>\n",
       "      <th>6</th>\n",
       "      <td>7</td>\n",
       "      <td>0.08829</td>\n",
       "      <td>12.5</td>\n",
       "      <td>7.87</td>\n",
       "      <td>0</td>\n",
       "      <td>0.524</td>\n",
       "      <td>6.012</td>\n",
       "      <td>66.6</td>\n",
       "      <td>5.5605</td>\n",
       "      <td>5</td>\n",
       "      <td>311</td>\n",
       "      <td>15.2</td>\n",
       "      <td>395.60</td>\n",
       "      <td>12.43</td>\n",
       "      <td>22.9</td>\n",
       "    </tr>\n",
       "    <tr>\n",
       "      <th>7</th>\n",
       "      <td>8</td>\n",
       "      <td>0.14455</td>\n",
       "      <td>12.5</td>\n",
       "      <td>7.87</td>\n",
       "      <td>0</td>\n",
       "      <td>0.524</td>\n",
       "      <td>6.172</td>\n",
       "      <td>96.1</td>\n",
       "      <td>5.9505</td>\n",
       "      <td>5</td>\n",
       "      <td>311</td>\n",
       "      <td>15.2</td>\n",
       "      <td>396.90</td>\n",
       "      <td>19.15</td>\n",
       "      <td>27.1</td>\n",
       "    </tr>\n",
       "    <tr>\n",
       "      <th>8</th>\n",
       "      <td>9</td>\n",
       "      <td>0.21124</td>\n",
       "      <td>12.5</td>\n",
       "      <td>7.87</td>\n",
       "      <td>0</td>\n",
       "      <td>0.524</td>\n",
       "      <td>5.631</td>\n",
       "      <td>100.0</td>\n",
       "      <td>6.0821</td>\n",
       "      <td>5</td>\n",
       "      <td>311</td>\n",
       "      <td>15.2</td>\n",
       "      <td>386.63</td>\n",
       "      <td>29.93</td>\n",
       "      <td>16.5</td>\n",
       "    </tr>\n",
       "    <tr>\n",
       "      <th>9</th>\n",
       "      <td>10</td>\n",
       "      <td>0.17004</td>\n",
       "      <td>12.5</td>\n",
       "      <td>7.87</td>\n",
       "      <td>0</td>\n",
       "      <td>0.524</td>\n",
       "      <td>6.004</td>\n",
       "      <td>85.9</td>\n",
       "      <td>6.5921</td>\n",
       "      <td>5</td>\n",
       "      <td>311</td>\n",
       "      <td>15.2</td>\n",
       "      <td>386.71</td>\n",
       "      <td>17.10</td>\n",
       "      <td>18.9</td>\n",
       "    </tr>\n",
       "  </tbody>\n",
       "</table>\n",
       "</div>"
      ],
      "text/plain": [
       "   Unnamed: 0     crim    zn  indus  chas    nox     rm    age     dis  rad  \\\n",
       "0           1  0.00632  18.0   2.31     0  0.538  6.575   65.2  4.0900    1   \n",
       "1           2  0.02731   0.0   7.07     0  0.469  6.421   78.9  4.9671    2   \n",
       "2           3  0.02729   0.0   7.07     0  0.469  7.185   61.1  4.9671    2   \n",
       "3           4  0.03237   0.0   2.18     0  0.458  6.998   45.8  6.0622    3   \n",
       "4           5  0.06905   0.0   2.18     0  0.458  7.147   54.2  6.0622    3   \n",
       "5           6  0.02985   0.0   2.18     0  0.458  6.430   58.7  6.0622    3   \n",
       "6           7  0.08829  12.5   7.87     0  0.524  6.012   66.6  5.5605    5   \n",
       "7           8  0.14455  12.5   7.87     0  0.524  6.172   96.1  5.9505    5   \n",
       "8           9  0.21124  12.5   7.87     0  0.524  5.631  100.0  6.0821    5   \n",
       "9          10  0.17004  12.5   7.87     0  0.524  6.004   85.9  6.5921    5   \n",
       "\n",
       "   tax  ptratio   black  lstat  medv  \n",
       "0  296     15.3  396.90   4.98  24.0  \n",
       "1  242     17.8  396.90   9.14  21.6  \n",
       "2  242     17.8  392.83   4.03  34.7  \n",
       "3  222     18.7  394.63   2.94  33.4  \n",
       "4  222     18.7  396.90   5.33  36.2  \n",
       "5  222     18.7  394.12   5.21  28.7  \n",
       "6  311     15.2  395.60  12.43  22.9  \n",
       "7  311     15.2  396.90  19.15  27.1  \n",
       "8  311     15.2  386.63  29.93  16.5  \n",
       "9  311     15.2  386.71  17.10  18.9  "
      ]
     },
     "execution_count": 11,
     "metadata": {},
     "output_type": "execute_result"
    }
   ],
   "source": [
    "df.head(10)"
   ]
  },
  {
   "cell_type": "markdown",
   "id": "ee675d56",
   "metadata": {},
   "source": [
    "Find the total number of records. "
   ]
  },
  {
   "cell_type": "code",
   "execution_count": 12,
   "id": "bd3ce726",
   "metadata": {},
   "outputs": [
    {
     "data": {
      "text/plain": [
       "(506, 15)"
      ]
     },
     "execution_count": 12,
     "metadata": {},
     "output_type": "execute_result"
    }
   ],
   "source": [
    "df.shape"
   ]
  },
  {
   "cell_type": "markdown",
   "id": "0f91efd5",
   "metadata": {},
   "source": [
    "There are 506 records in total"
   ]
  },
  {
   "cell_type": "markdown",
   "id": "0fbcb42c",
   "metadata": {},
   "source": [
    "Create a smaller DataFrame with columns that do not include CHAS, NOX, B, and LSTAT."
   ]
  },
  {
   "cell_type": "code",
   "execution_count": 20,
   "id": "221dca8b",
   "metadata": {},
   "outputs": [],
   "source": [
    "df1=df[['crim','zn','indus','rm','age','dis','rad','tax','ptratio','medv']]"
   ]
  },
  {
   "cell_type": "markdown",
   "id": "5d9c1e34",
   "metadata": {},
   "source": [
    "Check the last seven records of the new DataFrame you just created. "
   ]
  },
  {
   "cell_type": "code",
   "execution_count": 21,
   "id": "25087e89",
   "metadata": {},
   "outputs": [
    {
     "data": {
      "text/html": [
       "<div>\n",
       "<style scoped>\n",
       "    .dataframe tbody tr th:only-of-type {\n",
       "        vertical-align: middle;\n",
       "    }\n",
       "\n",
       "    .dataframe tbody tr th {\n",
       "        vertical-align: top;\n",
       "    }\n",
       "\n",
       "    .dataframe thead th {\n",
       "        text-align: right;\n",
       "    }\n",
       "</style>\n",
       "<table border=\"1\" class=\"dataframe\">\n",
       "  <thead>\n",
       "    <tr style=\"text-align: right;\">\n",
       "      <th></th>\n",
       "      <th>crim</th>\n",
       "      <th>zn</th>\n",
       "      <th>indus</th>\n",
       "      <th>rm</th>\n",
       "      <th>age</th>\n",
       "      <th>dis</th>\n",
       "      <th>rad</th>\n",
       "      <th>tax</th>\n",
       "      <th>ptratio</th>\n",
       "      <th>medv</th>\n",
       "    </tr>\n",
       "  </thead>\n",
       "  <tbody>\n",
       "    <tr>\n",
       "      <th>499</th>\n",
       "      <td>0.17783</td>\n",
       "      <td>0.0</td>\n",
       "      <td>9.69</td>\n",
       "      <td>5.569</td>\n",
       "      <td>73.5</td>\n",
       "      <td>2.3999</td>\n",
       "      <td>6</td>\n",
       "      <td>391</td>\n",
       "      <td>19.2</td>\n",
       "      <td>17.5</td>\n",
       "    </tr>\n",
       "    <tr>\n",
       "      <th>500</th>\n",
       "      <td>0.22438</td>\n",
       "      <td>0.0</td>\n",
       "      <td>9.69</td>\n",
       "      <td>6.027</td>\n",
       "      <td>79.7</td>\n",
       "      <td>2.4982</td>\n",
       "      <td>6</td>\n",
       "      <td>391</td>\n",
       "      <td>19.2</td>\n",
       "      <td>16.8</td>\n",
       "    </tr>\n",
       "    <tr>\n",
       "      <th>501</th>\n",
       "      <td>0.06263</td>\n",
       "      <td>0.0</td>\n",
       "      <td>11.93</td>\n",
       "      <td>6.593</td>\n",
       "      <td>69.1</td>\n",
       "      <td>2.4786</td>\n",
       "      <td>1</td>\n",
       "      <td>273</td>\n",
       "      <td>21.0</td>\n",
       "      <td>22.4</td>\n",
       "    </tr>\n",
       "    <tr>\n",
       "      <th>502</th>\n",
       "      <td>0.04527</td>\n",
       "      <td>0.0</td>\n",
       "      <td>11.93</td>\n",
       "      <td>6.120</td>\n",
       "      <td>76.7</td>\n",
       "      <td>2.2875</td>\n",
       "      <td>1</td>\n",
       "      <td>273</td>\n",
       "      <td>21.0</td>\n",
       "      <td>20.6</td>\n",
       "    </tr>\n",
       "    <tr>\n",
       "      <th>503</th>\n",
       "      <td>0.06076</td>\n",
       "      <td>0.0</td>\n",
       "      <td>11.93</td>\n",
       "      <td>6.976</td>\n",
       "      <td>91.0</td>\n",
       "      <td>2.1675</td>\n",
       "      <td>1</td>\n",
       "      <td>273</td>\n",
       "      <td>21.0</td>\n",
       "      <td>23.9</td>\n",
       "    </tr>\n",
       "    <tr>\n",
       "      <th>504</th>\n",
       "      <td>0.10959</td>\n",
       "      <td>0.0</td>\n",
       "      <td>11.93</td>\n",
       "      <td>6.794</td>\n",
       "      <td>89.3</td>\n",
       "      <td>2.3889</td>\n",
       "      <td>1</td>\n",
       "      <td>273</td>\n",
       "      <td>21.0</td>\n",
       "      <td>22.0</td>\n",
       "    </tr>\n",
       "    <tr>\n",
       "      <th>505</th>\n",
       "      <td>0.04741</td>\n",
       "      <td>0.0</td>\n",
       "      <td>11.93</td>\n",
       "      <td>6.030</td>\n",
       "      <td>80.8</td>\n",
       "      <td>2.5050</td>\n",
       "      <td>1</td>\n",
       "      <td>273</td>\n",
       "      <td>21.0</td>\n",
       "      <td>11.9</td>\n",
       "    </tr>\n",
       "  </tbody>\n",
       "</table>\n",
       "</div>"
      ],
      "text/plain": [
       "        crim   zn  indus     rm   age     dis  rad  tax  ptratio  medv\n",
       "499  0.17783  0.0   9.69  5.569  73.5  2.3999    6  391     19.2  17.5\n",
       "500  0.22438  0.0   9.69  6.027  79.7  2.4982    6  391     19.2  16.8\n",
       "501  0.06263  0.0  11.93  6.593  69.1  2.4786    1  273     21.0  22.4\n",
       "502  0.04527  0.0  11.93  6.120  76.7  2.2875    1  273     21.0  20.6\n",
       "503  0.06076  0.0  11.93  6.976  91.0  2.1675    1  273     21.0  23.9\n",
       "504  0.10959  0.0  11.93  6.794  89.3  2.3889    1  273     21.0  22.0\n",
       "505  0.04741  0.0  11.93  6.030  80.8  2.5050    1  273     21.0  11.9"
      ]
     },
     "execution_count": 21,
     "metadata": {},
     "output_type": "execute_result"
    }
   ],
   "source": [
    "df1.tail(7)"
   ]
  },
  {
   "cell_type": "markdown",
   "id": "af35c266",
   "metadata": {},
   "source": [
    "Plot the histograms of all the variables (columns) in the new DataFrame.  Plot them all at once using a for loop. Try to add a unique title to a plot. "
   ]
  },
  {
   "cell_type": "code",
   "execution_count": 22,
   "id": "4cdbe952",
   "metadata": {},
   "outputs": [
    {
     "data": {
      "image/png": "[encoded data removed]",
      "text/plain": [
       "<Figure size 432x288 with 1 Axes>"
      ]
     },
     "metadata": {
      "needs_background": "light"
     },
     "output_type": "display_data"
    },
    {
     "data": {
      "image/png": "[encoded data removed]",
      "text/plain": [
       "<Figure size 432x288 with 1 Axes>"
      ]
     },
     "metadata": {
      "needs_background": "light"
     },
     "output_type": "display_data"
    },
    {
     "data": {
      "image/png": "[encoded data removed]",
      "text/plain": [
       "<Figure size 432x288 with 1 Axes>"
      ]
     },
     "metadata": {
      "needs_background": "light"
     },
     "output_type": "display_data"
    },
    {
     "data": {
      "image/png": "[encoded data removed]",
      "text/plain": [
       "<Figure size 432x288 with 1 Axes>"
      ]
     },
     "metadata": {
      "needs_background": "light"
     },
     "output_type": "display_data"
    },
    {
     "data": {
      "image/png": "[encoded data removed]",
      "text/plain": [
       "<Figure size 432x288 with 1 Axes>"
      ]
     },
     "metadata": {
      "needs_background": "light"
     },
     "output_type": "display_data"
    },
    {
     "data": {
      "image/png": "[encoded data removed]",
      "text/plain": [
       "<Figure size 432x288 with 1 Axes>"
      ]
     },
     "metadata": {
      "needs_background": "light"
     },
     "output_type": "display_data"
    },
    {
     "data": {
      "image/png": "[encoded data removed]",
      "text/plain": [
       "<Figure size 432x288 with 1 Axes>"
      ]
     },
     "metadata": {
      "needs_background": "light"
     },
     "output_type": "display_data"
    },
    {
     "data": {
      "image/png": "[encoded data removed]",
      "text/plain": [
       "<Figure size 432x288 with 1 Axes>"
      ]
     },
     "metadata": {
      "needs_background": "light"
     },
     "output_type": "display_data"
    },
    {
     "data": {
      "image/png": "[encoded data removed]",
      "text/plain": [
       "<Figure size 432x288 with 1 Axes>"
      ]
     },
     "metadata": {
      "needs_background": "light"
     },
     "output_type": "display_data"
    },
    {
     "data": {
      "image/png": "[encoded data removed]",
      "text/plain": [
       "<Figure size 432x288 with 1 Axes>"
      ]
     },
     "metadata": {
      "needs_background": "light"
     },
     "output_type": "display_data"
    }
   ],
   "source": [
    "for c in df1.columns:\n",
    "    plt.title(\"Plot of \"+c,fontsize=15)\n",
    "    plt.hist(df1[c],bins=20)\n",
    "    plt.show()"
   ]
  },
  {
   "cell_type": "markdown",
   "id": "7dfad9d7",
   "metadata": {},
   "source": [
    "Create a scatter plot of crime rate versus price. "
   ]
  },
  {
   "cell_type": "code",
   "execution_count": 24,
   "id": "8750655e",
   "metadata": {},
   "outputs": [
    {
     "data": {
      "image/png": "[encoded data removed]",
      "text/plain": [
       "<Figure size 432x288 with 1 Axes>"
      ]
     },
     "metadata": {
      "needs_background": "light"
     },
     "output_type": "display_data"
    }
   ],
   "source": [
    "plt.scatter(df1['crim'],df1['medv'])\n",
    "plt.show()"
   ]
  },
  {
   "cell_type": "markdown",
   "id": "d70d3717",
   "metadata": {},
   "source": [
    "Plot using log10(crime) versus price. "
   ]
  },
  {
   "cell_type": "code",
   "execution_count": 26,
   "id": "09a95e85",
   "metadata": {},
   "outputs": [
    {
     "data": {
      "image/png": "[encoded data removed]",
      "text/plain": [
       "<Figure size 432x288 with 1 Axes>"
      ]
     },
     "metadata": {
      "needs_background": "light"
     },
     "output_type": "display_data"
    }
   ],
   "source": [
    "plt.scatter(np.log10(df1['crim']),df1['medv'],c='red')\n",
    "plt.title(\"Crime rate (Log) vs. Price plot\", fontsize=15)\n",
    "plt.xlabel(\"Log of Crime rate\",fontsize=12)\n",
    "plt.ylabel(\"Price\",fontsize=12)\n",
    "plt.grid(True)\n",
    "plt.show()"
   ]
  },
  {
   "cell_type": "markdown",
   "id": "ac7f50c2",
   "metadata": {},
   "source": [
    "Calculate some useful statistics, such as mean rooms per dwelling, median age, mean distances to five Boston employment centers."
   ]
  },
  {
   "cell_type": "code",
   "execution_count": 27,
   "id": "28ad9ca3",
   "metadata": {},
   "outputs": [
    {
     "data": {
      "text/plain": [
       "6.284634387351787"
      ]
     },
     "execution_count": 27,
     "metadata": {},
     "output_type": "execute_result"
    }
   ],
   "source": [
    "df1['rm'].mean()"
   ]
  },
  {
   "cell_type": "code",
   "execution_count": 28,
   "id": "042281b3",
   "metadata": {},
   "outputs": [
    {
     "data": {
      "text/plain": [
       "77.5"
      ]
     },
     "execution_count": 28,
     "metadata": {},
     "output_type": "execute_result"
    }
   ],
   "source": [
    "df1['age'].median()"
   ]
  },
  {
   "cell_type": "code",
   "execution_count": 29,
   "id": "ab901426",
   "metadata": {},
   "outputs": [
    {
     "data": {
      "text/plain": [
       "3.795042687747034"
      ]
     },
     "execution_count": 29,
     "metadata": {},
     "output_type": "execute_result"
    }
   ],
   "source": [
    "df1['dis'].mean()"
   ]
  },
  {
   "cell_type": "markdown",
   "id": "0838162d",
   "metadata": {},
   "source": [
    "Calculate the the percentage of houses with a low price (< $20,000)."
   ]
  },
  {
   "cell_type": "code",
   "execution_count": 32,
   "id": "d815c6cc",
   "metadata": {},
   "outputs": [
    {
     "name": "stdout",
     "output_type": "stream",
     "text": [
      "0      False\n",
      "1      False\n",
      "2      False\n",
      "3      False\n",
      "4      False\n",
      "       ...  \n",
      "501    False\n",
      "502    False\n",
      "503    False\n",
      "504    False\n",
      "505     True\n",
      "Name: medv, Length: 506, dtype: bool\n",
      "\n",
      "Percentage of house with <20,000 price is:  41.50197628458498\n"
     ]
    }
   ],
   "source": [
    "# Create a Pandas series and directly compare it with 20 \n",
    "# You can do this because Pandas series is basically NumPy array and you have seen how to filter NumPy array \n",
    "\n",
    "low_price=df1['medv']<20 \n",
    "\n",
    "# This creates a Boolean array of True, False \n",
    "\n",
    "print(low_price) \n",
    "\n",
    "# True = 1, False = 0, so now if you take an average of this NumPy array, you will know how many 1's are there. \n",
    "# That many houses are priced below 20,000. So that is the answer. \n",
    "# You can convert that into percentage by multiplying with 100 \n",
    "\n",
    "pcnt=low_price.mean()*100 \n",
    "\n",
    "print(\"\\nPercentage of house with <20,000 price is: \",pcnt)"
   ]
  },
  {
   "cell_type": "markdown",
   "id": "342415cb",
   "metadata": {},
   "source": [
    "### 2. Data Wrangling with Python: Activity 6, page 171"
   ]
  },
  {
   "cell_type": "markdown",
   "id": "81b6bb3c",
   "metadata": {},
   "source": [
    "Working with the Adult Income Dataset (UCI) In this activity, you will work with the Adult Income Dataset from the UCI machine learning portal. The Adult Income dataset has been used in many machine learning papers that address classification problems. You will read the data from a CSV file into a pandas DataFrame and do some practice on the advanced data wrangling you learned about in this chapter. The aim of this activity is to practice various advanced pandas DataFrame operations, for example, for subsetting, applying user-defined functions, summary statistics, visualizations, boolean indexing, group by, and outlier detection on a real-life dataset. We have the data downloaded as a CSV file on the disk for your ease. However, it is recommended to practice data downloading on your own so that you are familiar with the process. Here is the URL for the dataset: https://archive.ics.uci.edu/ml/machine-learning-databases/adult/. Here is the URL for the description of the dataset and the variables: https://archive.ics.uci.edu/ml/machine-learning-databases/adult/adult.names. \n",
    "\n",
    "These are the steps that will help you solve this activity: "
   ]
  },
  {
   "cell_type": "markdown",
   "id": "62f8eec9",
   "metadata": {},
   "source": [
    "Load the necessary libraries. "
   ]
  },
  {
   "cell_type": "code",
   "execution_count": null,
   "id": "5027bcfe",
   "metadata": {},
   "outputs": [],
   "source": [
    "#Already loaded at the top"
   ]
  },
  {
   "cell_type": "markdown",
   "id": "bff9e335",
   "metadata": {},
   "source": [
    "Read the adult income dataset from the following URL: https://github.com/TrainingByPackt/Data-Wrangling-with-Python/blob/master/Chapter04/Activity06/. \n"
   ]
  },
  {
   "cell_type": "code",
   "execution_count": 48,
   "id": "a8b24efc",
   "metadata": {},
   "outputs": [
    {
     "data": {
      "text/html": [
       "<div>\n",
       "<style scoped>\n",
       "    .dataframe tbody tr th:only-of-type {\n",
       "        vertical-align: middle;\n",
       "    }\n",
       "\n",
       "    .dataframe tbody tr th {\n",
       "        vertical-align: top;\n",
       "    }\n",
       "\n",
       "    .dataframe thead th {\n",
       "        text-align: right;\n",
       "    }\n",
       "</style>\n",
       "<table border=\"1\" class=\"dataframe\">\n",
       "  <thead>\n",
       "    <tr style=\"text-align: right;\">\n",
       "      <th></th>\n",
       "      <th>39</th>\n",
       "      <th>State-gov</th>\n",
       "      <th>77516</th>\n",
       "      <th>Bachelors</th>\n",
       "      <th>13</th>\n",
       "      <th>Never-married</th>\n",
       "      <th>Adm-clerical</th>\n",
       "      <th>Not-in-family</th>\n",
       "      <th>White</th>\n",
       "      <th>Male</th>\n",
       "      <th>2174</th>\n",
       "      <th>0</th>\n",
       "      <th>40</th>\n",
       "      <th>United-States</th>\n",
       "      <th>&lt;=50K</th>\n",
       "    </tr>\n",
       "  </thead>\n",
       "  <tbody>\n",
       "    <tr>\n",
       "      <th>0</th>\n",
       "      <td>50</td>\n",
       "      <td>Self-emp-not-inc</td>\n",
       "      <td>83311</td>\n",
       "      <td>Bachelors</td>\n",
       "      <td>13</td>\n",
       "      <td>Married-civ-spouse</td>\n",
       "      <td>Exec-managerial</td>\n",
       "      <td>Husband</td>\n",
       "      <td>White</td>\n",
       "      <td>Male</td>\n",
       "      <td>0</td>\n",
       "      <td>0</td>\n",
       "      <td>13</td>\n",
       "      <td>United-States</td>\n",
       "      <td>&lt;=50K</td>\n",
       "    </tr>\n",
       "    <tr>\n",
       "      <th>1</th>\n",
       "      <td>38</td>\n",
       "      <td>Private</td>\n",
       "      <td>215646</td>\n",
       "      <td>HS-grad</td>\n",
       "      <td>9</td>\n",
       "      <td>Divorced</td>\n",
       "      <td>Handlers-cleaners</td>\n",
       "      <td>Not-in-family</td>\n",
       "      <td>White</td>\n",
       "      <td>Male</td>\n",
       "      <td>0</td>\n",
       "      <td>0</td>\n",
       "      <td>40</td>\n",
       "      <td>United-States</td>\n",
       "      <td>&lt;=50K</td>\n",
       "    </tr>\n",
       "    <tr>\n",
       "      <th>2</th>\n",
       "      <td>53</td>\n",
       "      <td>Private</td>\n",
       "      <td>234721</td>\n",
       "      <td>11th</td>\n",
       "      <td>7</td>\n",
       "      <td>Married-civ-spouse</td>\n",
       "      <td>Handlers-cleaners</td>\n",
       "      <td>Husband</td>\n",
       "      <td>Black</td>\n",
       "      <td>Male</td>\n",
       "      <td>0</td>\n",
       "      <td>0</td>\n",
       "      <td>40</td>\n",
       "      <td>United-States</td>\n",
       "      <td>&lt;=50K</td>\n",
       "    </tr>\n",
       "    <tr>\n",
       "      <th>3</th>\n",
       "      <td>28</td>\n",
       "      <td>Private</td>\n",
       "      <td>338409</td>\n",
       "      <td>Bachelors</td>\n",
       "      <td>13</td>\n",
       "      <td>Married-civ-spouse</td>\n",
       "      <td>Prof-specialty</td>\n",
       "      <td>Wife</td>\n",
       "      <td>Black</td>\n",
       "      <td>Female</td>\n",
       "      <td>0</td>\n",
       "      <td>0</td>\n",
       "      <td>40</td>\n",
       "      <td>Cuba</td>\n",
       "      <td>&lt;=50K</td>\n",
       "    </tr>\n",
       "    <tr>\n",
       "      <th>4</th>\n",
       "      <td>37</td>\n",
       "      <td>Private</td>\n",
       "      <td>284582</td>\n",
       "      <td>Masters</td>\n",
       "      <td>14</td>\n",
       "      <td>Married-civ-spouse</td>\n",
       "      <td>Exec-managerial</td>\n",
       "      <td>Wife</td>\n",
       "      <td>White</td>\n",
       "      <td>Female</td>\n",
       "      <td>0</td>\n",
       "      <td>0</td>\n",
       "      <td>40</td>\n",
       "      <td>United-States</td>\n",
       "      <td>&lt;=50K</td>\n",
       "    </tr>\n",
       "  </tbody>\n",
       "</table>\n",
       "</div>"
      ],
      "text/plain": [
       "   39          State-gov   77516   Bachelors   13        Never-married  \\\n",
       "0  50   Self-emp-not-inc   83311   Bachelors   13   Married-civ-spouse   \n",
       "1  38            Private  215646     HS-grad    9             Divorced   \n",
       "2  53            Private  234721        11th    7   Married-civ-spouse   \n",
       "3  28            Private  338409   Bachelors   13   Married-civ-spouse   \n",
       "4  37            Private  284582     Masters   14   Married-civ-spouse   \n",
       "\n",
       "         Adm-clerical   Not-in-family   White     Male   2174   0   40  \\\n",
       "0     Exec-managerial         Husband   White     Male      0   0   13   \n",
       "1   Handlers-cleaners   Not-in-family   White     Male      0   0   40   \n",
       "2   Handlers-cleaners         Husband   Black     Male      0   0   40   \n",
       "3      Prof-specialty            Wife   Black   Female      0   0   40   \n",
       "4     Exec-managerial            Wife   White   Female      0   0   40   \n",
       "\n",
       "    United-States   <=50K  \n",
       "0   United-States   <=50K  \n",
       "1   United-States   <=50K  \n",
       "2   United-States   <=50K  \n",
       "3            Cuba   <=50K  \n",
       "4   United-States   <=50K  "
      ]
     },
     "execution_count": 48,
     "metadata": {},
     "output_type": "execute_result"
    }
   ],
   "source": [
    "AdultInc = pd.read_csv('Data/adult.csv') \n",
    "AdultInc.head()"
   ]
  },
  {
   "cell_type": "markdown",
   "id": "3e14772c",
   "metadata": {},
   "source": [
    "Create a script that will read a text file line by line. "
   ]
  },
  {
   "cell_type": "code",
   "execution_count": 55,
   "id": "dc14aabc",
   "metadata": {},
   "outputs": [
    {
     "data": {
      "text/plain": [
       "['age',\n",
       " 'workclass',\n",
       " 'fnlwgt',\n",
       " 'education',\n",
       " 'education-num',\n",
       " 'marital-status',\n",
       " 'occupation',\n",
       " 'relationship',\n",
       " 'race',\n",
       " 'sex',\n",
       " 'capital-gain',\n",
       " 'capital-loss',\n",
       " 'hours-per-week',\n",
       " 'native-country']"
      ]
     },
     "execution_count": 55,
     "metadata": {},
     "output_type": "execute_result"
    }
   ],
   "source": [
    "names = []\n",
    "with open('Data/adult_names.txt', 'r') as t:      \n",
    "    for line in t:                                  \n",
    "        t.readline()                                \n",
    "        var=line.split(\":\")[0]                      \n",
    "        names.append(var)        \n",
    "\n",
    "names"
   ]
  },
  {
   "cell_type": "markdown",
   "id": "ba6bfa80",
   "metadata": {},
   "source": [
    "Add a name of Income for the response variable to the dataset. "
   ]
  },
  {
   "cell_type": "code",
   "execution_count": 56,
   "id": "de4e9b5d",
   "metadata": {},
   "outputs": [
    {
     "data": {
      "text/plain": [
       "['age',\n",
       " 'workclass',\n",
       " 'fnlwgt',\n",
       " 'education',\n",
       " 'education-num',\n",
       " 'marital-status',\n",
       " 'occupation',\n",
       " 'relationship',\n",
       " 'race',\n",
       " 'sex',\n",
       " 'capital-gain',\n",
       " 'capital-loss',\n",
       " 'hours-per-week',\n",
       " 'native-country',\n",
       " 'Income']"
      ]
     },
     "execution_count": 56,
     "metadata": {},
     "output_type": "execute_result"
    }
   ],
   "source": [
    "names.append('Income')\n",
    "names"
   ]
  },
  {
   "cell_type": "code",
   "execution_count": 57,
   "id": "9dc50207",
   "metadata": {},
   "outputs": [
    {
     "data": {
      "text/html": [
       "<div>\n",
       "<style scoped>\n",
       "    .dataframe tbody tr th:only-of-type {\n",
       "        vertical-align: middle;\n",
       "    }\n",
       "\n",
       "    .dataframe tbody tr th {\n",
       "        vertical-align: top;\n",
       "    }\n",
       "\n",
       "    .dataframe thead th {\n",
       "        text-align: right;\n",
       "    }\n",
       "</style>\n",
       "<table border=\"1\" class=\"dataframe\">\n",
       "  <thead>\n",
       "    <tr style=\"text-align: right;\">\n",
       "      <th></th>\n",
       "      <th>age</th>\n",
       "      <th>workclass</th>\n",
       "      <th>fnlwgt</th>\n",
       "      <th>education</th>\n",
       "      <th>education-num</th>\n",
       "      <th>marital-status</th>\n",
       "      <th>occupation</th>\n",
       "      <th>relationship</th>\n",
       "      <th>race</th>\n",
       "      <th>sex</th>\n",
       "      <th>capital-gain</th>\n",
       "      <th>capital-loss</th>\n",
       "      <th>hours-per-week</th>\n",
       "      <th>native-country</th>\n",
       "      <th>Income</th>\n",
       "    </tr>\n",
       "  </thead>\n",
       "  <tbody>\n",
       "    <tr>\n",
       "      <th>0</th>\n",
       "      <td>39</td>\n",
       "      <td>State-gov</td>\n",
       "      <td>77516</td>\n",
       "      <td>Bachelors</td>\n",
       "      <td>13</td>\n",
       "      <td>Never-married</td>\n",
       "      <td>Adm-clerical</td>\n",
       "      <td>Not-in-family</td>\n",
       "      <td>White</td>\n",
       "      <td>Male</td>\n",
       "      <td>2174</td>\n",
       "      <td>0</td>\n",
       "      <td>40</td>\n",
       "      <td>United-States</td>\n",
       "      <td>&lt;=50K</td>\n",
       "    </tr>\n",
       "    <tr>\n",
       "      <th>1</th>\n",
       "      <td>50</td>\n",
       "      <td>Self-emp-not-inc</td>\n",
       "      <td>83311</td>\n",
       "      <td>Bachelors</td>\n",
       "      <td>13</td>\n",
       "      <td>Married-civ-spouse</td>\n",
       "      <td>Exec-managerial</td>\n",
       "      <td>Husband</td>\n",
       "      <td>White</td>\n",
       "      <td>Male</td>\n",
       "      <td>0</td>\n",
       "      <td>0</td>\n",
       "      <td>13</td>\n",
       "      <td>United-States</td>\n",
       "      <td>&lt;=50K</td>\n",
       "    </tr>\n",
       "    <tr>\n",
       "      <th>2</th>\n",
       "      <td>38</td>\n",
       "      <td>Private</td>\n",
       "      <td>215646</td>\n",
       "      <td>HS-grad</td>\n",
       "      <td>9</td>\n",
       "      <td>Divorced</td>\n",
       "      <td>Handlers-cleaners</td>\n",
       "      <td>Not-in-family</td>\n",
       "      <td>White</td>\n",
       "      <td>Male</td>\n",
       "      <td>0</td>\n",
       "      <td>0</td>\n",
       "      <td>40</td>\n",
       "      <td>United-States</td>\n",
       "      <td>&lt;=50K</td>\n",
       "    </tr>\n",
       "    <tr>\n",
       "      <th>3</th>\n",
       "      <td>53</td>\n",
       "      <td>Private</td>\n",
       "      <td>234721</td>\n",
       "      <td>11th</td>\n",
       "      <td>7</td>\n",
       "      <td>Married-civ-spouse</td>\n",
       "      <td>Handlers-cleaners</td>\n",
       "      <td>Husband</td>\n",
       "      <td>Black</td>\n",
       "      <td>Male</td>\n",
       "      <td>0</td>\n",
       "      <td>0</td>\n",
       "      <td>40</td>\n",
       "      <td>United-States</td>\n",
       "      <td>&lt;=50K</td>\n",
       "    </tr>\n",
       "    <tr>\n",
       "      <th>4</th>\n",
       "      <td>28</td>\n",
       "      <td>Private</td>\n",
       "      <td>338409</td>\n",
       "      <td>Bachelors</td>\n",
       "      <td>13</td>\n",
       "      <td>Married-civ-spouse</td>\n",
       "      <td>Prof-specialty</td>\n",
       "      <td>Wife</td>\n",
       "      <td>Black</td>\n",
       "      <td>Female</td>\n",
       "      <td>0</td>\n",
       "      <td>0</td>\n",
       "      <td>40</td>\n",
       "      <td>Cuba</td>\n",
       "      <td>&lt;=50K</td>\n",
       "    </tr>\n",
       "  </tbody>\n",
       "</table>\n",
       "</div>"
      ],
      "text/plain": [
       "   age          workclass  fnlwgt   education  education-num  \\\n",
       "0   39          State-gov   77516   Bachelors             13   \n",
       "1   50   Self-emp-not-inc   83311   Bachelors             13   \n",
       "2   38            Private  215646     HS-grad              9   \n",
       "3   53            Private  234721        11th              7   \n",
       "4   28            Private  338409   Bachelors             13   \n",
       "\n",
       "        marital-status          occupation    relationship    race      sex  \\\n",
       "0        Never-married        Adm-clerical   Not-in-family   White     Male   \n",
       "1   Married-civ-spouse     Exec-managerial         Husband   White     Male   \n",
       "2             Divorced   Handlers-cleaners   Not-in-family   White     Male   \n",
       "3   Married-civ-spouse   Handlers-cleaners         Husband   Black     Male   \n",
       "4   Married-civ-spouse      Prof-specialty            Wife   Black   Female   \n",
       "\n",
       "   capital-gain  capital-loss  hours-per-week  native-country  Income  \n",
       "0          2174             0              40   United-States   <=50K  \n",
       "1             0             0              13   United-States   <=50K  \n",
       "2             0             0              40   United-States   <=50K  \n",
       "3             0             0              40   United-States   <=50K  \n",
       "4             0             0              40            Cuba   <=50K  "
      ]
     },
     "execution_count": 57,
     "metadata": {},
     "output_type": "execute_result"
    }
   ],
   "source": [
    "# Reading the csv file again with column with list of names as column\n",
    "\n",
    "AdInc2 = pd.read_csv('Data/adult.csv', names=names)\n",
    "AdInc2.head()"
   ]
  },
  {
   "cell_type": "markdown",
   "id": "aabab4a3",
   "metadata": {},
   "source": [
    "Find the missing values. "
   ]
  },
  {
   "cell_type": "code",
   "execution_count": 58,
   "id": "4cf67a23",
   "metadata": {},
   "outputs": [
    {
     "data": {
      "text/plain": [
       "age               0\n",
       "workclass         0\n",
       "fnlwgt            0\n",
       "education         0\n",
       "education-num     0\n",
       "marital-status    0\n",
       "occupation        0\n",
       "relationship      0\n",
       "race              0\n",
       "sex               0\n",
       "capital-gain      0\n",
       "capital-loss      0\n",
       "hours-per-week    0\n",
       "native-country    0\n",
       "Income            0\n",
       "dtype: int64"
      ]
     },
     "execution_count": 58,
     "metadata": {},
     "output_type": "execute_result"
    }
   ],
   "source": [
    "AdInc2.isnull().sum()"
   ]
  },
  {
   "cell_type": "markdown",
   "id": "d5ceab84",
   "metadata": {},
   "source": [
    "There are no missing values in the dataframe."
   ]
  },
  {
   "cell_type": "markdown",
   "id": "33e2dad9",
   "metadata": {},
   "source": [
    "Create a DataFrame with only age, education, and occupation by using subsetting. "
   ]
  },
  {
   "cell_type": "code",
   "execution_count": 59,
   "id": "be3022e0",
   "metadata": {},
   "outputs": [
    {
     "data": {
      "text/html": [
       "<div>\n",
       "<style scoped>\n",
       "    .dataframe tbody tr th:only-of-type {\n",
       "        vertical-align: middle;\n",
       "    }\n",
       "\n",
       "    .dataframe tbody tr th {\n",
       "        vertical-align: top;\n",
       "    }\n",
       "\n",
       "    .dataframe thead th {\n",
       "        text-align: right;\n",
       "    }\n",
       "</style>\n",
       "<table border=\"1\" class=\"dataframe\">\n",
       "  <thead>\n",
       "    <tr style=\"text-align: right;\">\n",
       "      <th></th>\n",
       "      <th>age</th>\n",
       "      <th>education</th>\n",
       "      <th>occupation</th>\n",
       "    </tr>\n",
       "  </thead>\n",
       "  <tbody>\n",
       "    <tr>\n",
       "      <th>0</th>\n",
       "      <td>39</td>\n",
       "      <td>Bachelors</td>\n",
       "      <td>Adm-clerical</td>\n",
       "    </tr>\n",
       "    <tr>\n",
       "      <th>1</th>\n",
       "      <td>50</td>\n",
       "      <td>Bachelors</td>\n",
       "      <td>Exec-managerial</td>\n",
       "    </tr>\n",
       "    <tr>\n",
       "      <th>2</th>\n",
       "      <td>38</td>\n",
       "      <td>HS-grad</td>\n",
       "      <td>Handlers-cleaners</td>\n",
       "    </tr>\n",
       "    <tr>\n",
       "      <th>3</th>\n",
       "      <td>53</td>\n",
       "      <td>11th</td>\n",
       "      <td>Handlers-cleaners</td>\n",
       "    </tr>\n",
       "    <tr>\n",
       "      <th>4</th>\n",
       "      <td>28</td>\n",
       "      <td>Bachelors</td>\n",
       "      <td>Prof-specialty</td>\n",
       "    </tr>\n",
       "  </tbody>\n",
       "</table>\n",
       "</div>"
      ],
      "text/plain": [
       "   age   education          occupation\n",
       "0   39   Bachelors        Adm-clerical\n",
       "1   50   Bachelors     Exec-managerial\n",
       "2   38     HS-grad   Handlers-cleaners\n",
       "3   53        11th   Handlers-cleaners\n",
       "4   28   Bachelors      Prof-specialty"
      ]
     },
     "execution_count": 59,
     "metadata": {},
     "output_type": "execute_result"
    }
   ],
   "source": [
    "AdInc3 = AdInc2[['age', 'education', 'occupation']]\n",
    "AdInc3.head()"
   ]
  },
  {
   "cell_type": "markdown",
   "id": "bacd8599",
   "metadata": {},
   "source": [
    "Plot a histogram of age with a bin size of 20. "
   ]
  },
  {
   "cell_type": "code",
   "execution_count": 60,
   "id": "851504f2",
   "metadata": {},
   "outputs": [
    {
     "data": {
      "image/png": "[encoded data removed]",
      "text/plain": [
       "<Figure size 432x288 with 1 Axes>"
      ]
     },
     "metadata": {
      "needs_background": "light"
     },
     "output_type": "display_data"
    }
   ],
   "source": [
    "plt.title(\"Histogram of age\",fontsize=12)  \n",
    "plt.hist(AdInc3['age'], bins=20)    \n",
    "plt.show()   "
   ]
  },
  {
   "cell_type": "markdown",
   "id": "47796fcd",
   "metadata": {},
   "source": [
    "Create a function to strip the whitespace characters. "
   ]
  },
  {
   "cell_type": "code",
   "execution_count": 61,
   "id": "56ab6d43",
   "metadata": {},
   "outputs": [],
   "source": [
    "def strip_wtsp(s): return s.strip()"
   ]
  },
  {
   "cell_type": "markdown",
   "id": "09048cf5",
   "metadata": {},
   "source": [
    "Use the apply method to apply this function to all the columns with string values, create a new column, copy the values from this new column to the old column, and drop the new column."
   ]
  },
  {
   "cell_type": "code",
   "execution_count": 62,
   "id": "d83af141",
   "metadata": {},
   "outputs": [
    {
     "name": "stderr",
     "output_type": "stream",
     "text": [
      "<ipython-input-62-e7e8eac07dd1>:2: SettingWithCopyWarning: \n",
      "A value is trying to be set on a copy of a slice from a DataFrame.\n",
      "Try using .loc[row_indexer,col_indexer] = value instead\n",
      "\n",
      "See the caveats in the documentation: https://pandas.pydata.org/pandas-docs/stable/user_guide/indexing.html#returning-a-view-versus-a-copy\n",
      "  AdInc3['newcolumn'] = var.apply(strip_wtsp)\n"
     ]
    },
    {
     "data": {
      "text/html": [
       "<div>\n",
       "<style scoped>\n",
       "    .dataframe tbody tr th:only-of-type {\n",
       "        vertical-align: middle;\n",
       "    }\n",
       "\n",
       "    .dataframe tbody tr th {\n",
       "        vertical-align: top;\n",
       "    }\n",
       "\n",
       "    .dataframe thead th {\n",
       "        text-align: right;\n",
       "    }\n",
       "</style>\n",
       "<table border=\"1\" class=\"dataframe\">\n",
       "  <thead>\n",
       "    <tr style=\"text-align: right;\">\n",
       "      <th></th>\n",
       "      <th>age</th>\n",
       "      <th>education</th>\n",
       "      <th>occupation</th>\n",
       "    </tr>\n",
       "  </thead>\n",
       "  <tbody>\n",
       "    <tr>\n",
       "      <th>0</th>\n",
       "      <td>39</td>\n",
       "      <td>Bachelors</td>\n",
       "      <td>Adm-clerical</td>\n",
       "    </tr>\n",
       "    <tr>\n",
       "      <th>1</th>\n",
       "      <td>50</td>\n",
       "      <td>Bachelors</td>\n",
       "      <td>Exec-managerial</td>\n",
       "    </tr>\n",
       "    <tr>\n",
       "      <th>2</th>\n",
       "      <td>38</td>\n",
       "      <td>HS-grad</td>\n",
       "      <td>Handlers-cleaners</td>\n",
       "    </tr>\n",
       "    <tr>\n",
       "      <th>3</th>\n",
       "      <td>53</td>\n",
       "      <td>11th</td>\n",
       "      <td>Handlers-cleaners</td>\n",
       "    </tr>\n",
       "    <tr>\n",
       "      <th>4</th>\n",
       "      <td>28</td>\n",
       "      <td>Bachelors</td>\n",
       "      <td>Prof-specialty</td>\n",
       "    </tr>\n",
       "  </tbody>\n",
       "</table>\n",
       "</div>"
      ],
      "text/plain": [
       "   age   education          occupation\n",
       "0   39   Bachelors        Adm-clerical\n",
       "1   50   Bachelors     Exec-managerial\n",
       "2   38     HS-grad   Handlers-cleaners\n",
       "3   53        11th   Handlers-cleaners\n",
       "4   28   Bachelors      Prof-specialty"
      ]
     },
     "execution_count": 62,
     "metadata": {},
     "output_type": "execute_result"
    }
   ],
   "source": [
    "def strip_column(var):                       \n",
    "    AdInc3['newcolumn'] = var.apply(strip_wtsp)\n",
    "    AdInc3.var = AdInc3['newcolumn']    \n",
    "    \n",
    "    return\n",
    "\n",
    "strip_column(AdInc3['education'])                     # Strip whitespace from 'education' column\n",
    "strip_column(AdInc3['occupation'])                    # Strip whitespace from 'occupation' column\n",
    "\n",
    "AdInc3 = AdInc3.drop(['newcolumn'], axis=1)\n",
    "\n",
    "AdInc3.head()"
   ]
  },
  {
   "cell_type": "markdown",
   "id": "df6c00fa",
   "metadata": {},
   "source": [
    "Find the number of people who are aged between 30 and 50. "
   ]
  },
  {
   "cell_type": "code",
   "execution_count": 65,
   "id": "19ad6c35",
   "metadata": {},
   "outputs": [
    {
     "name": "stdout",
     "output_type": "stream",
     "text": [
      "There are  14927  people aged between 30 and 50.\n"
     ]
    }
   ],
   "source": [
    "Count = AdInc3[(30 < AdInc3['age']) & (AdInc3['age'] < 50)].count()['age']\n",
    "print('There are ', Count, ' people aged between 30 and 50.')"
   ]
  },
  {
   "cell_type": "markdown",
   "id": "681e72ed",
   "metadata": {},
   "source": [
    "Group the records based on age and education to find how the mean age is distributed. "
   ]
  },
  {
   "cell_type": "code",
   "execution_count": 66,
   "id": "b6e47290",
   "metadata": {},
   "outputs": [
    {
     "data": {
      "text/plain": [
       "education\n",
       " 10th            37.429796\n",
       " 11th            32.355745\n",
       " 12th            32.000000\n",
       " 1st-4th         46.142857\n",
       " 5th-6th         42.885886\n",
       " 7th-8th         48.445820\n",
       " 9th             41.060311\n",
       " Assoc-acdm      37.381443\n",
       " Assoc-voc       38.553546\n",
       " Bachelors       38.904949\n",
       " Doctorate       47.702179\n",
       " HS-grad         38.974479\n",
       " Masters         44.049913\n",
       " Preschool       42.764706\n",
       " Prof-school     44.746528\n",
       " Some-college    35.756275\n",
       "Name: age, dtype: float64"
      ]
     },
     "execution_count": 66,
     "metadata": {},
     "output_type": "execute_result"
    }
   ],
   "source": [
    "AdInc4 = AdInc3.groupby(['education'])['age'].mean()\n",
    "AdInc4"
   ]
  },
  {
   "cell_type": "markdown",
   "id": "8a6bace2",
   "metadata": {},
   "source": [
    "Group by occupation and show the summary statistics of age. Find which profession has the oldest workers on average and which profession has its largest share of the workforce above the 75th percentile. "
   ]
  },
  {
   "cell_type": "code",
   "execution_count": 67,
   "id": "ed552abf",
   "metadata": {},
   "outputs": [
    {
     "data": {
      "text/html": [
       "<div>\n",
       "<style scoped>\n",
       "    .dataframe tbody tr th:only-of-type {\n",
       "        vertical-align: middle;\n",
       "    }\n",
       "\n",
       "    .dataframe tbody tr th {\n",
       "        vertical-align: top;\n",
       "    }\n",
       "\n",
       "    .dataframe thead th {\n",
       "        text-align: right;\n",
       "    }\n",
       "</style>\n",
       "<table border=\"1\" class=\"dataframe\">\n",
       "  <thead>\n",
       "    <tr style=\"text-align: right;\">\n",
       "      <th></th>\n",
       "      <th>count</th>\n",
       "      <th>mean</th>\n",
       "      <th>std</th>\n",
       "      <th>min</th>\n",
       "      <th>25%</th>\n",
       "      <th>50%</th>\n",
       "      <th>75%</th>\n",
       "      <th>max</th>\n",
       "    </tr>\n",
       "    <tr>\n",
       "      <th>occupation</th>\n",
       "      <th></th>\n",
       "      <th></th>\n",
       "      <th></th>\n",
       "      <th></th>\n",
       "      <th></th>\n",
       "      <th></th>\n",
       "      <th></th>\n",
       "      <th></th>\n",
       "    </tr>\n",
       "  </thead>\n",
       "  <tbody>\n",
       "    <tr>\n",
       "      <th>?</th>\n",
       "      <td>1843.0</td>\n",
       "      <td>40.882800</td>\n",
       "      <td>20.336350</td>\n",
       "      <td>17.0</td>\n",
       "      <td>21.0</td>\n",
       "      <td>35.0</td>\n",
       "      <td>61.0</td>\n",
       "      <td>90.0</td>\n",
       "    </tr>\n",
       "    <tr>\n",
       "      <th>Adm-clerical</th>\n",
       "      <td>3770.0</td>\n",
       "      <td>36.964456</td>\n",
       "      <td>13.362998</td>\n",
       "      <td>17.0</td>\n",
       "      <td>26.0</td>\n",
       "      <td>35.0</td>\n",
       "      <td>46.0</td>\n",
       "      <td>90.0</td>\n",
       "    </tr>\n",
       "    <tr>\n",
       "      <th>Armed-Forces</th>\n",
       "      <td>9.0</td>\n",
       "      <td>30.222222</td>\n",
       "      <td>8.089774</td>\n",
       "      <td>23.0</td>\n",
       "      <td>24.0</td>\n",
       "      <td>29.0</td>\n",
       "      <td>34.0</td>\n",
       "      <td>46.0</td>\n",
       "    </tr>\n",
       "    <tr>\n",
       "      <th>Craft-repair</th>\n",
       "      <td>4099.0</td>\n",
       "      <td>39.031471</td>\n",
       "      <td>11.606436</td>\n",
       "      <td>17.0</td>\n",
       "      <td>30.0</td>\n",
       "      <td>38.0</td>\n",
       "      <td>47.0</td>\n",
       "      <td>90.0</td>\n",
       "    </tr>\n",
       "    <tr>\n",
       "      <th>Exec-managerial</th>\n",
       "      <td>4066.0</td>\n",
       "      <td>42.169208</td>\n",
       "      <td>11.974548</td>\n",
       "      <td>17.0</td>\n",
       "      <td>33.0</td>\n",
       "      <td>41.0</td>\n",
       "      <td>50.0</td>\n",
       "      <td>90.0</td>\n",
       "    </tr>\n",
       "    <tr>\n",
       "      <th>Farming-fishing</th>\n",
       "      <td>994.0</td>\n",
       "      <td>41.211268</td>\n",
       "      <td>15.070283</td>\n",
       "      <td>17.0</td>\n",
       "      <td>29.0</td>\n",
       "      <td>39.0</td>\n",
       "      <td>52.0</td>\n",
       "      <td>90.0</td>\n",
       "    </tr>\n",
       "    <tr>\n",
       "      <th>Handlers-cleaners</th>\n",
       "      <td>1370.0</td>\n",
       "      <td>32.165693</td>\n",
       "      <td>12.372635</td>\n",
       "      <td>17.0</td>\n",
       "      <td>23.0</td>\n",
       "      <td>29.0</td>\n",
       "      <td>39.0</td>\n",
       "      <td>90.0</td>\n",
       "    </tr>\n",
       "    <tr>\n",
       "      <th>Machine-op-inspct</th>\n",
       "      <td>2002.0</td>\n",
       "      <td>37.715285</td>\n",
       "      <td>12.068266</td>\n",
       "      <td>17.0</td>\n",
       "      <td>28.0</td>\n",
       "      <td>36.0</td>\n",
       "      <td>46.0</td>\n",
       "      <td>90.0</td>\n",
       "    </tr>\n",
       "    <tr>\n",
       "      <th>Other-service</th>\n",
       "      <td>3295.0</td>\n",
       "      <td>34.949621</td>\n",
       "      <td>14.521508</td>\n",
       "      <td>17.0</td>\n",
       "      <td>22.0</td>\n",
       "      <td>32.0</td>\n",
       "      <td>45.0</td>\n",
       "      <td>90.0</td>\n",
       "    </tr>\n",
       "    <tr>\n",
       "      <th>Priv-house-serv</th>\n",
       "      <td>149.0</td>\n",
       "      <td>41.724832</td>\n",
       "      <td>18.633688</td>\n",
       "      <td>17.0</td>\n",
       "      <td>24.0</td>\n",
       "      <td>40.0</td>\n",
       "      <td>57.0</td>\n",
       "      <td>81.0</td>\n",
       "    </tr>\n",
       "    <tr>\n",
       "      <th>Prof-specialty</th>\n",
       "      <td>4140.0</td>\n",
       "      <td>40.517633</td>\n",
       "      <td>12.016676</td>\n",
       "      <td>17.0</td>\n",
       "      <td>31.0</td>\n",
       "      <td>40.0</td>\n",
       "      <td>48.0</td>\n",
       "      <td>90.0</td>\n",
       "    </tr>\n",
       "    <tr>\n",
       "      <th>Protective-serv</th>\n",
       "      <td>649.0</td>\n",
       "      <td>38.953775</td>\n",
       "      <td>12.822062</td>\n",
       "      <td>17.0</td>\n",
       "      <td>29.0</td>\n",
       "      <td>36.0</td>\n",
       "      <td>47.0</td>\n",
       "      <td>90.0</td>\n",
       "    </tr>\n",
       "    <tr>\n",
       "      <th>Sales</th>\n",
       "      <td>3650.0</td>\n",
       "      <td>37.353973</td>\n",
       "      <td>14.186352</td>\n",
       "      <td>17.0</td>\n",
       "      <td>25.0</td>\n",
       "      <td>35.0</td>\n",
       "      <td>47.0</td>\n",
       "      <td>90.0</td>\n",
       "    </tr>\n",
       "    <tr>\n",
       "      <th>Tech-support</th>\n",
       "      <td>928.0</td>\n",
       "      <td>37.022629</td>\n",
       "      <td>11.316594</td>\n",
       "      <td>17.0</td>\n",
       "      <td>28.0</td>\n",
       "      <td>36.0</td>\n",
       "      <td>44.0</td>\n",
       "      <td>73.0</td>\n",
       "    </tr>\n",
       "    <tr>\n",
       "      <th>Transport-moving</th>\n",
       "      <td>1597.0</td>\n",
       "      <td>40.197871</td>\n",
       "      <td>12.450792</td>\n",
       "      <td>17.0</td>\n",
       "      <td>30.0</td>\n",
       "      <td>39.0</td>\n",
       "      <td>49.0</td>\n",
       "      <td>90.0</td>\n",
       "    </tr>\n",
       "  </tbody>\n",
       "</table>\n",
       "</div>"
      ],
      "text/plain": [
       "                     count       mean        std   min   25%   50%   75%   max\n",
       "occupation                                                                    \n",
       " ?                  1843.0  40.882800  20.336350  17.0  21.0  35.0  61.0  90.0\n",
       " Adm-clerical       3770.0  36.964456  13.362998  17.0  26.0  35.0  46.0  90.0\n",
       " Armed-Forces          9.0  30.222222   8.089774  23.0  24.0  29.0  34.0  46.0\n",
       " Craft-repair       4099.0  39.031471  11.606436  17.0  30.0  38.0  47.0  90.0\n",
       " Exec-managerial    4066.0  42.169208  11.974548  17.0  33.0  41.0  50.0  90.0\n",
       " Farming-fishing     994.0  41.211268  15.070283  17.0  29.0  39.0  52.0  90.0\n",
       " Handlers-cleaners  1370.0  32.165693  12.372635  17.0  23.0  29.0  39.0  90.0\n",
       " Machine-op-inspct  2002.0  37.715285  12.068266  17.0  28.0  36.0  46.0  90.0\n",
       " Other-service      3295.0  34.949621  14.521508  17.0  22.0  32.0  45.0  90.0\n",
       " Priv-house-serv     149.0  41.724832  18.633688  17.0  24.0  40.0  57.0  81.0\n",
       " Prof-specialty     4140.0  40.517633  12.016676  17.0  31.0  40.0  48.0  90.0\n",
       " Protective-serv     649.0  38.953775  12.822062  17.0  29.0  36.0  47.0  90.0\n",
       " Sales              3650.0  37.353973  14.186352  17.0  25.0  35.0  47.0  90.0\n",
       " Tech-support        928.0  37.022629  11.316594  17.0  28.0  36.0  44.0  73.0\n",
       " Transport-moving   1597.0  40.197871  12.450792  17.0  30.0  39.0  49.0  90.0"
      ]
     },
     "execution_count": 67,
     "metadata": {},
     "output_type": "execute_result"
    }
   ],
   "source": [
    "AdInc3.groupby(['occupation'])['age'].describe()"
   ]
  },
  {
   "cell_type": "markdown",
   "id": "c144bd1f",
   "metadata": {},
   "source": [
    "Use subset and groupby to find outliers. "
   ]
  },
  {
   "cell_type": "code",
   "execution_count": 68,
   "id": "a7314a95",
   "metadata": {},
   "outputs": [],
   "source": [
    "occup_stats= AdInc3.groupby( 'occupation').describe()['age']"
   ]
  },
  {
   "cell_type": "markdown",
   "id": "92675a78",
   "metadata": {},
   "source": [
    "Plot the values on a bar chart. "
   ]
  },
  {
   "cell_type": "code",
   "execution_count": 70,
   "id": "c48689e4",
   "metadata": {},
   "outputs": [
    {
     "data": {
      "image/png": "[encoded data removed]",
      "text/plain": [
       "<Figure size 1080x576 with 1 Axes>"
      ]
     },
     "metadata": {
      "needs_background": "light"
     },
     "output_type": "display_data"
    }
   ],
   "source": [
    "plt.figure(figsize=(15,8)) \n",
    "plt.barh(y=occup_stats.index,width=occup_stats['count']) \n",
    "plt.yticks(fontsize=13) \n",
    "plt.show()"
   ]
  },
  {
   "cell_type": "markdown",
   "id": "f71867ac",
   "metadata": {},
   "source": [
    "Merge the data using common keys."
   ]
  },
  {
   "cell_type": "code",
   "execution_count": 73,
   "id": "f9c3bb9f",
   "metadata": {},
   "outputs": [
    {
     "data": {
      "text/html": [
       "<div>\n",
       "<style scoped>\n",
       "    .dataframe tbody tr th:only-of-type {\n",
       "        vertical-align: middle;\n",
       "    }\n",
       "\n",
       "    .dataframe tbody tr th {\n",
       "        vertical-align: top;\n",
       "    }\n",
       "\n",
       "    .dataframe thead th {\n",
       "        text-align: right;\n",
       "    }\n",
       "</style>\n",
       "<table border=\"1\" class=\"dataframe\">\n",
       "  <thead>\n",
       "    <tr style=\"text-align: right;\">\n",
       "      <th></th>\n",
       "      <th>age</th>\n",
       "      <th>education</th>\n",
       "      <th>occupation</th>\n",
       "    </tr>\n",
       "  </thead>\n",
       "  <tbody>\n",
       "    <tr>\n",
       "      <th>22357</th>\n",
       "      <td>51</td>\n",
       "      <td>HS-grad</td>\n",
       "      <td>Machine-op-inspct</td>\n",
       "    </tr>\n",
       "    <tr>\n",
       "      <th>26009</th>\n",
       "      <td>19</td>\n",
       "      <td>11th</td>\n",
       "      <td>Sales</td>\n",
       "    </tr>\n",
       "    <tr>\n",
       "      <th>20734</th>\n",
       "      <td>40</td>\n",
       "      <td>HS-grad</td>\n",
       "      <td>Exec-managerial</td>\n",
       "    </tr>\n",
       "    <tr>\n",
       "      <th>17695</th>\n",
       "      <td>17</td>\n",
       "      <td>10th</td>\n",
       "      <td>Handlers-cleaners</td>\n",
       "    </tr>\n",
       "    <tr>\n",
       "      <th>27908</th>\n",
       "      <td>61</td>\n",
       "      <td>7th-8th</td>\n",
       "      <td>Craft-repair</td>\n",
       "    </tr>\n",
       "  </tbody>\n",
       "</table>\n",
       "</div>"
      ],
      "text/plain": [
       "       age education          occupation\n",
       "22357   51   HS-grad   Machine-op-inspct\n",
       "26009   19      11th               Sales\n",
       "20734   40   HS-grad     Exec-managerial\n",
       "17695   17      10th   Handlers-cleaners\n",
       "27908   61   7th-8th        Craft-repair"
      ]
     },
     "execution_count": 73,
     "metadata": {},
     "output_type": "execute_result"
    }
   ],
   "source": [
    "AdInc5 = AdInc2[['age', 'education', 'occupation']].sample(5, random_state=101)\n",
    "AdInc5.head()"
   ]
  },
  {
   "cell_type": "code",
   "execution_count": 72,
   "id": "54e10fc7",
   "metadata": {},
   "outputs": [
    {
     "data": {
      "text/html": [
       "<div>\n",
       "<style scoped>\n",
       "    .dataframe tbody tr th:only-of-type {\n",
       "        vertical-align: middle;\n",
       "    }\n",
       "\n",
       "    .dataframe tbody tr th {\n",
       "        vertical-align: top;\n",
       "    }\n",
       "\n",
       "    .dataframe thead th {\n",
       "        text-align: right;\n",
       "    }\n",
       "</style>\n",
       "<table border=\"1\" class=\"dataframe\">\n",
       "  <thead>\n",
       "    <tr style=\"text-align: right;\">\n",
       "      <th></th>\n",
       "      <th>age</th>\n",
       "      <th>marital-status</th>\n",
       "      <th>native-country</th>\n",
       "    </tr>\n",
       "  </thead>\n",
       "  <tbody>\n",
       "    <tr>\n",
       "      <th>22357</th>\n",
       "      <td>51</td>\n",
       "      <td>Married-civ-spouse</td>\n",
       "      <td>United-States</td>\n",
       "    </tr>\n",
       "    <tr>\n",
       "      <th>26009</th>\n",
       "      <td>19</td>\n",
       "      <td>Never-married</td>\n",
       "      <td>United-States</td>\n",
       "    </tr>\n",
       "    <tr>\n",
       "      <th>20734</th>\n",
       "      <td>40</td>\n",
       "      <td>Married-civ-spouse</td>\n",
       "      <td>United-States</td>\n",
       "    </tr>\n",
       "    <tr>\n",
       "      <th>17695</th>\n",
       "      <td>17</td>\n",
       "      <td>Never-married</td>\n",
       "      <td>United-States</td>\n",
       "    </tr>\n",
       "    <tr>\n",
       "      <th>27908</th>\n",
       "      <td>61</td>\n",
       "      <td>Married-civ-spouse</td>\n",
       "      <td>Poland</td>\n",
       "    </tr>\n",
       "  </tbody>\n",
       "</table>\n",
       "</div>"
      ],
      "text/plain": [
       "       age       marital-status  native-country\n",
       "22357   51   Married-civ-spouse   United-States\n",
       "26009   19        Never-married   United-States\n",
       "20734   40   Married-civ-spouse   United-States\n",
       "17695   17        Never-married   United-States\n",
       "27908   61   Married-civ-spouse          Poland"
      ]
     },
     "execution_count": 72,
     "metadata": {},
     "output_type": "execute_result"
    }
   ],
   "source": [
    "AdInc6 = AdInc2[['age', 'marital-status', 'native-country']].sample(5, random_state=101)\n",
    "AdInc6.head()"
   ]
  },
  {
   "cell_type": "code",
   "execution_count": 74,
   "id": "e29a8167",
   "metadata": {},
   "outputs": [
    {
     "data": {
      "text/html": [
       "<div>\n",
       "<style scoped>\n",
       "    .dataframe tbody tr th:only-of-type {\n",
       "        vertical-align: middle;\n",
       "    }\n",
       "\n",
       "    .dataframe tbody tr th {\n",
       "        vertical-align: top;\n",
       "    }\n",
       "\n",
       "    .dataframe thead th {\n",
       "        text-align: right;\n",
       "    }\n",
       "</style>\n",
       "<table border=\"1\" class=\"dataframe\">\n",
       "  <thead>\n",
       "    <tr style=\"text-align: right;\">\n",
       "      <th></th>\n",
       "      <th>age</th>\n",
       "      <th>education</th>\n",
       "      <th>occupation</th>\n",
       "      <th>marital-status</th>\n",
       "      <th>native-country</th>\n",
       "    </tr>\n",
       "  </thead>\n",
       "  <tbody>\n",
       "    <tr>\n",
       "      <th>0</th>\n",
       "      <td>51</td>\n",
       "      <td>HS-grad</td>\n",
       "      <td>Machine-op-inspct</td>\n",
       "      <td>Married-civ-spouse</td>\n",
       "      <td>United-States</td>\n",
       "    </tr>\n",
       "    <tr>\n",
       "      <th>1</th>\n",
       "      <td>19</td>\n",
       "      <td>11th</td>\n",
       "      <td>Sales</td>\n",
       "      <td>Never-married</td>\n",
       "      <td>United-States</td>\n",
       "    </tr>\n",
       "    <tr>\n",
       "      <th>2</th>\n",
       "      <td>40</td>\n",
       "      <td>HS-grad</td>\n",
       "      <td>Exec-managerial</td>\n",
       "      <td>Married-civ-spouse</td>\n",
       "      <td>United-States</td>\n",
       "    </tr>\n",
       "    <tr>\n",
       "      <th>3</th>\n",
       "      <td>17</td>\n",
       "      <td>10th</td>\n",
       "      <td>Handlers-cleaners</td>\n",
       "      <td>Never-married</td>\n",
       "      <td>United-States</td>\n",
       "    </tr>\n",
       "    <tr>\n",
       "      <th>4</th>\n",
       "      <td>61</td>\n",
       "      <td>7th-8th</td>\n",
       "      <td>Craft-repair</td>\n",
       "      <td>Married-civ-spouse</td>\n",
       "      <td>Poland</td>\n",
       "    </tr>\n",
       "  </tbody>\n",
       "</table>\n",
       "</div>"
      ],
      "text/plain": [
       "   age education          occupation       marital-status  native-country\n",
       "0   51   HS-grad   Machine-op-inspct   Married-civ-spouse   United-States\n",
       "1   19      11th               Sales        Never-married   United-States\n",
       "2   40   HS-grad     Exec-managerial   Married-civ-spouse   United-States\n",
       "3   17      10th   Handlers-cleaners        Never-married   United-States\n",
       "4   61   7th-8th        Craft-repair   Married-civ-spouse          Poland"
      ]
     },
     "execution_count": 74,
     "metadata": {},
     "output_type": "execute_result"
    }
   ],
   "source": [
    "AdInc_merge = pd.merge(AdInc5, AdInc6, on='age', how='inner') \n",
    "AdInc_merge"
   ]
  },
  {
   "cell_type": "markdown",
   "id": "9dac3f98",
   "metadata": {},
   "source": [
    "\n",
    "### 3. Create a series and practice basic arithmetic steps"
   ]
  },
  {
   "cell_type": "markdown",
   "id": "d07a8ecb",
   "metadata": {},
   "source": [
    "a. Series 1 = 7.3, -2.5, 3.4, 1.5\n",
    "i. Index = ‘a’, ‘c’, ‘d’, ‘e’"
   ]
  },
  {
   "cell_type": "code",
   "execution_count": 78,
   "id": "f507dd46",
   "metadata": {},
   "outputs": [
    {
     "name": "stdout",
     "output_type": "stream",
     "text": [
      "a    7.3\n",
      "c   -2.5\n",
      "d    3.4\n",
      "e    1.5\n",
      "dtype: float64\n"
     ]
    }
   ],
   "source": [
    "data1 = [7.3, -2.5, 3.4, 1.5]\n",
    "index1 = ['a', 'c', 'd', 'e']\n",
    "\n",
    "series1 = pd.Series(data=data1, index=index1)\n",
    "print(series1)"
   ]
  },
  {
   "cell_type": "markdown",
   "id": "26cad286",
   "metadata": {},
   "source": [
    "b. Series 2 = -2.1, 3.6, -1.5, 4, 3.1\n",
    "i. Index = ‘a’, ‘c’, ‘e’, ‘f’, ‘g’"
   ]
  },
  {
   "cell_type": "code",
   "execution_count": 79,
   "id": "2c12aff2",
   "metadata": {},
   "outputs": [
    {
     "name": "stdout",
     "output_type": "stream",
     "text": [
      "a   -2.1\n",
      "c    3.6\n",
      "e   -1.5\n",
      "f    4.0\n",
      "g    3.1\n",
      "dtype: float64\n"
     ]
    }
   ],
   "source": [
    "data2 = [-2.1, 3.6, -1.5, 4, 3.1]\n",
    "index2 = ['a', 'c', 'e', 'f', 'g']\n",
    "\n",
    "series2 = pd.Series(data=data2, index=index2)\n",
    "print(series2)"
   ]
  },
  {
   "cell_type": "markdown",
   "id": "4d57025b",
   "metadata": {},
   "source": [
    "c. Add Series 1 and Series 2 together and print the results"
   ]
  },
  {
   "cell_type": "code",
   "execution_count": 80,
   "id": "26230744",
   "metadata": {},
   "outputs": [
    {
     "name": "stdout",
     "output_type": "stream",
     "text": [
      "a    5.2\n",
      "c    1.1\n",
      "d    NaN\n",
      "e    0.0\n",
      "f    NaN\n",
      "g    NaN\n",
      "dtype: float64\n"
     ]
    }
   ],
   "source": [
    "series_sum = series1 + series2\n",
    "print(series_sum)"
   ]
  },
  {
   "cell_type": "markdown",
   "id": "7e8282c8",
   "metadata": {},
   "source": [
    "d. Subtract Series 1 from Series 2 and print the results"
   ]
  },
  {
   "cell_type": "code",
   "execution_count": 81,
   "id": "23498049",
   "metadata": {},
   "outputs": [
    {
     "name": "stdout",
     "output_type": "stream",
     "text": [
      "a   -9.4\n",
      "c    6.1\n",
      "d    NaN\n",
      "e   -3.0\n",
      "f    NaN\n",
      "g    NaN\n",
      "dtype: float64\n"
     ]
    }
   ],
   "source": [
    "series_substract = series2 - series1\n",
    "print(series_substract)"
   ]
  }
 ],
 "metadata": {
  "kernelspec": {
   "display_name": "Python 3",
   "language": "python",
   "name": "python3"
  },
  "language_info": {
   "codemirror_mode": {
    "name": "ipython",
    "version": 3
   },
   "file_extension": ".py",
   "mimetype": "text/x-python",
   "name": "python",
   "nbconvert_exporter": "python",
   "pygments_lexer": "ipython3",
   "version": "3.8.8"
  }
 },
 "nbformat": 4,
 "nbformat_minor": 5
}
